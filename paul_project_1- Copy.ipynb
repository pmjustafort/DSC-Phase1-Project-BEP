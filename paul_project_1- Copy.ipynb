{
 "cells": [
  {
   "cell_type": "code",
   "execution_count": 33,
   "metadata": {},
   "outputs": [],
   "source": [
    "##Project 1 JN"
   ]
  },
  {
   "cell_type": "code",
   "execution_count": null,
   "metadata": {},
   "outputs": [],
   "source": []
  },
  {
   "cell_type": "markdown",
   "metadata": {},
   "source": [
    "#Most interested in:\n",
    "\"\"\"\"\n",
    "* Event Date - have certain planes become safer over the years?\n",
    "* Purpose of Flight - are certain purposes more dangerous than others?\n",
    "* Injury Severity - how severe were the injuries?\n",
    "* Aircraft damage - how severe were the planes damaged?\n",
    "* All columns related to injuries - most important factor is human lives, how do they fare in accidents?\n",
    "* Weather Condition - what type of weather has been involved with crashes?\n",
    "* Broad Phase of Flight - do certain planes not fare well in specific phases of flight?\n",
    "* Report Status - do certain planes tend to have fault on the plane themselves?\n",
    "\n",
    "\n",
    "Thoughts:\n",
    "* Can we show that there are planes that have been in bad crashes but with minimal injuries or fatalaties? \n",
    "    If so, shows that plan is safe in the case of an accident.\n",
    "* Do certain planes fare better than others in Weather Conditions?\n",
    "\n",
    "Initial Tasks:\n",
    "* DONE --- standardize column names\n",
    "* DONE --- change date column to date format\n",
    "* DONE --- change Inj cols with values like \"Fatal(2)\" to 'Fatal' b/c # fatal is taken care of in Total.Fatal.Injuries\n",
    "* IN PROGRESS --- Analyze how many Null vales we have and decide how to handle\n",
    "\n",
    "Possible Recommendations:\n",
    "* which type of aircraft is safest (back it up with data related to #injuries/fatalaties and any growth in safety over time)\n",
    "* which locations seem safer (see if there are areas that are more dangerous potentially due to weather)\n",
    "* which purpose of flight tends to be safer (see if correlation between crashes and personal or commercial)\n",
    "\n",
    "\"\"\""
   ]
  },
  {
   "cell_type": "code",
   "execution_count": 102,
   "metadata": {},
   "outputs": [],
   "source": [
    "#import libraries\n",
    "import pandas as pd\n",
    "import numpy as np\n",
    "import matplotlib.pyplot as plt\n",
    "import seaborn as sns"
   ]
  },
  {
   "cell_type": "code",
   "execution_count": 103,
   "metadata": {},
   "outputs": [
    {
     "name": "stderr",
     "output_type": "stream",
     "text": [
      "/Users/pmjustafort/anaconda3/envs/learn-env/lib/python3.8/site-packages/IPython/core/interactiveshell.py:3145: DtypeWarning: Columns (6,7,28) have mixed types.Specify dtype option on import or set low_memory=False.\n",
      "  has_raised = await self.run_ast_nodes(code_ast.body, cell_name,\n"
     ]
    }
   ],
   "source": [
    "#import data and save to df\n",
    "aviation_df = pd.read_csv('Data/Aviation_Data.csv')\n",
    "state_codes_df = pd.read_csv('Data/USState_Codes.csv')"
   ]
  },
  {
   "cell_type": "code",
   "execution_count": 104,
   "metadata": {},
   "outputs": [],
   "source": [
    "#Standardize column names\n",
    "aviation_df = aviation_df.rename(columns = lambda x: x.replace(\".\", \"_\").lower())\n",
    "\n",
    "#Convert event_date column to timestamp type\n",
    "aviation_df['event_date'] = pd.to_datetime(aviation_df['event_date'])"
   ]
  },
  {
   "cell_type": "code",
   "execution_count": 105,
   "metadata": {},
   "outputs": [
    {
     "data": {
      "text/html": [
       "<div>\n",
       "<style scoped>\n",
       "    .dataframe tbody tr th:only-of-type {\n",
       "        vertical-align: middle;\n",
       "    }\n",
       "\n",
       "    .dataframe tbody tr th {\n",
       "        vertical-align: top;\n",
       "    }\n",
       "\n",
       "    .dataframe thead th {\n",
       "        text-align: right;\n",
       "    }\n",
       "</style>\n",
       "<table border=\"1\" class=\"dataframe\">\n",
       "  <thead>\n",
       "    <tr style=\"text-align: right;\">\n",
       "      <th></th>\n",
       "      <th>event_id</th>\n",
       "      <th>investigation_type</th>\n",
       "      <th>accident_number</th>\n",
       "      <th>event_date</th>\n",
       "      <th>location</th>\n",
       "      <th>country</th>\n",
       "      <th>latitude</th>\n",
       "      <th>longitude</th>\n",
       "      <th>airport_code</th>\n",
       "      <th>airport_name</th>\n",
       "      <th>...</th>\n",
       "      <th>purpose_of_flight</th>\n",
       "      <th>air_carrier</th>\n",
       "      <th>total_fatal_injuries</th>\n",
       "      <th>total_serious_injuries</th>\n",
       "      <th>total_minor_injuries</th>\n",
       "      <th>total_uninjured</th>\n",
       "      <th>weather_condition</th>\n",
       "      <th>broad_phase_of_flight</th>\n",
       "      <th>report_status</th>\n",
       "      <th>publication_date</th>\n",
       "    </tr>\n",
       "  </thead>\n",
       "  <tbody>\n",
       "    <tr>\n",
       "      <th>0</th>\n",
       "      <td>20001218X45444</td>\n",
       "      <td>Accident</td>\n",
       "      <td>SEA87LA080</td>\n",
       "      <td>1948-10-24</td>\n",
       "      <td>MOOSE CREEK, ID</td>\n",
       "      <td>United States</td>\n",
       "      <td>NaN</td>\n",
       "      <td>NaN</td>\n",
       "      <td>NaN</td>\n",
       "      <td>NaN</td>\n",
       "      <td>...</td>\n",
       "      <td>Personal</td>\n",
       "      <td>NaN</td>\n",
       "      <td>2.0</td>\n",
       "      <td>0.0</td>\n",
       "      <td>0.0</td>\n",
       "      <td>0.0</td>\n",
       "      <td>UNK</td>\n",
       "      <td>Cruise</td>\n",
       "      <td>Probable Cause</td>\n",
       "      <td>NaN</td>\n",
       "    </tr>\n",
       "    <tr>\n",
       "      <th>1</th>\n",
       "      <td>20001218X45447</td>\n",
       "      <td>Accident</td>\n",
       "      <td>LAX94LA336</td>\n",
       "      <td>1962-07-19</td>\n",
       "      <td>BRIDGEPORT, CA</td>\n",
       "      <td>United States</td>\n",
       "      <td>NaN</td>\n",
       "      <td>NaN</td>\n",
       "      <td>NaN</td>\n",
       "      <td>NaN</td>\n",
       "      <td>...</td>\n",
       "      <td>Personal</td>\n",
       "      <td>NaN</td>\n",
       "      <td>4.0</td>\n",
       "      <td>0.0</td>\n",
       "      <td>0.0</td>\n",
       "      <td>0.0</td>\n",
       "      <td>UNK</td>\n",
       "      <td>Unknown</td>\n",
       "      <td>Probable Cause</td>\n",
       "      <td>19-09-1996</td>\n",
       "    </tr>\n",
       "    <tr>\n",
       "      <th>2</th>\n",
       "      <td>20061025X01555</td>\n",
       "      <td>Accident</td>\n",
       "      <td>NYC07LA005</td>\n",
       "      <td>1974-08-30</td>\n",
       "      <td>Saltville, VA</td>\n",
       "      <td>United States</td>\n",
       "      <td>36.9222</td>\n",
       "      <td>-81.8781</td>\n",
       "      <td>NaN</td>\n",
       "      <td>NaN</td>\n",
       "      <td>...</td>\n",
       "      <td>Personal</td>\n",
       "      <td>NaN</td>\n",
       "      <td>3.0</td>\n",
       "      <td>NaN</td>\n",
       "      <td>NaN</td>\n",
       "      <td>NaN</td>\n",
       "      <td>IMC</td>\n",
       "      <td>Cruise</td>\n",
       "      <td>Probable Cause</td>\n",
       "      <td>26-02-2007</td>\n",
       "    </tr>\n",
       "    <tr>\n",
       "      <th>3</th>\n",
       "      <td>20001218X45448</td>\n",
       "      <td>Accident</td>\n",
       "      <td>LAX96LA321</td>\n",
       "      <td>1977-06-19</td>\n",
       "      <td>EUREKA, CA</td>\n",
       "      <td>United States</td>\n",
       "      <td>NaN</td>\n",
       "      <td>NaN</td>\n",
       "      <td>NaN</td>\n",
       "      <td>NaN</td>\n",
       "      <td>...</td>\n",
       "      <td>Personal</td>\n",
       "      <td>NaN</td>\n",
       "      <td>2.0</td>\n",
       "      <td>0.0</td>\n",
       "      <td>0.0</td>\n",
       "      <td>0.0</td>\n",
       "      <td>IMC</td>\n",
       "      <td>Cruise</td>\n",
       "      <td>Probable Cause</td>\n",
       "      <td>12-09-2000</td>\n",
       "    </tr>\n",
       "    <tr>\n",
       "      <th>4</th>\n",
       "      <td>20041105X01764</td>\n",
       "      <td>Accident</td>\n",
       "      <td>CHI79FA064</td>\n",
       "      <td>1979-08-02</td>\n",
       "      <td>Canton, OH</td>\n",
       "      <td>United States</td>\n",
       "      <td>NaN</td>\n",
       "      <td>NaN</td>\n",
       "      <td>NaN</td>\n",
       "      <td>NaN</td>\n",
       "      <td>...</td>\n",
       "      <td>Personal</td>\n",
       "      <td>NaN</td>\n",
       "      <td>1.0</td>\n",
       "      <td>2.0</td>\n",
       "      <td>NaN</td>\n",
       "      <td>0.0</td>\n",
       "      <td>VMC</td>\n",
       "      <td>Approach</td>\n",
       "      <td>Probable Cause</td>\n",
       "      <td>16-04-1980</td>\n",
       "    </tr>\n",
       "  </tbody>\n",
       "</table>\n",
       "<p>5 rows × 31 columns</p>\n",
       "</div>"
      ],
      "text/plain": [
       "         event_id investigation_type accident_number event_date  \\\n",
       "0  20001218X45444           Accident      SEA87LA080 1948-10-24   \n",
       "1  20001218X45447           Accident      LAX94LA336 1962-07-19   \n",
       "2  20061025X01555           Accident      NYC07LA005 1974-08-30   \n",
       "3  20001218X45448           Accident      LAX96LA321 1977-06-19   \n",
       "4  20041105X01764           Accident      CHI79FA064 1979-08-02   \n",
       "\n",
       "          location        country latitude longitude airport_code  \\\n",
       "0  MOOSE CREEK, ID  United States      NaN       NaN          NaN   \n",
       "1   BRIDGEPORT, CA  United States      NaN       NaN          NaN   \n",
       "2    Saltville, VA  United States  36.9222  -81.8781          NaN   \n",
       "3       EUREKA, CA  United States      NaN       NaN          NaN   \n",
       "4       Canton, OH  United States      NaN       NaN          NaN   \n",
       "\n",
       "  airport_name  ... purpose_of_flight air_carrier total_fatal_injuries  \\\n",
       "0          NaN  ...          Personal         NaN                  2.0   \n",
       "1          NaN  ...          Personal         NaN                  4.0   \n",
       "2          NaN  ...          Personal         NaN                  3.0   \n",
       "3          NaN  ...          Personal         NaN                  2.0   \n",
       "4          NaN  ...          Personal         NaN                  1.0   \n",
       "\n",
       "  total_serious_injuries total_minor_injuries total_uninjured  \\\n",
       "0                    0.0                  0.0             0.0   \n",
       "1                    0.0                  0.0             0.0   \n",
       "2                    NaN                  NaN             NaN   \n",
       "3                    0.0                  0.0             0.0   \n",
       "4                    2.0                  NaN             0.0   \n",
       "\n",
       "  weather_condition  broad_phase_of_flight   report_status publication_date  \n",
       "0               UNK                 Cruise  Probable Cause              NaN  \n",
       "1               UNK                Unknown  Probable Cause       19-09-1996  \n",
       "2               IMC                 Cruise  Probable Cause       26-02-2007  \n",
       "3               IMC                 Cruise  Probable Cause       12-09-2000  \n",
       "4               VMC               Approach  Probable Cause       16-04-1980  \n",
       "\n",
       "[5 rows x 31 columns]"
      ]
     },
     "execution_count": 105,
     "metadata": {},
     "output_type": "execute_result"
    }
   ],
   "source": [
    "aviation_df.head()"
   ]
  },
  {
   "cell_type": "code",
   "execution_count": 106,
   "metadata": {},
   "outputs": [
    {
     "name": "stdout",
     "output_type": "stream",
     "text": [
      "<class 'pandas.core.frame.DataFrame'>\n",
      "RangeIndex: 90348 entries, 0 to 90347\n",
      "Data columns (total 31 columns):\n",
      " #   Column                  Non-Null Count  Dtype         \n",
      "---  ------                  --------------  -----         \n",
      " 0   event_id                88889 non-null  object        \n",
      " 1   investigation_type      90348 non-null  object        \n",
      " 2   accident_number         88889 non-null  object        \n",
      " 3   event_date              88889 non-null  datetime64[ns]\n",
      " 4   location                88837 non-null  object        \n",
      " 5   country                 88663 non-null  object        \n",
      " 6   latitude                34382 non-null  object        \n",
      " 7   longitude               34373 non-null  object        \n",
      " 8   airport_code            50249 non-null  object        \n",
      " 9   airport_name            52790 non-null  object        \n",
      " 10  injury_severity         87889 non-null  object        \n",
      " 11  aircraft_damage         85695 non-null  object        \n",
      " 12  aircraft_category       32287 non-null  object        \n",
      " 13  registration_number     87572 non-null  object        \n",
      " 14  make                    88826 non-null  object        \n",
      " 15  model                   88797 non-null  object        \n",
      " 16  amateur_built           88787 non-null  object        \n",
      " 17  number_of_engines       82805 non-null  float64       \n",
      " 18  engine_type             81812 non-null  object        \n",
      " 19  far_description         32023 non-null  object        \n",
      " 20  schedule                12582 non-null  object        \n",
      " 21  purpose_of_flight       82697 non-null  object        \n",
      " 22  air_carrier             16648 non-null  object        \n",
      " 23  total_fatal_injuries    77488 non-null  float64       \n",
      " 24  total_serious_injuries  76379 non-null  float64       \n",
      " 25  total_minor_injuries    76956 non-null  float64       \n",
      " 26  total_uninjured         82977 non-null  float64       \n",
      " 27  weather_condition       84397 non-null  object        \n",
      " 28  broad_phase_of_flight   61724 non-null  object        \n",
      " 29  report_status           82508 non-null  object        \n",
      " 30  publication_date        73659 non-null  object        \n",
      "dtypes: datetime64[ns](1), float64(5), object(25)\n",
      "memory usage: 21.4+ MB\n"
     ]
    }
   ],
   "source": [
    "aviation_df.info()"
   ]
  },
  {
   "cell_type": "code",
   "execution_count": 107,
   "metadata": {},
   "outputs": [
    {
     "data": {
      "text/html": [
       "<div>\n",
       "<style scoped>\n",
       "    .dataframe tbody tr th:only-of-type {\n",
       "        vertical-align: middle;\n",
       "    }\n",
       "\n",
       "    .dataframe tbody tr th {\n",
       "        vertical-align: top;\n",
       "    }\n",
       "\n",
       "    .dataframe thead th {\n",
       "        text-align: right;\n",
       "    }\n",
       "</style>\n",
       "<table border=\"1\" class=\"dataframe\">\n",
       "  <thead>\n",
       "    <tr style=\"text-align: right;\">\n",
       "      <th></th>\n",
       "      <th>number_of_engines</th>\n",
       "      <th>total_fatal_injuries</th>\n",
       "      <th>total_serious_injuries</th>\n",
       "      <th>total_minor_injuries</th>\n",
       "      <th>total_uninjured</th>\n",
       "    </tr>\n",
       "  </thead>\n",
       "  <tbody>\n",
       "    <tr>\n",
       "      <th>count</th>\n",
       "      <td>82805.000000</td>\n",
       "      <td>77488.000000</td>\n",
       "      <td>76379.000000</td>\n",
       "      <td>76956.000000</td>\n",
       "      <td>82977.000000</td>\n",
       "    </tr>\n",
       "    <tr>\n",
       "      <th>mean</th>\n",
       "      <td>1.146585</td>\n",
       "      <td>0.647855</td>\n",
       "      <td>0.279881</td>\n",
       "      <td>0.357061</td>\n",
       "      <td>5.325440</td>\n",
       "    </tr>\n",
       "    <tr>\n",
       "      <th>std</th>\n",
       "      <td>0.446510</td>\n",
       "      <td>5.485960</td>\n",
       "      <td>1.544084</td>\n",
       "      <td>2.235625</td>\n",
       "      <td>27.913634</td>\n",
       "    </tr>\n",
       "    <tr>\n",
       "      <th>min</th>\n",
       "      <td>0.000000</td>\n",
       "      <td>0.000000</td>\n",
       "      <td>0.000000</td>\n",
       "      <td>0.000000</td>\n",
       "      <td>0.000000</td>\n",
       "    </tr>\n",
       "    <tr>\n",
       "      <th>25%</th>\n",
       "      <td>1.000000</td>\n",
       "      <td>0.000000</td>\n",
       "      <td>0.000000</td>\n",
       "      <td>0.000000</td>\n",
       "      <td>0.000000</td>\n",
       "    </tr>\n",
       "    <tr>\n",
       "      <th>50%</th>\n",
       "      <td>1.000000</td>\n",
       "      <td>0.000000</td>\n",
       "      <td>0.000000</td>\n",
       "      <td>0.000000</td>\n",
       "      <td>1.000000</td>\n",
       "    </tr>\n",
       "    <tr>\n",
       "      <th>75%</th>\n",
       "      <td>1.000000</td>\n",
       "      <td>0.000000</td>\n",
       "      <td>0.000000</td>\n",
       "      <td>0.000000</td>\n",
       "      <td>2.000000</td>\n",
       "    </tr>\n",
       "    <tr>\n",
       "      <th>max</th>\n",
       "      <td>8.000000</td>\n",
       "      <td>349.000000</td>\n",
       "      <td>161.000000</td>\n",
       "      <td>380.000000</td>\n",
       "      <td>699.000000</td>\n",
       "    </tr>\n",
       "  </tbody>\n",
       "</table>\n",
       "</div>"
      ],
      "text/plain": [
       "       number_of_engines  total_fatal_injuries  total_serious_injuries  \\\n",
       "count       82805.000000          77488.000000            76379.000000   \n",
       "mean            1.146585              0.647855                0.279881   \n",
       "std             0.446510              5.485960                1.544084   \n",
       "min             0.000000              0.000000                0.000000   \n",
       "25%             1.000000              0.000000                0.000000   \n",
       "50%             1.000000              0.000000                0.000000   \n",
       "75%             1.000000              0.000000                0.000000   \n",
       "max             8.000000            349.000000              161.000000   \n",
       "\n",
       "       total_minor_injuries  total_uninjured  \n",
       "count          76956.000000     82977.000000  \n",
       "mean               0.357061         5.325440  \n",
       "std                2.235625        27.913634  \n",
       "min                0.000000         0.000000  \n",
       "25%                0.000000         0.000000  \n",
       "50%                0.000000         1.000000  \n",
       "75%                0.000000         2.000000  \n",
       "max              380.000000       699.000000  "
      ]
     },
     "execution_count": 107,
     "metadata": {},
     "output_type": "execute_result"
    }
   ],
   "source": [
    "aviation_df.describe()"
   ]
  },
  {
   "cell_type": "code",
   "execution_count": 108,
   "metadata": {},
   "outputs": [
    {
     "data": {
      "text/plain": [
       "(90348, 31)"
      ]
     },
     "execution_count": 108,
     "metadata": {},
     "output_type": "execute_result"
    }
   ],
   "source": [
    "aviation_df.shape"
   ]
  },
  {
   "cell_type": "code",
   "execution_count": 109,
   "metadata": {},
   "outputs": [
    {
     "data": {
      "text/plain": [
       "0      Fatal(2)\n",
       "1      Fatal(4)\n",
       "2      Fatal(3)\n",
       "3      Fatal(2)\n",
       "4      Fatal(1)\n",
       "5     Non-Fatal\n",
       "6      Fatal(4)\n",
       "7     Non-Fatal\n",
       "8     Non-Fatal\n",
       "9     Non-Fatal\n",
       "10    Non-Fatal\n",
       "11    Non-Fatal\n",
       "12    Non-Fatal\n",
       "13     Fatal(1)\n",
       "14     Fatal(1)\n",
       "15     Fatal(2)\n",
       "16    Non-Fatal\n",
       "17     Fatal(3)\n",
       "18    Non-Fatal\n",
       "19    Non-Fatal\n",
       "20    Non-Fatal\n",
       "21    Non-Fatal\n",
       "22    Non-Fatal\n",
       "23     Incident\n",
       "24     Fatal(2)\n",
       "25     Fatal(8)\n",
       "26     Fatal(1)\n",
       "27    Non-Fatal\n",
       "28    Non-Fatal\n",
       "29    Non-Fatal\n",
       "Name: injury_severity, dtype: object"
      ]
     },
     "execution_count": 109,
     "metadata": {},
     "output_type": "execute_result"
    }
   ],
   "source": [
    "aviation_df['injury_severity'].head(30)"
   ]
  },
  {
   "cell_type": "code",
   "execution_count": 110,
   "metadata": {},
   "outputs": [
    {
     "data": {
      "text/html": [
       "<div>\n",
       "<style scoped>\n",
       "    .dataframe tbody tr th:only-of-type {\n",
       "        vertical-align: middle;\n",
       "    }\n",
       "\n",
       "    .dataframe tbody tr th {\n",
       "        vertical-align: top;\n",
       "    }\n",
       "\n",
       "    .dataframe thead th {\n",
       "        text-align: right;\n",
       "    }\n",
       "</style>\n",
       "<table border=\"1\" class=\"dataframe\">\n",
       "  <thead>\n",
       "    <tr style=\"text-align: right;\">\n",
       "      <th></th>\n",
       "      <th>total_fatal_injuries</th>\n",
       "      <th>total_serious_injuries</th>\n",
       "      <th>total_minor_injuries</th>\n",
       "      <th>total_uninjured</th>\n",
       "    </tr>\n",
       "  </thead>\n",
       "  <tbody>\n",
       "    <tr>\n",
       "      <th>count</th>\n",
       "      <td>77488.000000</td>\n",
       "      <td>76379.000000</td>\n",
       "      <td>76956.000000</td>\n",
       "      <td>82977.000000</td>\n",
       "    </tr>\n",
       "    <tr>\n",
       "      <th>mean</th>\n",
       "      <td>0.647855</td>\n",
       "      <td>0.279881</td>\n",
       "      <td>0.357061</td>\n",
       "      <td>5.325440</td>\n",
       "    </tr>\n",
       "    <tr>\n",
       "      <th>std</th>\n",
       "      <td>5.485960</td>\n",
       "      <td>1.544084</td>\n",
       "      <td>2.235625</td>\n",
       "      <td>27.913634</td>\n",
       "    </tr>\n",
       "    <tr>\n",
       "      <th>min</th>\n",
       "      <td>0.000000</td>\n",
       "      <td>0.000000</td>\n",
       "      <td>0.000000</td>\n",
       "      <td>0.000000</td>\n",
       "    </tr>\n",
       "    <tr>\n",
       "      <th>25%</th>\n",
       "      <td>0.000000</td>\n",
       "      <td>0.000000</td>\n",
       "      <td>0.000000</td>\n",
       "      <td>0.000000</td>\n",
       "    </tr>\n",
       "    <tr>\n",
       "      <th>50%</th>\n",
       "      <td>0.000000</td>\n",
       "      <td>0.000000</td>\n",
       "      <td>0.000000</td>\n",
       "      <td>1.000000</td>\n",
       "    </tr>\n",
       "    <tr>\n",
       "      <th>75%</th>\n",
       "      <td>0.000000</td>\n",
       "      <td>0.000000</td>\n",
       "      <td>0.000000</td>\n",
       "      <td>2.000000</td>\n",
       "    </tr>\n",
       "    <tr>\n",
       "      <th>max</th>\n",
       "      <td>349.000000</td>\n",
       "      <td>161.000000</td>\n",
       "      <td>380.000000</td>\n",
       "      <td>699.000000</td>\n",
       "    </tr>\n",
       "  </tbody>\n",
       "</table>\n",
       "</div>"
      ],
      "text/plain": [
       "       total_fatal_injuries  total_serious_injuries  total_minor_injuries  \\\n",
       "count          77488.000000            76379.000000          76956.000000   \n",
       "mean               0.647855                0.279881              0.357061   \n",
       "std                5.485960                1.544084              2.235625   \n",
       "min                0.000000                0.000000              0.000000   \n",
       "25%                0.000000                0.000000              0.000000   \n",
       "50%                0.000000                0.000000              0.000000   \n",
       "75%                0.000000                0.000000              0.000000   \n",
       "max              349.000000              161.000000            380.000000   \n",
       "\n",
       "       total_uninjured  \n",
       "count     82977.000000  \n",
       "mean          5.325440  \n",
       "std          27.913634  \n",
       "min           0.000000  \n",
       "25%           0.000000  \n",
       "50%           1.000000  \n",
       "75%           2.000000  \n",
       "max         699.000000  "
      ]
     },
     "execution_count": 110,
     "metadata": {},
     "output_type": "execute_result"
    }
   ],
   "source": [
    "#Analyze injury columns and notice that we have very weird data with only Max present\n",
    "aviation_df[['injury_severity','total_fatal_injuries','total_serious_injuries','total_minor_injuries','total_uninjured']].describe()"
   ]
  },
  {
   "cell_type": "code",
   "execution_count": 111,
   "metadata": {},
   "outputs": [
    {
     "name": "stderr",
     "output_type": "stream",
     "text": [
      "/Users/pmjustafort/anaconda3/envs/learn-env/lib/python3.8/site-packages/pandas/core/indexing.py:670: SettingWithCopyWarning: \n",
      "A value is trying to be set on a copy of a slice from a DataFrame\n",
      "\n",
      "See the caveats in the documentation: https://pandas.pydata.org/pandas-docs/stable/user_guide/indexing.html#returning-a-view-versus-a-copy\n",
      "  iloc._setitem_with_indexer(indexer, value)\n"
     ]
    },
    {
     "data": {
      "text/plain": [
       "0"
      ]
     },
     "execution_count": 111,
     "metadata": {},
     "output_type": "execute_result"
    }
   ],
   "source": [
    "#Find how many NAs in this column -> 2.7% of all entries have NA for injury_severity\n",
    "aviation_df['injury_severity'].isna().sum()\n",
    "\n",
    "#Change NAs in this column to Not Applicable for now. Can possibly change this later based on injury columns \n",
    "aviation_df['injury_severity'].loc[aviation_df['injury_severity'].isna()] = 'Not Applicable'\n",
    "\n",
    "#Check to confirm the replacement worked\n",
    "aviation_df['injury_severity'].isna().sum()"
   ]
  },
  {
   "cell_type": "code",
   "execution_count": 113,
   "metadata": {},
   "outputs": [
    {
     "name": "stderr",
     "output_type": "stream",
     "text": [
      "/Users/pmjustafort/anaconda3/envs/learn-env/lib/python3.8/site-packages/pandas/core/indexing.py:670: SettingWithCopyWarning: \n",
      "A value is trying to be set on a copy of a slice from a DataFrame\n",
      "\n",
      "See the caveats in the documentation: https://pandas.pydata.org/pandas-docs/stable/user_guide/indexing.html#returning-a-view-versus-a-copy\n",
      "  iloc._setitem_with_indexer(indexer, value)\n"
     ]
    }
   ],
   "source": [
    "#Change all values with Fatal() to just Fatal b/c counts are taken care of in total_fatalaties column\n",
    "aviation_df['injury_severity'].loc[aviation_df['injury_severity'].str.contains(\"Fatal\\(.*\\)\")] = 'Fatal'"
   ]
  },
  {
   "cell_type": "code",
   "execution_count": 114,
   "metadata": {},
   "outputs": [
    {
     "data": {
      "text/plain": [
       "Non-Fatal         67357\n",
       "Fatal             17826\n",
       "Not Applicable     2459\n",
       "Incident           2219\n",
       "Minor               218\n",
       "Serious             173\n",
       "Unavailable          96\n",
       "Name: injury_severity, dtype: int64"
      ]
     },
     "execution_count": 114,
     "metadata": {},
     "output_type": "execute_result"
    }
   ],
   "source": [
    "#Confirm that change was successful\n",
    "aviation_df['injury_severity'].value_counts()"
   ]
  },
  {
   "cell_type": "markdown",
   "metadata": {},
   "source": [
    "# Checkpoint\n",
    "### At this point we have completed the following:\n",
    "    1. Import libraries\n",
    "    2. Import data\n",
    "    3. Standardize column names\n",
    "    4. Change event_date type to timestamp\n",
    "    5. Clean up 'injury_severity' column by replaceing NAs with 'Not Applicable' \n",
    "        and removing counts b/c are represented in total_fatalities column"
   ]
  },
  {
   "cell_type": "markdown",
   "metadata": {},
   "source": [
    "# # Next Steps: \n",
    "### Make graphs to find correlations and relationships between columns\n",
    "1. \n",
    "    "
   ]
  },
  {
   "cell_type": "code",
   "execution_count": 115,
   "metadata": {},
   "outputs": [
    {
     "data": {
      "text/plain": [
       "event_id                   1459\n",
       "investigation_type            0\n",
       "accident_number            1459\n",
       "event_date                 1459\n",
       "location                   1511\n",
       "country                    1685\n",
       "latitude                  55966\n",
       "longitude                 55975\n",
       "airport_code              40099\n",
       "airport_name              37558\n",
       "injury_severity               0\n",
       "aircraft_damage            4653\n",
       "aircraft_category         58061\n",
       "registration_number        2776\n",
       "make                       1522\n",
       "model                      1551\n",
       "amateur_built              1561\n",
       "number_of_engines          7543\n",
       "engine_type                8536\n",
       "far_description           58325\n",
       "schedule                  77766\n",
       "purpose_of_flight          7651\n",
       "air_carrier               73700\n",
       "total_fatal_injuries      12860\n",
       "total_serious_injuries    13969\n",
       "total_minor_injuries      13392\n",
       "total_uninjured            7371\n",
       "weather_condition          5951\n",
       "broad_phase_of_flight     28624\n",
       "report_status              7840\n",
       "publication_date          16689\n",
       "dtype: int64"
      ]
     },
     "execution_count": 115,
     "metadata": {},
     "output_type": "execute_result"
    }
   ],
   "source": [
    "#Check to see how many Nulls in each columns\n",
    "aviation_df.isna().sum()"
   ]
  },
  {
   "cell_type": "code",
   "execution_count": 116,
   "metadata": {},
   "outputs": [
    {
     "data": {
      "text/plain": [
       "make                      model              number_of_engines  engine_type  \n",
       "Cessna                    152                1.0                Reciprocating    2157\n",
       "                          172                1.0                Reciprocating    1235\n",
       "                          172N               1.0                Reciprocating     986\n",
       "Piper                     PA-28-140          1.0                Reciprocating     800\n",
       "Cessna                    150                1.0                Reciprocating     709\n",
       "                                                                                 ... \n",
       "MICHAEL BURTON            Calidus            1.0                Reciprocating       1\n",
       "MICHAEL ADAMCZYK          ZENITH CH750       1.0                Reciprocating       1\n",
       "MICHAEL A HOWARD          DOMINATOR          1.0                Reciprocating       1\n",
       "MEYERS INDUSTRIES INC     200C               1.0                Reciprocating       1\n",
       "107.5 Flying Corporation  One Design DR 107  1.0                Reciprocating       1\n",
       "Length: 18336, dtype: int64"
      ]
     },
     "execution_count": 116,
     "metadata": {},
     "output_type": "execute_result"
    }
   ],
   "source": [
    "aviation_df[['make','model','number_of_engines','engine_type']].value_counts()"
   ]
  },
  {
   "cell_type": "code",
   "execution_count": 117,
   "metadata": {},
   "outputs": [
    {
     "data": {
      "text/plain": [
       "Cessna                 22227\n",
       "Piper                  12029\n",
       "CESSNA                  4922\n",
       "Beech                   4330\n",
       "PIPER                   2841\n",
       "                       ...  \n",
       "Cecil, Richard C.          1\n",
       "Calkins                    1\n",
       "Dantzer Lawrence L         1\n",
       "SCHABACKER KONRAD J        1\n",
       "Talbott                    1\n",
       "Name: make, Length: 8237, dtype: int64"
      ]
     },
     "execution_count": 117,
     "metadata": {},
     "output_type": "execute_result"
    }
   ],
   "source": [
    "aviation_df['make'].value_counts()"
   ]
  },
  {
   "cell_type": "markdown",
   "metadata": {},
   "source": [
    "# Crash By Location"
   ]
  },
  {
   "cell_type": "code",
   "execution_count": 139,
   "metadata": {},
   "outputs": [],
   "source": [
    "crash_by_location_sorted = crash_by_location.sort_values('CrashCount', ascending=False)"
   ]
  },
  {
   "cell_type": "code",
   "execution_count": 120,
   "metadata": {},
   "outputs": [
    {
     "data": {
      "text/html": [
       "<div>\n",
       "<style scoped>\n",
       "    .dataframe tbody tr th:only-of-type {\n",
       "        vertical-align: middle;\n",
       "    }\n",
       "\n",
       "    .dataframe tbody tr th {\n",
       "        vertical-align: top;\n",
       "    }\n",
       "\n",
       "    .dataframe thead th {\n",
       "        text-align: right;\n",
       "    }\n",
       "</style>\n",
       "<table border=\"1\" class=\"dataframe\">\n",
       "  <thead>\n",
       "    <tr style=\"text-align: right;\">\n",
       "      <th></th>\n",
       "      <th>location</th>\n",
       "      <th>CrashCount</th>\n",
       "    </tr>\n",
       "  </thead>\n",
       "  <tbody>\n",
       "    <tr>\n",
       "      <th>423</th>\n",
       "      <td>ANCHORAGE, AK</td>\n",
       "      <td>434</td>\n",
       "    </tr>\n",
       "    <tr>\n",
       "      <th>15212</th>\n",
       "      <td>MIAMI, FL</td>\n",
       "      <td>200</td>\n",
       "    </tr>\n",
       "    <tr>\n",
       "      <th>259</th>\n",
       "      <td>ALBUQUERQUE, NM</td>\n",
       "      <td>196</td>\n",
       "    </tr>\n",
       "    <tr>\n",
       "      <th>10718</th>\n",
       "      <td>HOUSTON, TX</td>\n",
       "      <td>193</td>\n",
       "    </tr>\n",
       "    <tr>\n",
       "      <th>4058</th>\n",
       "      <td>CHICAGO, IL</td>\n",
       "      <td>184</td>\n",
       "    </tr>\n",
       "    <tr>\n",
       "      <th>7849</th>\n",
       "      <td>FAIRBANKS, AK</td>\n",
       "      <td>174</td>\n",
       "    </tr>\n",
       "    <tr>\n",
       "      <th>24850</th>\n",
       "      <td>TUCSON, AZ</td>\n",
       "      <td>142</td>\n",
       "    </tr>\n",
       "    <tr>\n",
       "      <th>19141</th>\n",
       "      <td>PHOENIX, AZ</td>\n",
       "      <td>132</td>\n",
       "    </tr>\n",
       "    <tr>\n",
       "      <th>18374</th>\n",
       "      <td>ORLANDO, FL</td>\n",
       "      <td>132</td>\n",
       "    </tr>\n",
       "    <tr>\n",
       "      <th>7303</th>\n",
       "      <td>ENGLEWOOD, CO</td>\n",
       "      <td>131</td>\n",
       "    </tr>\n",
       "  </tbody>\n",
       "</table>\n",
       "</div>"
      ],
      "text/plain": [
       "              location  CrashCount\n",
       "423      ANCHORAGE, AK         434\n",
       "15212        MIAMI, FL         200\n",
       "259    ALBUQUERQUE, NM         196\n",
       "10718      HOUSTON, TX         193\n",
       "4058       CHICAGO, IL         184\n",
       "7849     FAIRBANKS, AK         174\n",
       "24850       TUCSON, AZ         142\n",
       "19141      PHOENIX, AZ         132\n",
       "18374      ORLANDO, FL         132\n",
       "7303     ENGLEWOOD, CO         131"
      ]
     },
     "execution_count": 120,
     "metadata": {},
     "output_type": "execute_result"
    }
   ],
   "source": [
    "top_crash_location = crash_by_location_sorted.head(10)\n",
    "top_crash_location"
   ]
  },
  {
   "cell_type": "code",
   "execution_count": 121,
   "metadata": {},
   "outputs": [
    {
     "data": {
      "image/png": "[encoded data removed]",
      "text/plain": [
       "<Figure size 720x432 with 1 Axes>"
      ]
     },
     "metadata": {
      "needs_background": "light"
     },
     "output_type": "display_data"
    }
   ],
   "source": [
    "fig, ax = plt.subplots(figsize=(10, 6))\n",
    "\n",
    "ax.bar(top_crash_location['location'], top_crash_location['CrashCount'])\n",
    "\n",
    "# Set labels and title\n",
    "ax.set_xlabel('Location')\n",
    "ax.set_ylabel('Crash Count')\n",
    "ax.set_title('Top 10 Locations with Highest Crash Count')\n",
    "\n",
    "# Rotate x-axis labels for better readability\n",
    "plt.xticks(rotation=90)\n",
    "\n",
    "# Show the plot\n",
    "plt.show()"
   ]
  },
  {
   "cell_type": "markdown",
   "metadata": {},
   "source": [
    "# Crash By Year"
   ]
  },
  {
   "cell_type": "code",
   "execution_count": 122,
   "metadata": {},
   "outputs": [],
   "source": [
    "aviation_df['year'] = aviation_df['event_date'].dt.year"
   ]
  },
  {
   "cell_type": "code",
   "execution_count": 123,
   "metadata": {},
   "outputs": [],
   "source": [
    "crash_by_year = aviation_df.groupby('year').size().reset_index(name='CrashCount')"
   ]
  },
  {
   "cell_type": "code",
   "execution_count": 124,
   "metadata": {},
   "outputs": [],
   "source": [
    "crash_by_year_sorted = crash_by_year.sort_values('year')"
   ]
  },
  {
   "cell_type": "code",
   "execution_count": 125,
   "metadata": {},
   "outputs": [
    {
     "name": "stdout",
     "output_type": "stream",
     "text": [
      "      year  CrashCount\n",
      "0   1948.0           1\n",
      "1   1962.0           1\n",
      "2   1974.0           1\n",
      "3   1977.0           1\n",
      "4   1979.0           2\n",
      "5   1981.0           1\n",
      "6   1982.0        3593\n",
      "7   1983.0        3556\n",
      "8   1984.0        3457\n",
      "9   1985.0        3096\n",
      "10  1986.0        2880\n",
      "11  1987.0        2828\n",
      "12  1988.0        2730\n",
      "13  1989.0        2544\n",
      "14  1990.0        2518\n",
      "15  1991.0        2462\n",
      "16  1992.0        2355\n",
      "17  1993.0        2313\n",
      "18  1994.0        2257\n",
      "19  1995.0        2309\n",
      "20  1996.0        2187\n",
      "21  1997.0        2148\n",
      "22  1998.0        2226\n",
      "23  1999.0        2209\n",
      "24  2000.0        2220\n",
      "25  2001.0        2063\n",
      "26  2002.0        2020\n",
      "27  2003.0        2085\n",
      "28  2004.0        1952\n",
      "29  2005.0        2031\n",
      "30  2006.0        1851\n",
      "31  2007.0        2016\n",
      "32  2008.0        1893\n",
      "33  2009.0        1783\n",
      "34  2010.0        1786\n",
      "35  2011.0        1850\n",
      "36  2012.0        1835\n",
      "37  2013.0        1561\n",
      "38  2014.0        1535\n",
      "39  2015.0        1582\n",
      "40  2016.0        1664\n",
      "41  2017.0        1638\n",
      "42  2018.0        1681\n",
      "43  2019.0        1624\n",
      "44  2020.0        1392\n",
      "45  2021.0        1545\n",
      "46  2022.0        1607\n"
     ]
    }
   ],
   "source": [
    "print(crash_by_year_sorted)"
   ]
  },
  {
   "cell_type": "code",
   "execution_count": 126,
   "metadata": {},
   "outputs": [
    {
     "data": {
      "image/png": "[encoded data removed]",
      "text/plain": [
       "<Figure size 720x432 with 1 Axes>"
      ]
     },
     "metadata": {
      "needs_background": "light"
     },
     "output_type": "display_data"
    }
   ],
   "source": [
    "fig, ax = plt.subplots(figsize=(10, 6))\n",
    "\n",
    "ax.bar(crash_by_year_sorted['year'], crash_by_year_sorted['CrashCount'])\n",
    "\n",
    "ax.set_xlabel('Year')\n",
    "ax.set_ylabel('Crash Count')\n",
    "ax.set_title('Number of Crashes by Year')\n",
    "\n",
    "plt.show()"
   ]
  },
  {
   "cell_type": "markdown",
   "metadata": {},
   "source": [
    "# Fatalities By Model"
   ]
  },
  {
   "cell_type": "code",
   "execution_count": 164,
   "metadata": {},
   "outputs": [],
   "source": [
    "aviation_df['make'] = aviation_df['make'].str.lower().str.capitalize()"
   ]
  },
  {
   "cell_type": "code",
   "execution_count": 158,
   "metadata": {},
   "outputs": [
    {
     "data": {
      "text/plain": [
       "(90348, 32)"
      ]
     },
     "execution_count": 158,
     "metadata": {},
     "output_type": "execute_result"
    }
   ],
   "source": [
    "aviation_df.shape"
   ]
  },
  {
   "cell_type": "code",
   "execution_count": 155,
   "metadata": {},
   "outputs": [
    {
     "data": {
      "text/html": [
       "<div>\n",
       "<style scoped>\n",
       "    .dataframe tbody tr th:only-of-type {\n",
       "        vertical-align: middle;\n",
       "    }\n",
       "\n",
       "    .dataframe tbody tr th {\n",
       "        vertical-align: top;\n",
       "    }\n",
       "\n",
       "    .dataframe thead th {\n",
       "        text-align: right;\n",
       "    }\n",
       "</style>\n",
       "<table border=\"1\" class=\"dataframe\">\n",
       "  <thead>\n",
       "    <tr style=\"text-align: right;\">\n",
       "      <th></th>\n",
       "      <th>event_id</th>\n",
       "      <th>investigation_type</th>\n",
       "      <th>accident_number</th>\n",
       "      <th>event_date</th>\n",
       "      <th>location</th>\n",
       "      <th>country</th>\n",
       "      <th>latitude</th>\n",
       "      <th>longitude</th>\n",
       "      <th>airport_code</th>\n",
       "      <th>airport_name</th>\n",
       "      <th>...</th>\n",
       "      <th>air_carrier</th>\n",
       "      <th>total_fatal_injuries</th>\n",
       "      <th>total_serious_injuries</th>\n",
       "      <th>total_minor_injuries</th>\n",
       "      <th>total_uninjured</th>\n",
       "      <th>weather_condition</th>\n",
       "      <th>broad_phase_of_flight</th>\n",
       "      <th>report_status</th>\n",
       "      <th>publication_date</th>\n",
       "      <th>year</th>\n",
       "    </tr>\n",
       "  </thead>\n",
       "  <tbody>\n",
       "    <tr>\n",
       "      <th>0</th>\n",
       "      <td>20001218X45444</td>\n",
       "      <td>Accident</td>\n",
       "      <td>SEA87LA080</td>\n",
       "      <td>1948-10-24</td>\n",
       "      <td>MOOSE CREEK, ID</td>\n",
       "      <td>United States</td>\n",
       "      <td>NaN</td>\n",
       "      <td>NaN</td>\n",
       "      <td>NaN</td>\n",
       "      <td>NaN</td>\n",
       "      <td>...</td>\n",
       "      <td>NaN</td>\n",
       "      <td>2.0</td>\n",
       "      <td>0.0</td>\n",
       "      <td>0.0</td>\n",
       "      <td>0.0</td>\n",
       "      <td>UNK</td>\n",
       "      <td>Cruise</td>\n",
       "      <td>Probable Cause</td>\n",
       "      <td>NaN</td>\n",
       "      <td>1948.0</td>\n",
       "    </tr>\n",
       "    <tr>\n",
       "      <th>1</th>\n",
       "      <td>20001218X45447</td>\n",
       "      <td>Accident</td>\n",
       "      <td>LAX94LA336</td>\n",
       "      <td>1962-07-19</td>\n",
       "      <td>BRIDGEPORT, CA</td>\n",
       "      <td>United States</td>\n",
       "      <td>NaN</td>\n",
       "      <td>NaN</td>\n",
       "      <td>NaN</td>\n",
       "      <td>NaN</td>\n",
       "      <td>...</td>\n",
       "      <td>NaN</td>\n",
       "      <td>4.0</td>\n",
       "      <td>0.0</td>\n",
       "      <td>0.0</td>\n",
       "      <td>0.0</td>\n",
       "      <td>UNK</td>\n",
       "      <td>Unknown</td>\n",
       "      <td>Probable Cause</td>\n",
       "      <td>19-09-1996</td>\n",
       "      <td>1962.0</td>\n",
       "    </tr>\n",
       "    <tr>\n",
       "      <th>2</th>\n",
       "      <td>20061025X01555</td>\n",
       "      <td>Accident</td>\n",
       "      <td>NYC07LA005</td>\n",
       "      <td>1974-08-30</td>\n",
       "      <td>Saltville, VA</td>\n",
       "      <td>United States</td>\n",
       "      <td>36.9222</td>\n",
       "      <td>-81.8781</td>\n",
       "      <td>NaN</td>\n",
       "      <td>NaN</td>\n",
       "      <td>...</td>\n",
       "      <td>NaN</td>\n",
       "      <td>3.0</td>\n",
       "      <td>NaN</td>\n",
       "      <td>NaN</td>\n",
       "      <td>NaN</td>\n",
       "      <td>IMC</td>\n",
       "      <td>Cruise</td>\n",
       "      <td>Probable Cause</td>\n",
       "      <td>26-02-2007</td>\n",
       "      <td>1974.0</td>\n",
       "    </tr>\n",
       "    <tr>\n",
       "      <th>3</th>\n",
       "      <td>20001218X45448</td>\n",
       "      <td>Accident</td>\n",
       "      <td>LAX96LA321</td>\n",
       "      <td>1977-06-19</td>\n",
       "      <td>EUREKA, CA</td>\n",
       "      <td>United States</td>\n",
       "      <td>NaN</td>\n",
       "      <td>NaN</td>\n",
       "      <td>NaN</td>\n",
       "      <td>NaN</td>\n",
       "      <td>...</td>\n",
       "      <td>NaN</td>\n",
       "      <td>2.0</td>\n",
       "      <td>0.0</td>\n",
       "      <td>0.0</td>\n",
       "      <td>0.0</td>\n",
       "      <td>IMC</td>\n",
       "      <td>Cruise</td>\n",
       "      <td>Probable Cause</td>\n",
       "      <td>12-09-2000</td>\n",
       "      <td>1977.0</td>\n",
       "    </tr>\n",
       "    <tr>\n",
       "      <th>4</th>\n",
       "      <td>20041105X01764</td>\n",
       "      <td>Accident</td>\n",
       "      <td>CHI79FA064</td>\n",
       "      <td>1979-08-02</td>\n",
       "      <td>Canton, OH</td>\n",
       "      <td>United States</td>\n",
       "      <td>NaN</td>\n",
       "      <td>NaN</td>\n",
       "      <td>NaN</td>\n",
       "      <td>NaN</td>\n",
       "      <td>...</td>\n",
       "      <td>NaN</td>\n",
       "      <td>1.0</td>\n",
       "      <td>2.0</td>\n",
       "      <td>NaN</td>\n",
       "      <td>0.0</td>\n",
       "      <td>VMC</td>\n",
       "      <td>Approach</td>\n",
       "      <td>Probable Cause</td>\n",
       "      <td>16-04-1980</td>\n",
       "      <td>1979.0</td>\n",
       "    </tr>\n",
       "  </tbody>\n",
       "</table>\n",
       "<p>5 rows × 32 columns</p>\n",
       "</div>"
      ],
      "text/plain": [
       "         event_id investigation_type accident_number event_date  \\\n",
       "0  20001218X45444           Accident      SEA87LA080 1948-10-24   \n",
       "1  20001218X45447           Accident      LAX94LA336 1962-07-19   \n",
       "2  20061025X01555           Accident      NYC07LA005 1974-08-30   \n",
       "3  20001218X45448           Accident      LAX96LA321 1977-06-19   \n",
       "4  20041105X01764           Accident      CHI79FA064 1979-08-02   \n",
       "\n",
       "          location        country latitude longitude airport_code  \\\n",
       "0  MOOSE CREEK, ID  United States      NaN       NaN          NaN   \n",
       "1   BRIDGEPORT, CA  United States      NaN       NaN          NaN   \n",
       "2    Saltville, VA  United States  36.9222  -81.8781          NaN   \n",
       "3       EUREKA, CA  United States      NaN       NaN          NaN   \n",
       "4       Canton, OH  United States      NaN       NaN          NaN   \n",
       "\n",
       "  airport_name  ... air_carrier total_fatal_injuries total_serious_injuries  \\\n",
       "0          NaN  ...         NaN                  2.0                    0.0   \n",
       "1          NaN  ...         NaN                  4.0                    0.0   \n",
       "2          NaN  ...         NaN                  3.0                    NaN   \n",
       "3          NaN  ...         NaN                  2.0                    0.0   \n",
       "4          NaN  ...         NaN                  1.0                    2.0   \n",
       "\n",
       "  total_minor_injuries total_uninjured weather_condition  \\\n",
       "0                  0.0             0.0               UNK   \n",
       "1                  0.0             0.0               UNK   \n",
       "2                  NaN             NaN               IMC   \n",
       "3                  0.0             0.0               IMC   \n",
       "4                  NaN             0.0               VMC   \n",
       "\n",
       "  broad_phase_of_flight   report_status publication_date    year  \n",
       "0                Cruise  Probable Cause              NaN  1948.0  \n",
       "1               Unknown  Probable Cause       19-09-1996  1962.0  \n",
       "2                Cruise  Probable Cause       26-02-2007  1974.0  \n",
       "3                Cruise  Probable Cause       12-09-2000  1977.0  \n",
       "4              Approach  Probable Cause       16-04-1980  1979.0  \n",
       "\n",
       "[5 rows x 32 columns]"
      ]
     },
     "execution_count": 155,
     "metadata": {},
     "output_type": "execute_result"
    }
   ],
   "source": [
    "aviation_df.head()"
   ]
  },
  {
   "cell_type": "code",
   "execution_count": 175,
   "metadata": {},
   "outputs": [
    {
     "data": {
      "text/html": [
       "<div>\n",
       "<style scoped>\n",
       "    .dataframe tbody tr th:only-of-type {\n",
       "        vertical-align: middle;\n",
       "    }\n",
       "\n",
       "    .dataframe tbody tr th {\n",
       "        vertical-align: top;\n",
       "    }\n",
       "\n",
       "    .dataframe thead th {\n",
       "        text-align: right;\n",
       "    }\n",
       "</style>\n",
       "<table border=\"1\" class=\"dataframe\">\n",
       "  <thead>\n",
       "    <tr style=\"text-align: right;\">\n",
       "      <th></th>\n",
       "      <th>event_id</th>\n",
       "      <th>investigation_type</th>\n",
       "      <th>accident_number</th>\n",
       "      <th>event_date</th>\n",
       "      <th>location</th>\n",
       "      <th>country</th>\n",
       "      <th>latitude</th>\n",
       "      <th>longitude</th>\n",
       "      <th>airport_code</th>\n",
       "      <th>airport_name</th>\n",
       "      <th>...</th>\n",
       "      <th>air_carrier</th>\n",
       "      <th>total_fatal_injuries</th>\n",
       "      <th>total_serious_injuries</th>\n",
       "      <th>total_minor_injuries</th>\n",
       "      <th>total_uninjured</th>\n",
       "      <th>weather_condition</th>\n",
       "      <th>broad_phase_of_flight</th>\n",
       "      <th>report_status</th>\n",
       "      <th>publication_date</th>\n",
       "      <th>year</th>\n",
       "    </tr>\n",
       "  </thead>\n",
       "  <tbody>\n",
       "    <tr>\n",
       "      <th>90343</th>\n",
       "      <td>20221227106491</td>\n",
       "      <td>Accident</td>\n",
       "      <td>ERA23LA093</td>\n",
       "      <td>2022-12-26</td>\n",
       "      <td>Annapolis, MD</td>\n",
       "      <td>United States</td>\n",
       "      <td>NaN</td>\n",
       "      <td>NaN</td>\n",
       "      <td>NaN</td>\n",
       "      <td>NaN</td>\n",
       "      <td>...</td>\n",
       "      <td>NaN</td>\n",
       "      <td>0.0</td>\n",
       "      <td>1.0</td>\n",
       "      <td>0.0</td>\n",
       "      <td>0.0</td>\n",
       "      <td>NaN</td>\n",
       "      <td>NaN</td>\n",
       "      <td>NaN</td>\n",
       "      <td>29-12-2022</td>\n",
       "      <td>2022.0</td>\n",
       "    </tr>\n",
       "    <tr>\n",
       "      <th>90344</th>\n",
       "      <td>20221227106494</td>\n",
       "      <td>Accident</td>\n",
       "      <td>ERA23LA095</td>\n",
       "      <td>2022-12-26</td>\n",
       "      <td>Hampton, NH</td>\n",
       "      <td>United States</td>\n",
       "      <td>NaN</td>\n",
       "      <td>NaN</td>\n",
       "      <td>NaN</td>\n",
       "      <td>NaN</td>\n",
       "      <td>...</td>\n",
       "      <td>NaN</td>\n",
       "      <td>0.0</td>\n",
       "      <td>0.0</td>\n",
       "      <td>0.0</td>\n",
       "      <td>0.0</td>\n",
       "      <td>NaN</td>\n",
       "      <td>NaN</td>\n",
       "      <td>NaN</td>\n",
       "      <td>NaN</td>\n",
       "      <td>2022.0</td>\n",
       "    </tr>\n",
       "    <tr>\n",
       "      <th>90345</th>\n",
       "      <td>20221227106497</td>\n",
       "      <td>Accident</td>\n",
       "      <td>WPR23LA075</td>\n",
       "      <td>2022-12-26</td>\n",
       "      <td>Payson, AZ</td>\n",
       "      <td>United States</td>\n",
       "      <td>341525N</td>\n",
       "      <td>1112021W</td>\n",
       "      <td>PAN</td>\n",
       "      <td>PAYSON</td>\n",
       "      <td>...</td>\n",
       "      <td>NaN</td>\n",
       "      <td>0.0</td>\n",
       "      <td>0.0</td>\n",
       "      <td>0.0</td>\n",
       "      <td>1.0</td>\n",
       "      <td>VMC</td>\n",
       "      <td>NaN</td>\n",
       "      <td>NaN</td>\n",
       "      <td>27-12-2022</td>\n",
       "      <td>2022.0</td>\n",
       "    </tr>\n",
       "    <tr>\n",
       "      <th>90346</th>\n",
       "      <td>20221227106498</td>\n",
       "      <td>Accident</td>\n",
       "      <td>WPR23LA076</td>\n",
       "      <td>2022-12-26</td>\n",
       "      <td>Morgan, UT</td>\n",
       "      <td>United States</td>\n",
       "      <td>NaN</td>\n",
       "      <td>NaN</td>\n",
       "      <td>NaN</td>\n",
       "      <td>NaN</td>\n",
       "      <td>...</td>\n",
       "      <td>MC CESSNA 210N LLC</td>\n",
       "      <td>0.0</td>\n",
       "      <td>0.0</td>\n",
       "      <td>0.0</td>\n",
       "      <td>0.0</td>\n",
       "      <td>NaN</td>\n",
       "      <td>NaN</td>\n",
       "      <td>NaN</td>\n",
       "      <td>NaN</td>\n",
       "      <td>2022.0</td>\n",
       "    </tr>\n",
       "    <tr>\n",
       "      <th>90347</th>\n",
       "      <td>20221230106513</td>\n",
       "      <td>Accident</td>\n",
       "      <td>ERA23LA097</td>\n",
       "      <td>2022-12-29</td>\n",
       "      <td>Athens, GA</td>\n",
       "      <td>United States</td>\n",
       "      <td>NaN</td>\n",
       "      <td>NaN</td>\n",
       "      <td>NaN</td>\n",
       "      <td>NaN</td>\n",
       "      <td>...</td>\n",
       "      <td>NaN</td>\n",
       "      <td>0.0</td>\n",
       "      <td>1.0</td>\n",
       "      <td>0.0</td>\n",
       "      <td>1.0</td>\n",
       "      <td>NaN</td>\n",
       "      <td>NaN</td>\n",
       "      <td>NaN</td>\n",
       "      <td>30-12-2022</td>\n",
       "      <td>2022.0</td>\n",
       "    </tr>\n",
       "  </tbody>\n",
       "</table>\n",
       "<p>5 rows × 32 columns</p>\n",
       "</div>"
      ],
      "text/plain": [
       "             event_id investigation_type accident_number event_date  \\\n",
       "90343  20221227106491           Accident      ERA23LA093 2022-12-26   \n",
       "90344  20221227106494           Accident      ERA23LA095 2022-12-26   \n",
       "90345  20221227106497           Accident      WPR23LA075 2022-12-26   \n",
       "90346  20221227106498           Accident      WPR23LA076 2022-12-26   \n",
       "90347  20221230106513           Accident      ERA23LA097 2022-12-29   \n",
       "\n",
       "            location        country latitude longitude airport_code  \\\n",
       "90343  Annapolis, MD  United States      NaN       NaN          NaN   \n",
       "90344    Hampton, NH  United States      NaN       NaN          NaN   \n",
       "90345     Payson, AZ  United States  341525N  1112021W          PAN   \n",
       "90346     Morgan, UT  United States      NaN       NaN          NaN   \n",
       "90347     Athens, GA  United States      NaN       NaN          NaN   \n",
       "\n",
       "      airport_name  ...         air_carrier total_fatal_injuries  \\\n",
       "90343          NaN  ...                 NaN                  0.0   \n",
       "90344          NaN  ...                 NaN                  0.0   \n",
       "90345       PAYSON  ...                 NaN                  0.0   \n",
       "90346          NaN  ...  MC CESSNA 210N LLC                  0.0   \n",
       "90347          NaN  ...                 NaN                  0.0   \n",
       "\n",
       "      total_serious_injuries total_minor_injuries total_uninjured  \\\n",
       "90343                    1.0                  0.0             0.0   \n",
       "90344                    0.0                  0.0             0.0   \n",
       "90345                    0.0                  0.0             1.0   \n",
       "90346                    0.0                  0.0             0.0   \n",
       "90347                    1.0                  0.0             1.0   \n",
       "\n",
       "      weather_condition broad_phase_of_flight  report_status publication_date  \\\n",
       "90343               NaN                   NaN            NaN       29-12-2022   \n",
       "90344               NaN                   NaN            NaN              NaN   \n",
       "90345               VMC                   NaN            NaN       27-12-2022   \n",
       "90346               NaN                   NaN            NaN              NaN   \n",
       "90347               NaN                   NaN            NaN       30-12-2022   \n",
       "\n",
       "         year  \n",
       "90343  2022.0  \n",
       "90344  2022.0  \n",
       "90345  2022.0  \n",
       "90346  2022.0  \n",
       "90347  2022.0  \n",
       "\n",
       "[5 rows x 32 columns]"
      ]
     },
     "execution_count": 175,
     "metadata": {},
     "output_type": "execute_result"
    }
   ],
   "source": [
    "aviation_df.tail()"
   ]
  },
  {
   "cell_type": "code",
   "execution_count": 143,
   "metadata": {},
   "outputs": [],
   "source": [
    "fatalities_by_model = aviation_df.groupby('model')['total_fatal_injuries'].sum().reset_index()"
   ]
  },
  {
   "cell_type": "code",
   "execution_count": 144,
   "metadata": {},
   "outputs": [],
   "source": [
    "fatalities_by_model_sorted = fatalities_by_model.sort_values('total_fatal_injuries', ascending=False)"
   ]
  },
  {
   "cell_type": "code",
   "execution_count": 145,
   "metadata": {},
   "outputs": [
    {
     "data": {
      "text/html": [
       "<div>\n",
       "<style scoped>\n",
       "    .dataframe tbody tr th:only-of-type {\n",
       "        vertical-align: middle;\n",
       "    }\n",
       "\n",
       "    .dataframe tbody tr th {\n",
       "        vertical-align: top;\n",
       "    }\n",
       "\n",
       "    .dataframe thead th {\n",
       "        text-align: right;\n",
       "    }\n",
       "</style>\n",
       "<table border=\"1\" class=\"dataframe\">\n",
       "  <thead>\n",
       "    <tr style=\"text-align: right;\">\n",
       "      <th></th>\n",
       "      <th>model</th>\n",
       "      <th>total_fatal_injuries</th>\n",
       "    </tr>\n",
       "  </thead>\n",
       "  <tbody>\n",
       "    <tr>\n",
       "      <th>1521</th>\n",
       "      <td>737</td>\n",
       "      <td>1348.0</td>\n",
       "    </tr>\n",
       "    <tr>\n",
       "      <th>1557</th>\n",
       "      <td>737-200</td>\n",
       "      <td>906.0</td>\n",
       "    </tr>\n",
       "    <tr>\n",
       "      <th>1829</th>\n",
       "      <td>777 - 206</td>\n",
       "      <td>534.0</td>\n",
       "    </tr>\n",
       "    <tr>\n",
       "      <th>2187</th>\n",
       "      <td>A320</td>\n",
       "      <td>513.0</td>\n",
       "    </tr>\n",
       "    <tr>\n",
       "      <th>7574</th>\n",
       "      <td>MD-82</td>\n",
       "      <td>439.0</td>\n",
       "    </tr>\n",
       "    <tr>\n",
       "      <th>314</th>\n",
       "      <td>172N</td>\n",
       "      <td>430.0</td>\n",
       "    </tr>\n",
       "    <tr>\n",
       "      <th>263</th>\n",
       "      <td>172</td>\n",
       "      <td>400.0</td>\n",
       "    </tr>\n",
       "    <tr>\n",
       "      <th>4744</th>\n",
       "      <td>DC-9-32</td>\n",
       "      <td>396.0</td>\n",
       "    </tr>\n",
       "    <tr>\n",
       "      <th>204</th>\n",
       "      <td>152</td>\n",
       "      <td>392.0</td>\n",
       "    </tr>\n",
       "    <tr>\n",
       "      <th>8532</th>\n",
       "      <td>PA-28-181</td>\n",
       "      <td>381.0</td>\n",
       "    </tr>\n",
       "  </tbody>\n",
       "</table>\n",
       "</div>"
      ],
      "text/plain": [
       "          model  total_fatal_injuries\n",
       "1521        737                1348.0\n",
       "1557    737-200                 906.0\n",
       "1829  777 - 206                 534.0\n",
       "2187       A320                 513.0\n",
       "7574      MD-82                 439.0\n",
       "314        172N                 430.0\n",
       "263         172                 400.0\n",
       "4744    DC-9-32                 396.0\n",
       "204         152                 392.0\n",
       "8532  PA-28-181                 381.0"
      ]
     },
     "execution_count": 145,
     "metadata": {},
     "output_type": "execute_result"
    }
   ],
   "source": [
    "top_fatalities_by_model = fatalities_by_model_sorted.head(10)\n",
    "top_fatalities_by_model"
   ]
  },
  {
   "cell_type": "code",
   "execution_count": 173,
   "metadata": {},
   "outputs": [
    {
     "data": {
      "image/png": "[encoded data removed]",
      "text/plain": [
       "<Figure size 864x576 with 1 Axes>"
      ]
     },
     "metadata": {
      "needs_background": "light"
     },
     "output_type": "display_data"
    }
   ],
   "source": [
    "fig, ax = plt.subplots(figsize=(12, 8))\n",
    "\n",
    "ax.bar(top_fatalities_by_model['model'], top_fatalities_by_model['total_fatal_injuries'])\n",
    "\n",
    "ax.set_xlabel('Model')\n",
    "ax.set_ylabel('Total Fatal Injuries')\n",
    "ax.set_title('Top 10 Models with Highest Total Fatal Injuries')\n",
    "\n",
    "plt.xticks(rotation=90)\n",
    "\n",
    "plt.show()"
   ]
  },
  {
   "cell_type": "code",
   "execution_count": 147,
   "metadata": {},
   "outputs": [
    {
     "data": {
      "text/html": [
       "<div>\n",
       "<style scoped>\n",
       "    .dataframe tbody tr th:only-of-type {\n",
       "        vertical-align: middle;\n",
       "    }\n",
       "\n",
       "    .dataframe tbody tr th {\n",
       "        vertical-align: top;\n",
       "    }\n",
       "\n",
       "    .dataframe thead th {\n",
       "        text-align: right;\n",
       "    }\n",
       "</style>\n",
       "<table border=\"1\" class=\"dataframe\">\n",
       "  <thead>\n",
       "    <tr style=\"text-align: right;\">\n",
       "      <th></th>\n",
       "      <th>model</th>\n",
       "      <th>total_fatal_injuries</th>\n",
       "    </tr>\n",
       "  </thead>\n",
       "  <tbody>\n",
       "    <tr>\n",
       "      <th>5055</th>\n",
       "      <td>Dakota Hawk DH23</td>\n",
       "      <td>0.0</td>\n",
       "    </tr>\n",
       "    <tr>\n",
       "      <th>5058</th>\n",
       "      <td>Debus-Casst-Snoshoo</td>\n",
       "      <td>0.0</td>\n",
       "    </tr>\n",
       "    <tr>\n",
       "      <th>5068</th>\n",
       "      <td>Dornier 328-300</td>\n",
       "      <td>0.0</td>\n",
       "    </tr>\n",
       "    <tr>\n",
       "      <th>5059</th>\n",
       "      <td>Defiant</td>\n",
       "      <td>0.0</td>\n",
       "    </tr>\n",
       "    <tr>\n",
       "      <th>5061</th>\n",
       "      <td>Discus 2b</td>\n",
       "      <td>0.0</td>\n",
       "    </tr>\n",
       "    <tr>\n",
       "      <th>5062</th>\n",
       "      <td>Discus B</td>\n",
       "      <td>0.0</td>\n",
       "    </tr>\n",
       "    <tr>\n",
       "      <th>5064</th>\n",
       "      <td>Discus-2CT</td>\n",
       "      <td>0.0</td>\n",
       "    </tr>\n",
       "    <tr>\n",
       "      <th>5065</th>\n",
       "      <td>Discus-CS</td>\n",
       "      <td>0.0</td>\n",
       "    </tr>\n",
       "    <tr>\n",
       "      <th>5066</th>\n",
       "      <td>Discuss B</td>\n",
       "      <td>0.0</td>\n",
       "    </tr>\n",
       "    <tr>\n",
       "      <th>6159</th>\n",
       "      <td>GV-SP</td>\n",
       "      <td>0.0</td>\n",
       "    </tr>\n",
       "  </tbody>\n",
       "</table>\n",
       "</div>"
      ],
      "text/plain": [
       "                    model  total_fatal_injuries\n",
       "5055     Dakota Hawk DH23                   0.0\n",
       "5058  Debus-Casst-Snoshoo                   0.0\n",
       "5068      Dornier 328-300                   0.0\n",
       "5059              Defiant                   0.0\n",
       "5061            Discus 2b                   0.0\n",
       "5062             Discus B                   0.0\n",
       "5064           Discus-2CT                   0.0\n",
       "5065            Discus-CS                   0.0\n",
       "5066            Discuss B                   0.0\n",
       "6159                GV-SP                   0.0"
      ]
     },
     "execution_count": 147,
     "metadata": {},
     "output_type": "execute_result"
    }
   ],
   "source": [
    "lowest_fatalities_by_model = fatalities_by_model_sorted.tail(10)\n",
    "lowest_fatalities_by_model"
   ]
  },
  {
   "cell_type": "markdown",
   "metadata": {},
   "source": [
    "Interpretation:\n",
    "Commercial planes generally have more fatalities in the event of a crash due to the larger number of passengers they carry. "
   ]
  },
  {
   "cell_type": "markdown",
   "metadata": {},
   "source": [
    "# Fatalities By Make."
   ]
  },
  {
   "cell_type": "code",
   "execution_count": 148,
   "metadata": {},
   "outputs": [],
   "source": [
    "fatalities_by_make = aviation_df.groupby('make')['total_fatal_injuries'].sum().reset_index()"
   ]
  },
  {
   "cell_type": "code",
   "execution_count": 149,
   "metadata": {},
   "outputs": [],
   "source": [
    "fatalities_by_make_sorted = fatalities_by_make.sort_values('total_fatal_injuries', ascending=False)"
   ]
  },
  {
   "cell_type": "code",
   "execution_count": 151,
   "metadata": {},
   "outputs": [
    {
     "data": {
      "text/html": [
       "<div>\n",
       "<style scoped>\n",
       "    .dataframe tbody tr th:only-of-type {\n",
       "        vertical-align: middle;\n",
       "    }\n",
       "\n",
       "    .dataframe tbody tr th {\n",
       "        vertical-align: top;\n",
       "    }\n",
       "\n",
       "    .dataframe thead th {\n",
       "        text-align: right;\n",
       "    }\n",
       "</style>\n",
       "<table border=\"1\" class=\"dataframe\">\n",
       "  <thead>\n",
       "    <tr style=\"text-align: right;\">\n",
       "      <th></th>\n",
       "      <th>make</th>\n",
       "      <th>total_fatal_injuries</th>\n",
       "    </tr>\n",
       "  </thead>\n",
       "  <tbody>\n",
       "    <tr>\n",
       "      <th>1259</th>\n",
       "      <td>Cessna</td>\n",
       "      <td>9641.0</td>\n",
       "    </tr>\n",
       "    <tr>\n",
       "      <th>827</th>\n",
       "      <td>Boeing</td>\n",
       "      <td>8748.0</td>\n",
       "    </tr>\n",
       "    <tr>\n",
       "      <th>5276</th>\n",
       "      <td>Piper</td>\n",
       "      <td>6689.0</td>\n",
       "    </tr>\n",
       "    <tr>\n",
       "      <th>638</th>\n",
       "      <td>Beech</td>\n",
       "      <td>3784.0</td>\n",
       "    </tr>\n",
       "    <tr>\n",
       "      <th>658</th>\n",
       "      <td>Bell</td>\n",
       "      <td>1332.0</td>\n",
       "    </tr>\n",
       "    <tr>\n",
       "      <th>175</th>\n",
       "      <td>Airbus</td>\n",
       "      <td>1325.0</td>\n",
       "    </tr>\n",
       "    <tr>\n",
       "      <th>4489</th>\n",
       "      <td>Mcdonnell douglas</td>\n",
       "      <td>1286.0</td>\n",
       "    </tr>\n",
       "    <tr>\n",
       "      <th>181</th>\n",
       "      <td>Airbus industrie</td>\n",
       "      <td>1174.0</td>\n",
       "    </tr>\n",
       "    <tr>\n",
       "      <th>1959</th>\n",
       "      <td>Douglas</td>\n",
       "      <td>984.0</td>\n",
       "    </tr>\n",
       "    <tr>\n",
       "      <th>4753</th>\n",
       "      <td>Mooney</td>\n",
       "      <td>685.0</td>\n",
       "    </tr>\n",
       "  </tbody>\n",
       "</table>\n",
       "</div>"
      ],
      "text/plain": [
       "                   make  total_fatal_injuries\n",
       "1259             Cessna                9641.0\n",
       "827              Boeing                8748.0\n",
       "5276              Piper                6689.0\n",
       "638               Beech                3784.0\n",
       "658                Bell                1332.0\n",
       "175              Airbus                1325.0\n",
       "4489  Mcdonnell douglas                1286.0\n",
       "181    Airbus industrie                1174.0\n",
       "1959            Douglas                 984.0\n",
       "4753             Mooney                 685.0"
      ]
     },
     "execution_count": 151,
     "metadata": {},
     "output_type": "execute_result"
    }
   ],
   "source": [
    "top_fatalities_by_make = fatalities_by_make_sorted.head(10)\n",
    "top_fatalities_by_make"
   ]
  },
  {
   "cell_type": "code",
   "execution_count": 152,
   "metadata": {},
   "outputs": [
    {
     "data": {
      "image/png": "[encoded data removed]",
      "text/plain": [
       "<Figure size 720x432 with 1 Axes>"
      ]
     },
     "metadata": {
      "needs_background": "light"
     },
     "output_type": "display_data"
    }
   ],
   "source": [
    "fig, ax = plt.subplots(figsize=(10, 6))\n",
    "\n",
    "ax.bar(top_fatalities_by_make['make'], top_fatalities_by_make['total_fatal_injuries'])\n",
    "\n",
    "ax.set_xlabel('Make')\n",
    "ax.set_ylabel('Total Fatal Injuries')\n",
    "ax.set_title('Top 10 Make with Highest Total Fatal Injuries')\n",
    "\n",
    "plt.xticks(rotation=90)\n",
    "\n",
    "plt.show()"
   ]
  },
  {
   "cell_type": "code",
   "execution_count": 153,
   "metadata": {},
   "outputs": [
    {
     "data": {
      "text/html": [
       "<div>\n",
       "<style scoped>\n",
       "    .dataframe tbody tr th:only-of-type {\n",
       "        vertical-align: middle;\n",
       "    }\n",
       "\n",
       "    .dataframe tbody tr th {\n",
       "        vertical-align: top;\n",
       "    }\n",
       "\n",
       "    .dataframe thead th {\n",
       "        text-align: right;\n",
       "    }\n",
       "</style>\n",
       "<table border=\"1\" class=\"dataframe\">\n",
       "  <thead>\n",
       "    <tr style=\"text-align: right;\">\n",
       "      <th></th>\n",
       "      <th>make</th>\n",
       "      <th>total_fatal_injuries</th>\n",
       "    </tr>\n",
       "  </thead>\n",
       "  <tbody>\n",
       "    <tr>\n",
       "      <th>3075</th>\n",
       "      <td>Haxton</td>\n",
       "      <td>0.0</td>\n",
       "    </tr>\n",
       "    <tr>\n",
       "      <th>3074</th>\n",
       "      <td>Hawley richard</td>\n",
       "      <td>0.0</td>\n",
       "    </tr>\n",
       "    <tr>\n",
       "      <th>3073</th>\n",
       "      <td>Hawkins william</td>\n",
       "      <td>0.0</td>\n",
       "    </tr>\n",
       "    <tr>\n",
       "      <th>3072</th>\n",
       "      <td>Hawkins august e</td>\n",
       "      <td>0.0</td>\n",
       "    </tr>\n",
       "    <tr>\n",
       "      <th>3071</th>\n",
       "      <td>Hawkins &amp; powers</td>\n",
       "      <td>0.0</td>\n",
       "    </tr>\n",
       "    <tr>\n",
       "      <th>3068</th>\n",
       "      <td>Hawker siddely</td>\n",
       "      <td>0.0</td>\n",
       "    </tr>\n",
       "    <tr>\n",
       "      <th>3058</th>\n",
       "      <td>Hawk</td>\n",
       "      <td>0.0</td>\n",
       "    </tr>\n",
       "    <tr>\n",
       "      <th>3056</th>\n",
       "      <td>Hauser, william c.</td>\n",
       "      <td>0.0</td>\n",
       "    </tr>\n",
       "    <tr>\n",
       "      <th>3055</th>\n",
       "      <td>Hauser u/hauser j</td>\n",
       "      <td>0.0</td>\n",
       "    </tr>\n",
       "    <tr>\n",
       "      <th>7586</th>\n",
       "      <td>Zwicker murray r</td>\n",
       "      <td>0.0</td>\n",
       "    </tr>\n",
       "  </tbody>\n",
       "</table>\n",
       "</div>"
      ],
      "text/plain": [
       "                    make  total_fatal_injuries\n",
       "3075              Haxton                   0.0\n",
       "3074      Hawley richard                   0.0\n",
       "3073     Hawkins william                   0.0\n",
       "3072    Hawkins august e                   0.0\n",
       "3071    Hawkins & powers                   0.0\n",
       "3068      Hawker siddely                   0.0\n",
       "3058                Hawk                   0.0\n",
       "3056  Hauser, william c.                   0.0\n",
       "3055   Hauser u/hauser j                   0.0\n",
       "7586    Zwicker murray r                   0.0"
      ]
     },
     "execution_count": 153,
     "metadata": {},
     "output_type": "execute_result"
    }
   ],
   "source": [
    "lowest_fatalities_by_make = fatalities_by_make_sorted.tail(10)\n",
    "lowest_fatalities_by_make"
   ]
  },
  {
   "cell_type": "code",
   "execution_count": 165,
   "metadata": {},
   "outputs": [
    {
     "data": {
      "text/plain": [
       "number_of_engines\n",
       "0.0     1226\n",
       "1.0    69582\n",
       "2.0    11079\n",
       "3.0      483\n",
       "4.0      431\n",
       "6.0        1\n",
       "8.0        3\n",
       "dtype: int64"
      ]
     },
     "execution_count": 165,
     "metadata": {},
     "output_type": "execute_result"
    }
   ],
   "source": [
    "crashes_by_number_of_engines = aviation_df.groupby('number_of_engines').size()\n",
    "crashes_by_number_of_engines"
   ]
  },
  {
   "cell_type": "code",
   "execution_count": 172,
   "metadata": {},
   "outputs": [
    {
     "data": {
      "image/png": "[encoded data removed]",
      "text/plain": [
       "<Figure size 1008x576 with 1 Axes>"
      ]
     },
     "metadata": {
      "needs_background": "light"
     },
     "output_type": "display_data"
    }
   ],
   "source": [
    "plt.figure(figsize=(14, 8))\n",
    "plt.bar(crashes_by_number_of_engines.index, crashes_by_number_of_engines.values)\n",
    "\n",
    "plt.xlabel('Number of Engines')\n",
    "plt.ylabel('Number of Crashes')\n",
    "plt.title('Number of Crashes by Number of Engines')\n",
    "\n",
    "plt.xticks(rotation=90)\n",
    "\n",
    "plt.show()"
   ]
  },
  {
   "cell_type": "code",
   "execution_count": 167,
   "metadata": {},
   "outputs": [
    {
     "data": {
      "text/plain": [
       "engine_type\n",
       "Electric              10\n",
       "Geared Turbofan       12\n",
       "Hybrid Rocket          1\n",
       "LR                     2\n",
       "NONE                   2\n",
       "None                  19\n",
       "Reciprocating      69530\n",
       "Turbo Fan           2481\n",
       "Turbo Jet            703\n",
       "Turbo Prop          3391\n",
       "Turbo Shaft         3609\n",
       "UNK                    1\n",
       "Unknown             2051\n",
       "dtype: int64"
      ]
     },
     "execution_count": 167,
     "metadata": {},
     "output_type": "execute_result"
    }
   ],
   "source": [
    "crashes_by_engine_type = aviation_df.groupby('engine_type').size()\n",
    "crashes_by_engine_type\n"
   ]
  },
  {
   "cell_type": "code",
   "execution_count": 171,
   "metadata": {},
   "outputs": [
    {
     "data": {
      "image/png": "[encoded data removed]",
      "text/plain": [
       "<Figure size 864x576 with 1 Axes>"
      ]
     },
     "metadata": {
      "needs_background": "light"
     },
     "output_type": "display_data"
    }
   ],
   "source": [
    "plt.figure(figsize=(12, 8))\n",
    "plt.bar(crashes_by_engine_type.index, crashes_by_engine_type.values)\n",
    "\n",
    "plt.xlabel('Engine Type')\n",
    "plt.ylabel('Number of Crashes')\n",
    "plt.title('Number of Crashes by Engine Type')\n",
    "\n",
    "plt.xticks(rotation=90)\n",
    "\n",
    "plt.show()\n"
   ]
  },
  {
   "cell_type": "code",
   "execution_count": null,
   "metadata": {},
   "outputs": [],
   "source": []
  }
 ],
 "metadata": {
  "kernelspec": {
   "display_name": "Python (learn-env)",
   "language": "python",
   "name": "learn-env"
  },
  "language_info": {
   "codemirror_mode": {
    "name": "ipython",
    "version": 3
   },
   "file_extension": ".py",
   "mimetype": "text/x-python",
   "name": "python",
   "nbconvert_exporter": "python",
   "pygments_lexer": "ipython3",
   "version": "3.8.5"
  }
 },
 "nbformat": 4,
 "nbformat_minor": 4
}
