{
 "cells": [
  {
   "cell_type": "code",
   "execution_count": 1,
   "metadata": {},
   "outputs": [],
   "source": [
    "##Project 1 JN"
   ]
  },
  {
   "cell_type": "code",
   "execution_count": null,
   "metadata": {},
   "outputs": [],
   "source": []
  },
  {
   "cell_type": "markdown",
   "metadata": {},
   "source": [
    "#Most interested in:\n",
    "\"\"\"\"\n",
    "* Event Date - have certain planes become safer over the years?\n",
    "* Purpose of Flight - are certain purposes more dangerous than others?\n",
    "* Injury Severity - how severe were the injuries?\n",
    "* Aircraft damage - how severe were the planes damaged?\n",
    "* All columns related to injuries - most important factor is human lives, how do they fare in accidents?\n",
    "* Weather Condition - what type of weather has been involved with crashes?\n",
    "* Broad Phase of Flight - do certain planes not fare well in specific phases of flight?\n",
    "* Report Status - do certain planes tend to have fault on the plane themselves?\n",
    "\n",
    "\n",
    "Thoughts:\n",
    "* Can we show that there are planes that have been in bad crashes but with minimal injuries or fatalaties? \n",
    "    If so, shows that plan is safe in the case of an accident.\n",
    "* Do certain planes fare better than others in Weather Conditions?\n",
    "\n",
    "Initial Tasks:\n",
    "* DONE --- standardize column names\n",
    "* DONE --- change date column to date format\n",
    "* DONE --- change Inj cols with values like \"Fatal(2)\" to 'Fatal' b/c # fatal is taken care of in Total.Fatal.Injuries\n",
    "* IN PROGRESS --- Analyze how many Null vales we have and decide how to handle\n",
    "\n",
    "Possible Recommendations:\n",
    "* which type of aircraft is safest (back it up with data related to #injuries/fatalaties and any growth in safety over time)\n",
    "* which locations seem safer (see if there are areas that are more dangerous potentially due to weather)\n",
    "* which purpose of flight tends to be safer (see if correlation between crashes and personal or commercial)\n",
    "\n",
    "\"\"\""
   ]
  },
  {
   "cell_type": "code",
   "execution_count": 2,
   "metadata": {},
   "outputs": [],
   "source": [
    "#import libraries\n",
    "import pandas as pd\n",
    "import numpy as np\n",
    "import matplotlib.pyplot as plt\n",
    "import seaborn as sns"
   ]
  },
  {
   "cell_type": "code",
   "execution_count": 3,
   "metadata": {},
   "outputs": [
    {
     "name": "stderr",
     "output_type": "stream",
     "text": [
      "/Users/robertdaly/anaconda3/envs/learn-env/lib/python3.8/site-packages/IPython/core/interactiveshell.py:3145: DtypeWarning: Columns (6,7,28) have mixed types.Specify dtype option on import or set low_memory=False.\n",
      "  has_raised = await self.run_ast_nodes(code_ast.body, cell_name,\n"
     ]
    }
   ],
   "source": [
    "#import data and save to df\n",
    "aviation_df = pd.read_csv('Data/Aviation_Data.csv')\n",
    "state_codes_df = pd.read_csv('Data/USState_Codes.csv')"
   ]
  },
  {
   "cell_type": "code",
   "execution_count": 4,
   "metadata": {},
   "outputs": [
    {
     "name": "stderr",
     "output_type": "stream",
     "text": [
      "/Users/robertdaly/anaconda3/envs/learn-env/lib/python3.8/site-packages/pandas/core/indexing.py:670: SettingWithCopyWarning: \n",
      "A value is trying to be set on a copy of a slice from a DataFrame\n",
      "\n",
      "See the caveats in the documentation: https://pandas.pydata.org/pandas-docs/stable/user_guide/indexing.html#returning-a-view-versus-a-copy\n",
      "  iloc._setitem_with_indexer(indexer, value)\n"
     ]
    },
    {
     "name": "stdout",
     "output_type": "stream",
     "text": [
      "58\n"
     ]
    }
   ],
   "source": [
    "#Standardize column names\n",
    "aviation_df = aviation_df.rename(columns = lambda x: x.replace(\".\", \"_\").lower())\n",
    "\n",
    "#Create a year column that contains just the year\n",
    "aviation_df['year'] = aviation_df['event_date'].str[:4]\n",
    "\n",
    "#Standardize Unkown weather condition code to UNK\n",
    "aviation_df['weather_condition'].loc[aviation_df['weather_condition']=='Unk']='UNK'\n",
    "\n",
    "#standardizing the names of the airplane makes by making them all lower case with first letter capitalized\n",
    "aviation_df.loc[:, 'make'] = aviation_df['make'].str.lower().str.capitalize()\n",
    "\n",
    "#replacing some names that were inconsistent in airplane make\n",
    "aircraft_dict = {\n",
    "    'Robinson helicopter company' : 'Robinson helicopter',\n",
    "    'Robinson' : 'Robinson helicopter',\n",
    "    'Robinson Helicopter' : 'Robinson helicopter'}\n",
    "aviation_df.loc[:, 'make'] = aviation_df['make'].replace(aircraft_dict)\n",
    "\n",
    "#create new column with state initials to easily filter by State\n",
    "aviation_df['state']=aviation_df['location'].str.upper().str[-2:]\n",
    "\n",
    "#narrow down to 50 states b/c that's where majority of data is\n",
    "aviation_df = aviation_df.loc[aviation_df['state'].isin(state_codes_df['Abbreviation'])]\n",
    "\n",
    "#Group into regions of country to better analyze regions\n",
    "regions_dict = {\n",
    "    \"CT\": \"Northeast\",\n",
    "    \"ME\": \"Northeast\",\n",
    "    \"MA\": \"Northeast\",\n",
    "    \"NH\": \"Northeast\",\n",
    "    \"NJ\": \"Northeast\",\n",
    "    \"NY\": \"Northeast\",\n",
    "    \"PA\": \"Northeast\",\n",
    "    \"RI\": \"Northeast\",\n",
    "    \"VT\": \"Northeast\",\n",
    "    \"MD\": \"Northeast\",\n",
    "    \"DC\": \"Northeast\",\n",
    "    \"AL\": \"Southeast\",\n",
    "    \"AR\": \"Southeast\",\n",
    "    \"FL\": \"Southeast\",\n",
    "    \"GA\": \"Southeast\",\n",
    "    \"KY\": \"Southeast\",\n",
    "    \"LA\": \"Southeast\",\n",
    "    \"MS\": \"Southeast\",\n",
    "    \"NC\": \"Southeast\",\n",
    "    \"SC\": \"Southeast\",\n",
    "    \"TN\": \"Southeast\",\n",
    "    \"TX\": \"Southeast\",\n",
    "    \"VA\": \"Southeast\",\n",
    "    \"WV\": \"Southeast\",\n",
    "    \"OK\": \"Southeast\",\n",
    "    \"DE\": \"Southeast\",\n",
    "    \"IL\": \"Midwest\",\n",
    "    \"IN\": \"Midwest\",\n",
    "    \"IA\": \"Midwest\",\n",
    "    \"KS\": \"Midwest\",\n",
    "    \"MI\": \"Midwest\",\n",
    "    \"MN\": \"Midwest\",\n",
    "    \"MO\": \"Midwest\",\n",
    "    \"NE\": \"Midwest\",\n",
    "    \"ND\": \"Midwest\",\n",
    "    \"OH\": \"Midwest\",\n",
    "    \"SD\": \"Midwest\",\n",
    "    \"WI\": \"Midwest\",\n",
    "    \"AZ\": \"Southwest\",\n",
    "    \"NM\": \"Southwest\",\n",
    "    \"AK\": \"West\",\n",
    "    \"CA\": \"West\",\n",
    "    \"CO\": \"West\",\n",
    "    \"HI\": \"West\",\n",
    "    \"ID\": \"West\",\n",
    "    \"MT\": \"West\",\n",
    "    \"NV\": \"West\",\n",
    "    \"OR\": \"West\",\n",
    "    \"UT\": \"West\",\n",
    "    \"WA\": \"West\",\n",
    "    \"WY\": \"West\",\n",
    "    \"AO\": \"Atlantic Ocean\",\n",
    "    \"AS\": \"Pacific Ocean\",\n",
    "    \"PR\": \"Caribbean Sea/Gulf of Mexico\", #combined b/c not as many data points as other regions\n",
    "    \"GU\": \"Pacific Ocean\",\n",
    "    \"PO\": \"Pacific Ocean\",\n",
    "    \"GM\": \"Caribbean Sea/Gulf of Mexico\",\n",
    "    \"VI\": \"Caribbean Sea/Gulf of Mexico\"\n",
    "}\n",
    "\n",
    "\n",
    "print(len(regions_dict))\n",
    "aviation_df['region'] = aviation_df['state'].map(lambda x: regions_dict[x])\n",
    "\n",
    "#Set the year from 1980 onwards b/c this is wher majority of data lies\n",
    "aviation_df = aviation_df.loc[aviation_df['year']>='1980']"
   ]
  },
  {
   "cell_type": "code",
   "execution_count": 5,
   "metadata": {},
   "outputs": [],
   "source": [
    "#Identify top_ten_makes\n",
    "top_ten_makes = list(aviation_df['make'].value_counts().index[:10])"
   ]
  },
  {
   "cell_type": "code",
   "execution_count": 6,
   "metadata": {},
   "outputs": [],
   "source": [
    "#Narrow dataset down to only top 10 makes (this reduces the dataset by about 30k!)\n",
    "# aviation_df = aviation_df.loc[aviation_df['make'].isin(top_ten_makes)] \n",
    "#I think we actually could just do this in Tableau and set the filter to be the top 10"
   ]
  },
  {
   "cell_type": "code",
   "execution_count": 7,
   "metadata": {},
   "outputs": [
    {
     "data": {
      "text/plain": [
       "(85434, 34)"
      ]
     },
     "execution_count": 7,
     "metadata": {},
     "output_type": "execute_result"
    }
   ],
   "source": [
    "aviation_df.shape"
   ]
  },
  {
   "cell_type": "code",
   "execution_count": 8,
   "metadata": {},
   "outputs": [
    {
     "name": "stdout",
     "output_type": "stream",
     "text": [
      "<class 'pandas.core.frame.DataFrame'>\n",
      "Int64Index: 85434 entries, 6 to 90347\n",
      "Data columns (total 34 columns):\n",
      " #   Column                  Non-Null Count  Dtype  \n",
      "---  ------                  --------------  -----  \n",
      " 0   event_id                85434 non-null  object \n",
      " 1   investigation_type      85434 non-null  object \n",
      " 2   accident_number         85434 non-null  object \n",
      " 3   event_date              85434 non-null  object \n",
      " 4   location                85434 non-null  object \n",
      " 5   country                 85377 non-null  object \n",
      " 6   latitude                33408 non-null  object \n",
      " 7   longitude               33399 non-null  object \n",
      " 8   airport_code            49649 non-null  object \n",
      " 9   airport_name            52164 non-null  object \n",
      " 10  injury_severity         84919 non-null  object \n",
      " 11  aircraft_damage         82976 non-null  object \n",
      " 12  aircraft_category       30194 non-null  object \n",
      " 13  registration_number     84671 non-null  object \n",
      " 14  make                    85387 non-null  object \n",
      " 15  model                   85364 non-null  object \n",
      " 16  amateur_built           85379 non-null  object \n",
      " 17  number_of_engines       81431 non-null  float64\n",
      " 18  engine_type             80428 non-null  object \n",
      " 19  far_description         30060 non-null  object \n",
      " 20  schedule                11359 non-null  object \n",
      " 21  purpose_of_flight       81248 non-null  object \n",
      " 22  air_carrier             15525 non-null  object \n",
      " 23  total_fatal_injuries    74426 non-null  float64\n",
      " 24  total_serious_injuries  73459 non-null  float64\n",
      " 25  total_minor_injuries    74073 non-null  float64\n",
      " 26  total_uninjured         79913 non-null  float64\n",
      " 27  weather_condition       82968 non-null  object \n",
      " 28  broad_phase_of_flight   61271 non-null  object \n",
      " 29  report_status           80965 non-null  object \n",
      " 30  publication_date        70876 non-null  object \n",
      " 31  year                    85434 non-null  object \n",
      " 32  state                   85434 non-null  object \n",
      " 33  region                  85434 non-null  object \n",
      "dtypes: float64(5), object(29)\n",
      "memory usage: 22.8+ MB\n"
     ]
    }
   ],
   "source": [
    "aviation_df.info()"
   ]
  },
  {
   "cell_type": "code",
   "execution_count": 9,
   "metadata": {},
   "outputs": [
    {
     "data": {
      "text/html": [
       "<div>\n",
       "<style scoped>\n",
       "    .dataframe tbody tr th:only-of-type {\n",
       "        vertical-align: middle;\n",
       "    }\n",
       "\n",
       "    .dataframe tbody tr th {\n",
       "        vertical-align: top;\n",
       "    }\n",
       "\n",
       "    .dataframe thead th {\n",
       "        text-align: right;\n",
       "    }\n",
       "</style>\n",
       "<table border=\"1\" class=\"dataframe\">\n",
       "  <thead>\n",
       "    <tr style=\"text-align: right;\">\n",
       "      <th></th>\n",
       "      <th>event_id</th>\n",
       "      <th>investigation_type</th>\n",
       "      <th>accident_number</th>\n",
       "      <th>event_date</th>\n",
       "      <th>location</th>\n",
       "      <th>country</th>\n",
       "      <th>latitude</th>\n",
       "      <th>longitude</th>\n",
       "      <th>airport_code</th>\n",
       "      <th>airport_name</th>\n",
       "      <th>...</th>\n",
       "      <th>total_serious_injuries</th>\n",
       "      <th>total_minor_injuries</th>\n",
       "      <th>total_uninjured</th>\n",
       "      <th>weather_condition</th>\n",
       "      <th>broad_phase_of_flight</th>\n",
       "      <th>report_status</th>\n",
       "      <th>publication_date</th>\n",
       "      <th>year</th>\n",
       "      <th>state</th>\n",
       "      <th>region</th>\n",
       "    </tr>\n",
       "  </thead>\n",
       "  <tbody>\n",
       "    <tr>\n",
       "      <th>6</th>\n",
       "      <td>20001218X45446</td>\n",
       "      <td>Accident</td>\n",
       "      <td>CHI81LA106</td>\n",
       "      <td>1981-08-01</td>\n",
       "      <td>COTTON, MN</td>\n",
       "      <td>United States</td>\n",
       "      <td>NaN</td>\n",
       "      <td>NaN</td>\n",
       "      <td>NaN</td>\n",
       "      <td>NaN</td>\n",
       "      <td>...</td>\n",
       "      <td>0.0</td>\n",
       "      <td>0.0</td>\n",
       "      <td>0.0</td>\n",
       "      <td>IMC</td>\n",
       "      <td>Unknown</td>\n",
       "      <td>Probable Cause</td>\n",
       "      <td>06-11-2001</td>\n",
       "      <td>1981</td>\n",
       "      <td>MN</td>\n",
       "      <td>Midwest</td>\n",
       "    </tr>\n",
       "    <tr>\n",
       "      <th>7</th>\n",
       "      <td>20020909X01562</td>\n",
       "      <td>Accident</td>\n",
       "      <td>SEA82DA022</td>\n",
       "      <td>1982-01-01</td>\n",
       "      <td>PULLMAN, WA</td>\n",
       "      <td>United States</td>\n",
       "      <td>NaN</td>\n",
       "      <td>NaN</td>\n",
       "      <td>NaN</td>\n",
       "      <td>BLACKBURN AG STRIP</td>\n",
       "      <td>...</td>\n",
       "      <td>0.0</td>\n",
       "      <td>0.0</td>\n",
       "      <td>2.0</td>\n",
       "      <td>VMC</td>\n",
       "      <td>Takeoff</td>\n",
       "      <td>Probable Cause</td>\n",
       "      <td>01-01-1982</td>\n",
       "      <td>1982</td>\n",
       "      <td>WA</td>\n",
       "      <td>West</td>\n",
       "    </tr>\n",
       "    <tr>\n",
       "      <th>8</th>\n",
       "      <td>20020909X01561</td>\n",
       "      <td>Accident</td>\n",
       "      <td>NYC82DA015</td>\n",
       "      <td>1982-01-01</td>\n",
       "      <td>EAST HANOVER, NJ</td>\n",
       "      <td>United States</td>\n",
       "      <td>NaN</td>\n",
       "      <td>NaN</td>\n",
       "      <td>N58</td>\n",
       "      <td>HANOVER</td>\n",
       "      <td>...</td>\n",
       "      <td>0.0</td>\n",
       "      <td>0.0</td>\n",
       "      <td>2.0</td>\n",
       "      <td>IMC</td>\n",
       "      <td>Landing</td>\n",
       "      <td>Probable Cause</td>\n",
       "      <td>01-01-1982</td>\n",
       "      <td>1982</td>\n",
       "      <td>NJ</td>\n",
       "      <td>Northeast</td>\n",
       "    </tr>\n",
       "    <tr>\n",
       "      <th>9</th>\n",
       "      <td>20020909X01560</td>\n",
       "      <td>Accident</td>\n",
       "      <td>MIA82DA029</td>\n",
       "      <td>1982-01-01</td>\n",
       "      <td>JACKSONVILLE, FL</td>\n",
       "      <td>United States</td>\n",
       "      <td>NaN</td>\n",
       "      <td>NaN</td>\n",
       "      <td>JAX</td>\n",
       "      <td>JACKSONVILLE INTL</td>\n",
       "      <td>...</td>\n",
       "      <td>0.0</td>\n",
       "      <td>3.0</td>\n",
       "      <td>0.0</td>\n",
       "      <td>IMC</td>\n",
       "      <td>Cruise</td>\n",
       "      <td>Probable Cause</td>\n",
       "      <td>01-01-1982</td>\n",
       "      <td>1982</td>\n",
       "      <td>FL</td>\n",
       "      <td>Southeast</td>\n",
       "    </tr>\n",
       "    <tr>\n",
       "      <th>10</th>\n",
       "      <td>20020909X01559</td>\n",
       "      <td>Accident</td>\n",
       "      <td>FTW82DA034</td>\n",
       "      <td>1982-01-01</td>\n",
       "      <td>HOBBS, NM</td>\n",
       "      <td>United States</td>\n",
       "      <td>NaN</td>\n",
       "      <td>NaN</td>\n",
       "      <td>NaN</td>\n",
       "      <td>NaN</td>\n",
       "      <td>...</td>\n",
       "      <td>0.0</td>\n",
       "      <td>0.0</td>\n",
       "      <td>1.0</td>\n",
       "      <td>VMC</td>\n",
       "      <td>Approach</td>\n",
       "      <td>Probable Cause</td>\n",
       "      <td>01-01-1982</td>\n",
       "      <td>1982</td>\n",
       "      <td>NM</td>\n",
       "      <td>Southwest</td>\n",
       "    </tr>\n",
       "  </tbody>\n",
       "</table>\n",
       "<p>5 rows × 34 columns</p>\n",
       "</div>"
      ],
      "text/plain": [
       "          event_id investigation_type accident_number  event_date  \\\n",
       "6   20001218X45446           Accident      CHI81LA106  1981-08-01   \n",
       "7   20020909X01562           Accident      SEA82DA022  1982-01-01   \n",
       "8   20020909X01561           Accident      NYC82DA015  1982-01-01   \n",
       "9   20020909X01560           Accident      MIA82DA029  1982-01-01   \n",
       "10  20020909X01559           Accident      FTW82DA034  1982-01-01   \n",
       "\n",
       "            location        country latitude longitude airport_code  \\\n",
       "6         COTTON, MN  United States      NaN       NaN          NaN   \n",
       "7        PULLMAN, WA  United States      NaN       NaN          NaN   \n",
       "8   EAST HANOVER, NJ  United States      NaN       NaN          N58   \n",
       "9   JACKSONVILLE, FL  United States      NaN       NaN          JAX   \n",
       "10         HOBBS, NM  United States      NaN       NaN          NaN   \n",
       "\n",
       "          airport_name  ... total_serious_injuries total_minor_injuries  \\\n",
       "6                  NaN  ...                    0.0                  0.0   \n",
       "7   BLACKBURN AG STRIP  ...                    0.0                  0.0   \n",
       "8              HANOVER  ...                    0.0                  0.0   \n",
       "9    JACKSONVILLE INTL  ...                    0.0                  3.0   \n",
       "10                 NaN  ...                    0.0                  0.0   \n",
       "\n",
       "   total_uninjured weather_condition broad_phase_of_flight   report_status  \\\n",
       "6              0.0               IMC               Unknown  Probable Cause   \n",
       "7              2.0               VMC               Takeoff  Probable Cause   \n",
       "8              2.0               IMC               Landing  Probable Cause   \n",
       "9              0.0               IMC                Cruise  Probable Cause   \n",
       "10             1.0               VMC              Approach  Probable Cause   \n",
       "\n",
       "   publication_date  year state     region  \n",
       "6        06-11-2001  1981    MN    Midwest  \n",
       "7        01-01-1982  1982    WA       West  \n",
       "8        01-01-1982  1982    NJ  Northeast  \n",
       "9        01-01-1982  1982    FL  Southeast  \n",
       "10       01-01-1982  1982    NM  Southwest  \n",
       "\n",
       "[5 rows x 34 columns]"
      ]
     },
     "execution_count": 9,
     "metadata": {},
     "output_type": "execute_result"
    }
   ],
   "source": [
    "aviation_df.head()"
   ]
  },
  {
   "cell_type": "code",
   "execution_count": 10,
   "metadata": {},
   "outputs": [
    {
     "data": {
      "text/html": [
       "<div>\n",
       "<style scoped>\n",
       "    .dataframe tbody tr th:only-of-type {\n",
       "        vertical-align: middle;\n",
       "    }\n",
       "\n",
       "    .dataframe tbody tr th {\n",
       "        vertical-align: top;\n",
       "    }\n",
       "\n",
       "    .dataframe thead th {\n",
       "        text-align: right;\n",
       "    }\n",
       "</style>\n",
       "<table border=\"1\" class=\"dataframe\">\n",
       "  <thead>\n",
       "    <tr style=\"text-align: right;\">\n",
       "      <th></th>\n",
       "      <th>total_fatal_injuries</th>\n",
       "      <th>total_serious_injuries</th>\n",
       "      <th>total_minor_injuries</th>\n",
       "      <th>total_uninjured</th>\n",
       "    </tr>\n",
       "  </thead>\n",
       "  <tbody>\n",
       "    <tr>\n",
       "      <th>count</th>\n",
       "      <td>74426.000000</td>\n",
       "      <td>73459.000000</td>\n",
       "      <td>74073.000000</td>\n",
       "      <td>79913.000000</td>\n",
       "    </tr>\n",
       "    <tr>\n",
       "      <th>mean</th>\n",
       "      <td>0.550184</td>\n",
       "      <td>0.270600</td>\n",
       "      <td>0.340124</td>\n",
       "      <td>4.647930</td>\n",
       "    </tr>\n",
       "    <tr>\n",
       "      <th>std</th>\n",
       "      <td>4.420733</td>\n",
       "      <td>1.364642</td>\n",
       "      <td>1.417393</td>\n",
       "      <td>24.998186</td>\n",
       "    </tr>\n",
       "    <tr>\n",
       "      <th>min</th>\n",
       "      <td>0.000000</td>\n",
       "      <td>0.000000</td>\n",
       "      <td>0.000000</td>\n",
       "      <td>0.000000</td>\n",
       "    </tr>\n",
       "    <tr>\n",
       "      <th>25%</th>\n",
       "      <td>0.000000</td>\n",
       "      <td>0.000000</td>\n",
       "      <td>0.000000</td>\n",
       "      <td>0.000000</td>\n",
       "    </tr>\n",
       "    <tr>\n",
       "      <th>50%</th>\n",
       "      <td>0.000000</td>\n",
       "      <td>0.000000</td>\n",
       "      <td>0.000000</td>\n",
       "      <td>1.000000</td>\n",
       "    </tr>\n",
       "    <tr>\n",
       "      <th>75%</th>\n",
       "      <td>0.000000</td>\n",
       "      <td>0.000000</td>\n",
       "      <td>0.000000</td>\n",
       "      <td>2.000000</td>\n",
       "    </tr>\n",
       "    <tr>\n",
       "      <th>max</th>\n",
       "      <td>349.000000</td>\n",
       "      <td>137.000000</td>\n",
       "      <td>125.000000</td>\n",
       "      <td>699.000000</td>\n",
       "    </tr>\n",
       "  </tbody>\n",
       "</table>\n",
       "</div>"
      ],
      "text/plain": [
       "       total_fatal_injuries  total_serious_injuries  total_minor_injuries  \\\n",
       "count          74426.000000            73459.000000          74073.000000   \n",
       "mean               0.550184                0.270600              0.340124   \n",
       "std                4.420733                1.364642              1.417393   \n",
       "min                0.000000                0.000000              0.000000   \n",
       "25%                0.000000                0.000000              0.000000   \n",
       "50%                0.000000                0.000000              0.000000   \n",
       "75%                0.000000                0.000000              0.000000   \n",
       "max              349.000000              137.000000            125.000000   \n",
       "\n",
       "       total_uninjured  \n",
       "count     79913.000000  \n",
       "mean          4.647930  \n",
       "std          24.998186  \n",
       "min           0.000000  \n",
       "25%           0.000000  \n",
       "50%           1.000000  \n",
       "75%           2.000000  \n",
       "max         699.000000  "
      ]
     },
     "execution_count": 10,
     "metadata": {},
     "output_type": "execute_result"
    }
   ],
   "source": [
    "#Analyze injury columns and notice that we have very weird data with only Max present\n",
    "aviation_df[['injury_severity','total_fatal_injuries','total_serious_injuries','total_minor_injuries','total_uninjured']].describe()"
   ]
  },
  {
   "cell_type": "code",
   "execution_count": 11,
   "metadata": {},
   "outputs": [
    {
     "data": {
      "text/plain": [
       "0"
      ]
     },
     "execution_count": 11,
     "metadata": {},
     "output_type": "execute_result"
    }
   ],
   "source": [
    "#Find how many NAs in this column -> 2.7% of all entries have NA for injury_severity\n",
    "aviation_df['injury_severity'].isna().sum()\n",
    "\n",
    "#Change NAs in this column to Not Applicable for now. Can possibly change this later based on injury columns \n",
    "aviation_df['injury_severity'].loc[aviation_df['injury_severity'].isna()] = 'Not Applicable'\n",
    "\n",
    "#Check to confirm the replacement worked\n",
    "aviation_df['injury_severity'].isna().sum()"
   ]
  },
  {
   "cell_type": "code",
   "execution_count": 12,
   "metadata": {},
   "outputs": [
    {
     "name": "stderr",
     "output_type": "stream",
     "text": [
      "/Users/robertdaly/anaconda3/envs/learn-env/lib/python3.8/site-packages/pandas/core/indexing.py:670: SettingWithCopyWarning: \n",
      "A value is trying to be set on a copy of a slice from a DataFrame\n",
      "\n",
      "See the caveats in the documentation: https://pandas.pydata.org/pandas-docs/stable/user_guide/indexing.html#returning-a-view-versus-a-copy\n",
      "  iloc._setitem_with_indexer(indexer, value)\n"
     ]
    }
   ],
   "source": [
    "#Change all values with Fatal() to just Fatal b/c counts are taken care of in total_fatalaties column\n",
    "aviation_df['injury_severity'].loc[aviation_df['injury_severity'].str.contains(\"Fatal\\(.*\\)\")] = 'Fatal'"
   ]
  },
  {
   "cell_type": "code",
   "execution_count": 13,
   "metadata": {},
   "outputs": [
    {
     "data": {
      "text/plain": [
       "Non-Fatal         65944\n",
       "Fatal             16560\n",
       "Incident           2011\n",
       "Not Applicable      515\n",
       "Minor               203\n",
       "Serious             153\n",
       "Unavailable          48\n",
       "Name: injury_severity, dtype: int64"
      ]
     },
     "execution_count": 13,
     "metadata": {},
     "output_type": "execute_result"
    }
   ],
   "source": [
    "#Confirm that change was successful\n",
    "aviation_df['injury_severity'].value_counts()"
   ]
  },
  {
   "cell_type": "markdown",
   "metadata": {},
   "source": [
    "# Checkpoint\n",
    "### At this point we have completed the following:\n",
    "    1. Import libraries\n",
    "    2. Import data\n",
    "    3. Standardize column names\n",
    "    4. Change event_date type to timestamp\n",
    "    5. Clean up 'injury_severity' column by replaceing NAs with 'Not Applicable' \n",
    "        and removing counts b/c are represented in total_fatalities column"
   ]
  },
  {
   "cell_type": "markdown",
   "metadata": {},
   "source": [
    "# # Next Steps: \n",
    "### Make graphs to find correlations and relationships between columns\n",
    "1. \n",
    "    "
   ]
  },
  {
   "cell_type": "code",
   "execution_count": 14,
   "metadata": {},
   "outputs": [
    {
     "data": {
      "text/plain": [
       "event_id                      0\n",
       "investigation_type            0\n",
       "accident_number               0\n",
       "event_date                    0\n",
       "location                      0\n",
       "country                      57\n",
       "latitude                  52026\n",
       "longitude                 52035\n",
       "airport_code              35785\n",
       "airport_name              33270\n",
       "injury_severity               0\n",
       "aircraft_damage            2458\n",
       "aircraft_category         55240\n",
       "registration_number         763\n",
       "make                         47\n",
       "model                        70\n",
       "amateur_built                55\n",
       "number_of_engines          4003\n",
       "engine_type                5006\n",
       "far_description           55374\n",
       "schedule                  74075\n",
       "purpose_of_flight          4186\n",
       "air_carrier               69909\n",
       "total_fatal_injuries      11008\n",
       "total_serious_injuries    11975\n",
       "total_minor_injuries      11361\n",
       "total_uninjured            5521\n",
       "weather_condition          2466\n",
       "broad_phase_of_flight     24163\n",
       "report_status              4469\n",
       "publication_date          14558\n",
       "year                          0\n",
       "state                         0\n",
       "region                        0\n",
       "dtype: int64"
      ]
     },
     "execution_count": 14,
     "metadata": {},
     "output_type": "execute_result"
    }
   ],
   "source": [
    "#Check to see how many Nulls in each columns\n",
    "aviation_df.isna().sum()"
   ]
  },
  {
   "cell_type": "code",
   "execution_count": 15,
   "metadata": {},
   "outputs": [],
   "source": [
    "#Create subset of accidents\n",
    "accident_df = aviation_df.loc[aviation_df['investigation_type']=='Accident']\n"
   ]
  },
  {
   "cell_type": "code",
   "execution_count": 16,
   "metadata": {},
   "outputs": [
    {
     "data": {
      "text/plain": [
       "Accident    82401\n",
       "Incident     3033\n",
       "Name: investigation_type, dtype: int64"
      ]
     },
     "execution_count": 16,
     "metadata": {},
     "output_type": "execute_result"
    }
   ],
   "source": [
    "#With 85,015 Accidents the new df should have 85,015 entries\n",
    "aviation_df['investigation_type'].value_counts()"
   ]
  },
  {
   "cell_type": "code",
   "execution_count": 17,
   "metadata": {},
   "outputs": [
    {
     "data": {
      "text/plain": [
       "(82401, 34)"
      ]
     },
     "execution_count": 17,
     "metadata": {},
     "output_type": "execute_result"
    }
   ],
   "source": [
    "accident_df.shape"
   ]
  },
  {
   "cell_type": "code",
   "execution_count": 18,
   "metadata": {},
   "outputs": [
    {
     "data": {
      "text/html": [
       "<div>\n",
       "<style scoped>\n",
       "    .dataframe tbody tr th:only-of-type {\n",
       "        vertical-align: middle;\n",
       "    }\n",
       "\n",
       "    .dataframe tbody tr th {\n",
       "        vertical-align: top;\n",
       "    }\n",
       "\n",
       "    .dataframe thead th {\n",
       "        text-align: right;\n",
       "    }\n",
       "</style>\n",
       "<table border=\"1\" class=\"dataframe\">\n",
       "  <thead>\n",
       "    <tr style=\"text-align: right;\">\n",
       "      <th></th>\n",
       "      <th>event_id</th>\n",
       "      <th>investigation_type</th>\n",
       "      <th>accident_number</th>\n",
       "      <th>event_date</th>\n",
       "      <th>location</th>\n",
       "      <th>country</th>\n",
       "      <th>latitude</th>\n",
       "      <th>longitude</th>\n",
       "      <th>airport_code</th>\n",
       "      <th>airport_name</th>\n",
       "      <th>...</th>\n",
       "      <th>total_serious_injuries</th>\n",
       "      <th>total_minor_injuries</th>\n",
       "      <th>total_uninjured</th>\n",
       "      <th>weather_condition</th>\n",
       "      <th>broad_phase_of_flight</th>\n",
       "      <th>report_status</th>\n",
       "      <th>publication_date</th>\n",
       "      <th>year</th>\n",
       "      <th>state</th>\n",
       "      <th>region</th>\n",
       "    </tr>\n",
       "  </thead>\n",
       "  <tbody>\n",
       "    <tr>\n",
       "      <th>6</th>\n",
       "      <td>20001218X45446</td>\n",
       "      <td>Accident</td>\n",
       "      <td>CHI81LA106</td>\n",
       "      <td>1981-08-01</td>\n",
       "      <td>COTTON, MN</td>\n",
       "      <td>United States</td>\n",
       "      <td>NaN</td>\n",
       "      <td>NaN</td>\n",
       "      <td>NaN</td>\n",
       "      <td>NaN</td>\n",
       "      <td>...</td>\n",
       "      <td>0.0</td>\n",
       "      <td>0.0</td>\n",
       "      <td>0.0</td>\n",
       "      <td>IMC</td>\n",
       "      <td>Unknown</td>\n",
       "      <td>Probable Cause</td>\n",
       "      <td>06-11-2001</td>\n",
       "      <td>1981</td>\n",
       "      <td>MN</td>\n",
       "      <td>Midwest</td>\n",
       "    </tr>\n",
       "    <tr>\n",
       "      <th>7</th>\n",
       "      <td>20020909X01562</td>\n",
       "      <td>Accident</td>\n",
       "      <td>SEA82DA022</td>\n",
       "      <td>1982-01-01</td>\n",
       "      <td>PULLMAN, WA</td>\n",
       "      <td>United States</td>\n",
       "      <td>NaN</td>\n",
       "      <td>NaN</td>\n",
       "      <td>NaN</td>\n",
       "      <td>BLACKBURN AG STRIP</td>\n",
       "      <td>...</td>\n",
       "      <td>0.0</td>\n",
       "      <td>0.0</td>\n",
       "      <td>2.0</td>\n",
       "      <td>VMC</td>\n",
       "      <td>Takeoff</td>\n",
       "      <td>Probable Cause</td>\n",
       "      <td>01-01-1982</td>\n",
       "      <td>1982</td>\n",
       "      <td>WA</td>\n",
       "      <td>West</td>\n",
       "    </tr>\n",
       "    <tr>\n",
       "      <th>8</th>\n",
       "      <td>20020909X01561</td>\n",
       "      <td>Accident</td>\n",
       "      <td>NYC82DA015</td>\n",
       "      <td>1982-01-01</td>\n",
       "      <td>EAST HANOVER, NJ</td>\n",
       "      <td>United States</td>\n",
       "      <td>NaN</td>\n",
       "      <td>NaN</td>\n",
       "      <td>N58</td>\n",
       "      <td>HANOVER</td>\n",
       "      <td>...</td>\n",
       "      <td>0.0</td>\n",
       "      <td>0.0</td>\n",
       "      <td>2.0</td>\n",
       "      <td>IMC</td>\n",
       "      <td>Landing</td>\n",
       "      <td>Probable Cause</td>\n",
       "      <td>01-01-1982</td>\n",
       "      <td>1982</td>\n",
       "      <td>NJ</td>\n",
       "      <td>Northeast</td>\n",
       "    </tr>\n",
       "    <tr>\n",
       "      <th>9</th>\n",
       "      <td>20020909X01560</td>\n",
       "      <td>Accident</td>\n",
       "      <td>MIA82DA029</td>\n",
       "      <td>1982-01-01</td>\n",
       "      <td>JACKSONVILLE, FL</td>\n",
       "      <td>United States</td>\n",
       "      <td>NaN</td>\n",
       "      <td>NaN</td>\n",
       "      <td>JAX</td>\n",
       "      <td>JACKSONVILLE INTL</td>\n",
       "      <td>...</td>\n",
       "      <td>0.0</td>\n",
       "      <td>3.0</td>\n",
       "      <td>0.0</td>\n",
       "      <td>IMC</td>\n",
       "      <td>Cruise</td>\n",
       "      <td>Probable Cause</td>\n",
       "      <td>01-01-1982</td>\n",
       "      <td>1982</td>\n",
       "      <td>FL</td>\n",
       "      <td>Southeast</td>\n",
       "    </tr>\n",
       "    <tr>\n",
       "      <th>10</th>\n",
       "      <td>20020909X01559</td>\n",
       "      <td>Accident</td>\n",
       "      <td>FTW82DA034</td>\n",
       "      <td>1982-01-01</td>\n",
       "      <td>HOBBS, NM</td>\n",
       "      <td>United States</td>\n",
       "      <td>NaN</td>\n",
       "      <td>NaN</td>\n",
       "      <td>NaN</td>\n",
       "      <td>NaN</td>\n",
       "      <td>...</td>\n",
       "      <td>0.0</td>\n",
       "      <td>0.0</td>\n",
       "      <td>1.0</td>\n",
       "      <td>VMC</td>\n",
       "      <td>Approach</td>\n",
       "      <td>Probable Cause</td>\n",
       "      <td>01-01-1982</td>\n",
       "      <td>1982</td>\n",
       "      <td>NM</td>\n",
       "      <td>Southwest</td>\n",
       "    </tr>\n",
       "  </tbody>\n",
       "</table>\n",
       "<p>5 rows × 34 columns</p>\n",
       "</div>"
      ],
      "text/plain": [
       "          event_id investigation_type accident_number  event_date  \\\n",
       "6   20001218X45446           Accident      CHI81LA106  1981-08-01   \n",
       "7   20020909X01562           Accident      SEA82DA022  1982-01-01   \n",
       "8   20020909X01561           Accident      NYC82DA015  1982-01-01   \n",
       "9   20020909X01560           Accident      MIA82DA029  1982-01-01   \n",
       "10  20020909X01559           Accident      FTW82DA034  1982-01-01   \n",
       "\n",
       "            location        country latitude longitude airport_code  \\\n",
       "6         COTTON, MN  United States      NaN       NaN          NaN   \n",
       "7        PULLMAN, WA  United States      NaN       NaN          NaN   \n",
       "8   EAST HANOVER, NJ  United States      NaN       NaN          N58   \n",
       "9   JACKSONVILLE, FL  United States      NaN       NaN          JAX   \n",
       "10         HOBBS, NM  United States      NaN       NaN          NaN   \n",
       "\n",
       "          airport_name  ... total_serious_injuries total_minor_injuries  \\\n",
       "6                  NaN  ...                    0.0                  0.0   \n",
       "7   BLACKBURN AG STRIP  ...                    0.0                  0.0   \n",
       "8              HANOVER  ...                    0.0                  0.0   \n",
       "9    JACKSONVILLE INTL  ...                    0.0                  3.0   \n",
       "10                 NaN  ...                    0.0                  0.0   \n",
       "\n",
       "   total_uninjured weather_condition broad_phase_of_flight   report_status  \\\n",
       "6              0.0               IMC               Unknown  Probable Cause   \n",
       "7              2.0               VMC               Takeoff  Probable Cause   \n",
       "8              2.0               IMC               Landing  Probable Cause   \n",
       "9              0.0               IMC                Cruise  Probable Cause   \n",
       "10             1.0               VMC              Approach  Probable Cause   \n",
       "\n",
       "   publication_date  year state     region  \n",
       "6        06-11-2001  1981    MN    Midwest  \n",
       "7        01-01-1982  1982    WA       West  \n",
       "8        01-01-1982  1982    NJ  Northeast  \n",
       "9        01-01-1982  1982    FL  Southeast  \n",
       "10       01-01-1982  1982    NM  Southwest  \n",
       "\n",
       "[5 rows x 34 columns]"
      ]
     },
     "execution_count": 18,
     "metadata": {},
     "output_type": "execute_result"
    }
   ],
   "source": [
    "accident_df.head()"
   ]
  },
  {
   "cell_type": "code",
   "execution_count": 19,
   "metadata": {},
   "outputs": [
    {
     "data": {
      "text/plain": [
       "<BarContainer object of 10 artists>"
      ]
     },
     "execution_count": 19,
     "metadata": {},
     "output_type": "execute_result"
    },
    {
     "data": {
      "image/png": "[encoded data removed]",
      "text/plain": [
       "<Figure size 720x288 with 1 Axes>"
      ]
     },
     "metadata": {
      "needs_background": "light"
     },
     "output_type": "display_data"
    }
   ],
   "source": [
    "#Graph #Accidents vs make of plane\n",
    "fig, ax = plt.subplots(figsize=(10,4))\n",
    "\n",
    "x = accident_df['make'].value_counts().nlargest(10).index\n",
    "y = accident_df['make'].value_counts().nlargest(10).values\n",
    "\n",
    "\n",
    "ax.bar(x,y)"
   ]
  },
  {
   "cell_type": "code",
   "execution_count": 20,
   "metadata": {},
   "outputs": [
    {
     "data": {
      "text/plain": [
       "<BarContainer object of 10 artists>"
      ]
     },
     "execution_count": 20,
     "metadata": {},
     "output_type": "execute_result"
    },
    {
     "data": {
      "image/png": "[encoded data removed]",
      "text/plain": [
       "<Figure size 720x288 with 1 Axes>"
      ]
     },
     "metadata": {
      "needs_background": "light"
     },
     "output_type": "display_data"
    }
   ],
   "source": [
    "#Graph #Accidents vs 10 most common models of plane\n",
    "fig, ax = plt.subplots(figsize=(10,4))\n",
    "\n",
    "x = accident_df['model'].value_counts().nlargest(10).index\n",
    "y = accident_df['model'].value_counts().nlargest(10).values\n",
    "\n",
    "ax.bar(x,y)"
   ]
  },
  {
   "cell_type": "code",
   "execution_count": 21,
   "metadata": {},
   "outputs": [
    {
     "data": {
      "text/plain": [
       "<BarContainer object of 10 artists>"
      ]
     },
     "execution_count": 21,
     "metadata": {},
     "output_type": "execute_result"
    },
    {
     "data": {
      "image/png": "[encoded data removed]",
      "text/plain": [
       "<Figure size 1080x288 with 1 Axes>"
      ]
     },
     "metadata": {
      "needs_background": "light"
     },
     "output_type": "display_data"
    }
   ],
   "source": [
    "#Graph #Accidents vs 10 most common engine type of plane\n",
    "fig, ax = plt.subplots(figsize=(15,4))\n",
    "\n",
    "x = accident_df['engine_type'].value_counts().nlargest(10).index\n",
    "y = accident_df['engine_type'].value_counts().nlargest(10).values\n",
    "\n",
    "ax.bar(x,y)"
   ]
  },
  {
   "cell_type": "code",
   "execution_count": 22,
   "metadata": {},
   "outputs": [
    {
     "data": {
      "text/plain": [
       "<BarContainer object of 7 artists>"
      ]
     },
     "execution_count": 22,
     "metadata": {},
     "output_type": "execute_result"
    },
    {
     "data": {
      "image/png": "[encoded data removed]",
      "text/plain": [
       "<Figure size 1080x288 with 1 Axes>"
      ]
     },
     "metadata": {
      "needs_background": "light"
     },
     "output_type": "display_data"
    }
   ],
   "source": [
    "#Graph #Accidents vs 10 most common number of engines\n",
    "fig, ax = plt.subplots(figsize=(15,4))\n",
    "\n",
    "x = accident_df['number_of_engines'].value_counts().nlargest(10).index\n",
    "y = accident_df['number_of_engines'].value_counts().nlargest(10).values\n",
    "\n",
    "ax.bar(x,y)"
   ]
  },
  {
   "cell_type": "code",
   "execution_count": 23,
   "metadata": {},
   "outputs": [
    {
     "data": {
      "text/plain": [
       "<BarContainer object of 7 artists>"
      ]
     },
     "execution_count": 23,
     "metadata": {},
     "output_type": "execute_result"
    },
    {
     "data": {
      "image/png": "[encoded data removed]",
      "text/plain": [
       "<Figure size 1080x288 with 1 Axes>"
      ]
     },
     "metadata": {
      "needs_background": "light"
     },
     "output_type": "display_data"
    }
   ],
   "source": [
    "#Graph #Accidents vs 10 most common number of engines\n",
    "fig, ax = plt.subplots(figsize=(15,4))\n",
    "\n",
    "x = accident_df['number_of_engines'].value_counts().nlargest(10).index\n",
    "y = accident_df['number_of_engines'].value_counts().nlargest(10).values\n",
    "\n",
    "ax.bar(x,y)"
   ]
  },
  {
   "cell_type": "code",
   "execution_count": 24,
   "metadata": {},
   "outputs": [
    {
     "data": {
      "text/plain": [
       "<BarContainer object of 3 artists>"
      ]
     },
     "execution_count": 24,
     "metadata": {},
     "output_type": "execute_result"
    },
    {
     "data": {
      "image/png": "[encoded data removed]",
      "text/plain": [
       "<Figure size 1080x288 with 1 Axes>"
      ]
     },
     "metadata": {
      "needs_background": "light"
     },
     "output_type": "display_data"
    }
   ],
   "source": [
    "#Graph #Accidents vs weather conditions\n",
    "#VMC stands for visual meteorological conditions and IMC stands for instrument meteorological conditions\n",
    "fig, ax = plt.subplots(figsize=(15,4))\n",
    "\n",
    "x = accident_df['weather_condition'].value_counts().nlargest(10).index\n",
    "y = accident_df['weather_condition'].value_counts().nlargest(10).values\n",
    "\n",
    "ax.bar(x,y)"
   ]
  },
  {
   "cell_type": "code",
   "execution_count": 25,
   "metadata": {},
   "outputs": [
    {
     "data": {
      "text/plain": [
       "<BarContainer object of 10 artists>"
      ]
     },
     "execution_count": 25,
     "metadata": {},
     "output_type": "execute_result"
    },
    {
     "data": {
      "image/png": "[encoded data removed]",
      "text/plain": [
       "<Figure size 1080x288 with 1 Axes>"
      ]
     },
     "metadata": {
      "needs_background": "light"
     },
     "output_type": "display_data"
    }
   ],
   "source": [
    "#Graph #Accidents vs 10 most common purpose of flight\n",
    "fig, ax = plt.subplots(figsize=(15,4))\n",
    "\n",
    "x = accident_df['purpose_of_flight'].value_counts().nlargest(10).index\n",
    "y = accident_df['purpose_of_flight'].value_counts().nlargest(10).values\n",
    "\n",
    "ax.bar(x,y)"
   ]
  },
  {
   "cell_type": "code",
   "execution_count": 26,
   "metadata": {},
   "outputs": [
    {
     "data": {
      "text/plain": [
       "<BarContainer object of 9 artists>"
      ]
     },
     "execution_count": 26,
     "metadata": {},
     "output_type": "execute_result"
    },
    {
     "data": {
      "image/png": "[encoded data removed]",
      "text/plain": [
       "<Figure size 1080x288 with 1 Axes>"
      ]
     },
     "metadata": {
      "needs_background": "light"
     },
     "output_type": "display_data"
    }
   ],
   "source": [
    "#Plot Accidents across countries, excluding US b/c they have wayyyy more\n",
    "fig, ax = plt.subplots(figsize=(15,4))\n",
    "\n",
    "x = accident_df['country'].value_counts().index[1:10]\n",
    "y = accident_df['country'].value_counts().values[1:10]\n",
    "\n",
    "ax.bar(x,y)"
   ]
  },
  {
   "cell_type": "code",
   "execution_count": 27,
   "metadata": {},
   "outputs": [
    {
     "name": "stderr",
     "output_type": "stream",
     "text": [
      "/Users/robertdaly/anaconda3/envs/learn-env/lib/python3.8/site-packages/pandas/core/series.py:4517: SettingWithCopyWarning: \n",
      "A value is trying to be set on a copy of a slice from a DataFrame\n",
      "\n",
      "See the caveats in the documentation: https://pandas.pydata.org/pandas-docs/stable/user_guide/indexing.html#returning-a-view-versus-a-copy\n",
      "  return super().fillna(\n"
     ]
    },
    {
     "data": {
      "text/plain": [
       "0"
      ]
     },
     "execution_count": 27,
     "metadata": {},
     "output_type": "execute_result"
    }
   ],
   "source": [
    "#Remove Nulls in total_fatal_injuries\n",
    "accident_df['total_fatal_injuries'].fillna(value=0,inplace=True)\n",
    "accident_df['total_minor_injuries'].fillna(value=0,inplace=True) \n",
    "accident_df['total_serious_injuries'].fillna(value=0,inplace=True) \n",
    "accident_df['total_uninjured'].fillna(value=0,inplace=True) \n",
    "\n",
    "#Check to confirm fill worked\n",
    "accident_df['total_fatal_injuries'].isna().sum()\n",
    "accident_df['total_minor_injuries'].isna().sum()\n",
    "accident_df['total_serious_injuries'].isna().sum()\n",
    "accident_df['total_uninjured'].isna().sum()"
   ]
  },
  {
   "cell_type": "code",
   "execution_count": 28,
   "metadata": {},
   "outputs": [],
   "source": [
    "#Group sum of total fatalities, minor injuries, serious injuries, and uninjured by year\n",
    "sum_fatalities_per_year = accident_df.groupby('year')['total_fatal_injuries'].agg(['sum'])\n",
    "\n",
    "\n",
    "sum_minor_injuries_per_year = accident_df.groupby('year')['total_minor_injuries'].agg(['sum'])\n",
    "\n",
    "sum_serious_injuries_per_year = accident_df.groupby('year')['total_serious_injuries'].agg(['sum'])\n",
    "\n",
    "sum_uninjured_per_year = accident_df.groupby('year')['total_uninjured'].agg(['sum'])"
   ]
  },
  {
   "cell_type": "code",
   "execution_count": 29,
   "metadata": {},
   "outputs": [
    {
     "data": {
      "text/plain": [
       "Cessna                 26214\n",
       "Piper                  14329\n",
       "Beech                   5043\n",
       "Bell                    2441\n",
       "Robinson helicopter     1501\n",
       "                       ...  \n",
       "Morse                      1\n",
       "Gough-herrman              1\n",
       "Astar                      1\n",
       "Hoffman david j            1\n",
       "Laux pitts                 1\n",
       "Name: make, Length: 7458, dtype: int64"
      ]
     },
     "execution_count": 29,
     "metadata": {},
     "output_type": "execute_result"
    }
   ],
   "source": [
    "accident_df['make'].value_counts()"
   ]
  },
  {
   "cell_type": "code",
   "execution_count": 30,
   "metadata": {},
   "outputs": [],
   "source": [
    "#Make subset of model for each incident by year\n",
    "# models_by_year = accident_df.groupby(['year','model'])['total_fatal_injuries'].agg(['sum'])\n",
    "# models_by_year = models_by_year.unstack()\n",
    "# models_by_year"
   ]
  },
  {
   "cell_type": "code",
   "execution_count": 31,
   "metadata": {},
   "outputs": [
    {
     "data": {
      "image/png": "[encoded data removed]",
      "text/plain": [
       "<Figure size 432x288 with 1 Axes>"
      ]
     },
     "metadata": {
      "needs_background": "light"
     },
     "output_type": "display_data"
    }
   ],
   "source": [
    "#Graph total fatalities per year\n",
    "ax = sns.lineplot(data=sum_fatalities_per_year)\n",
    "sns.set(rc={'figure.figsize':(15,4)})\n",
    "plt.show()"
   ]
  },
  {
   "cell_type": "code",
   "execution_count": 32,
   "metadata": {},
   "outputs": [
    {
     "data": {
      "image/png": "[encoded data removed]",
      "text/plain": [
       "<Figure size 1080x288 with 1 Axes>"
      ]
     },
     "metadata": {},
     "output_type": "display_data"
    }
   ],
   "source": [
    "#Graph total minor injuries per year\n",
    "ax = sns.lineplot(data=sum_minor_injuries_per_year)\n",
    "sns.set(rc={'figure.figsize':(15,4)})\n",
    "plt.show()"
   ]
  },
  {
   "cell_type": "code",
   "execution_count": 33,
   "metadata": {},
   "outputs": [
    {
     "data": {
      "text/plain": [
       "<BarContainer object of 10 artists>"
      ]
     },
     "execution_count": 33,
     "metadata": {},
     "output_type": "execute_result"
    },
    {
     "data": {
      "image/png": "[encoded data removed]",
      "text/plain": [
       "<Figure size 1080x288 with 1 Axes>"
      ]
     },
     "metadata": {},
     "output_type": "display_data"
    }
   ],
   "source": [
    "#Graph accidents by phase of flight\n",
    "#Remove unknown later\n",
    "\n",
    "fig, ax = plt.subplots(figsize=(15,4))\n",
    "\n",
    "x = accident_df['broad_phase_of_flight'].value_counts().nlargest(10).index\n",
    "y = accident_df['broad_phase_of_flight'].value_counts().nlargest(10).values\n",
    "\n",
    "ax.bar(x,y)"
   ]
  },
  {
   "cell_type": "code",
   "execution_count": 34,
   "metadata": {},
   "outputs": [
    {
     "data": {
      "text/plain": [
       "Personal                     48747\n",
       "Instructional                10390\n",
       "Unknown                       5082\n",
       "Aerial Application            4677\n",
       "Business                      3835\n",
       "Positioning                   1517\n",
       "Other Work Use                1202\n",
       "Aerial Observation             738\n",
       "Ferry                          737\n",
       "Public Aircraft                680\n",
       "Executive/corporate            489\n",
       "Flight Test                    386\n",
       "Skydiving                      178\n",
       "External Load                  115\n",
       "Banner Tow                     101\n",
       "Public Aircraft - Federal      100\n",
       "Air Race show                   89\n",
       "Public Aircraft - Local         73\n",
       "Public Aircraft - State         62\n",
       "Air Race/show                   57\n",
       "Glider Tow                      52\n",
       "Firefighting                    35\n",
       "Air Drop                         9\n",
       "ASHO                             6\n",
       "PUBS                             4\n",
       "PUBL                             1\n",
       "Name: purpose_of_flight, dtype: int64"
      ]
     },
     "execution_count": 34,
     "metadata": {},
     "output_type": "execute_result"
    }
   ],
   "source": [
    "#See the purposes of flight we have the most data for\n",
    "accident_df['purpose_of_flight'].value_counts()"
   ]
  },
  {
   "cell_type": "code",
   "execution_count": 35,
   "metadata": {},
   "outputs": [
    {
     "data": {
      "text/html": [
       "<div>\n",
       "<style scoped>\n",
       "    .dataframe tbody tr th:only-of-type {\n",
       "        vertical-align: middle;\n",
       "    }\n",
       "\n",
       "    .dataframe tbody tr th {\n",
       "        vertical-align: top;\n",
       "    }\n",
       "\n",
       "    .dataframe thead th {\n",
       "        text-align: right;\n",
       "    }\n",
       "</style>\n",
       "<table border=\"1\" class=\"dataframe\">\n",
       "  <thead>\n",
       "    <tr style=\"text-align: right;\">\n",
       "      <th></th>\n",
       "      <th>event_id</th>\n",
       "      <th>investigation_type</th>\n",
       "      <th>accident_number</th>\n",
       "      <th>event_date</th>\n",
       "      <th>location</th>\n",
       "      <th>country</th>\n",
       "      <th>latitude</th>\n",
       "      <th>longitude</th>\n",
       "      <th>airport_code</th>\n",
       "      <th>airport_name</th>\n",
       "      <th>...</th>\n",
       "      <th>total_serious_injuries</th>\n",
       "      <th>total_minor_injuries</th>\n",
       "      <th>total_uninjured</th>\n",
       "      <th>weather_condition</th>\n",
       "      <th>broad_phase_of_flight</th>\n",
       "      <th>report_status</th>\n",
       "      <th>publication_date</th>\n",
       "      <th>year</th>\n",
       "      <th>state</th>\n",
       "      <th>region</th>\n",
       "    </tr>\n",
       "  </thead>\n",
       "  <tbody>\n",
       "    <tr>\n",
       "      <th>6</th>\n",
       "      <td>20001218X45446</td>\n",
       "      <td>Accident</td>\n",
       "      <td>CHI81LA106</td>\n",
       "      <td>1981-08-01</td>\n",
       "      <td>COTTON, MN</td>\n",
       "      <td>United States</td>\n",
       "      <td>NaN</td>\n",
       "      <td>NaN</td>\n",
       "      <td>NaN</td>\n",
       "      <td>NaN</td>\n",
       "      <td>...</td>\n",
       "      <td>0.0</td>\n",
       "      <td>0.0</td>\n",
       "      <td>0.0</td>\n",
       "      <td>IMC</td>\n",
       "      <td>Unknown</td>\n",
       "      <td>Probable Cause</td>\n",
       "      <td>06-11-2001</td>\n",
       "      <td>1981</td>\n",
       "      <td>MN</td>\n",
       "      <td>Midwest</td>\n",
       "    </tr>\n",
       "    <tr>\n",
       "      <th>7</th>\n",
       "      <td>20020909X01562</td>\n",
       "      <td>Accident</td>\n",
       "      <td>SEA82DA022</td>\n",
       "      <td>1982-01-01</td>\n",
       "      <td>PULLMAN, WA</td>\n",
       "      <td>United States</td>\n",
       "      <td>NaN</td>\n",
       "      <td>NaN</td>\n",
       "      <td>NaN</td>\n",
       "      <td>BLACKBURN AG STRIP</td>\n",
       "      <td>...</td>\n",
       "      <td>0.0</td>\n",
       "      <td>0.0</td>\n",
       "      <td>2.0</td>\n",
       "      <td>VMC</td>\n",
       "      <td>Takeoff</td>\n",
       "      <td>Probable Cause</td>\n",
       "      <td>01-01-1982</td>\n",
       "      <td>1982</td>\n",
       "      <td>WA</td>\n",
       "      <td>West</td>\n",
       "    </tr>\n",
       "    <tr>\n",
       "      <th>8</th>\n",
       "      <td>20020909X01561</td>\n",
       "      <td>Accident</td>\n",
       "      <td>NYC82DA015</td>\n",
       "      <td>1982-01-01</td>\n",
       "      <td>EAST HANOVER, NJ</td>\n",
       "      <td>United States</td>\n",
       "      <td>NaN</td>\n",
       "      <td>NaN</td>\n",
       "      <td>N58</td>\n",
       "      <td>HANOVER</td>\n",
       "      <td>...</td>\n",
       "      <td>0.0</td>\n",
       "      <td>0.0</td>\n",
       "      <td>2.0</td>\n",
       "      <td>IMC</td>\n",
       "      <td>Landing</td>\n",
       "      <td>Probable Cause</td>\n",
       "      <td>01-01-1982</td>\n",
       "      <td>1982</td>\n",
       "      <td>NJ</td>\n",
       "      <td>Northeast</td>\n",
       "    </tr>\n",
       "    <tr>\n",
       "      <th>9</th>\n",
       "      <td>20020909X01560</td>\n",
       "      <td>Accident</td>\n",
       "      <td>MIA82DA029</td>\n",
       "      <td>1982-01-01</td>\n",
       "      <td>JACKSONVILLE, FL</td>\n",
       "      <td>United States</td>\n",
       "      <td>NaN</td>\n",
       "      <td>NaN</td>\n",
       "      <td>JAX</td>\n",
       "      <td>JACKSONVILLE INTL</td>\n",
       "      <td>...</td>\n",
       "      <td>0.0</td>\n",
       "      <td>3.0</td>\n",
       "      <td>0.0</td>\n",
       "      <td>IMC</td>\n",
       "      <td>Cruise</td>\n",
       "      <td>Probable Cause</td>\n",
       "      <td>01-01-1982</td>\n",
       "      <td>1982</td>\n",
       "      <td>FL</td>\n",
       "      <td>Southeast</td>\n",
       "    </tr>\n",
       "    <tr>\n",
       "      <th>10</th>\n",
       "      <td>20020909X01559</td>\n",
       "      <td>Accident</td>\n",
       "      <td>FTW82DA034</td>\n",
       "      <td>1982-01-01</td>\n",
       "      <td>HOBBS, NM</td>\n",
       "      <td>United States</td>\n",
       "      <td>NaN</td>\n",
       "      <td>NaN</td>\n",
       "      <td>NaN</td>\n",
       "      <td>NaN</td>\n",
       "      <td>...</td>\n",
       "      <td>0.0</td>\n",
       "      <td>0.0</td>\n",
       "      <td>1.0</td>\n",
       "      <td>VMC</td>\n",
       "      <td>Approach</td>\n",
       "      <td>Probable Cause</td>\n",
       "      <td>01-01-1982</td>\n",
       "      <td>1982</td>\n",
       "      <td>NM</td>\n",
       "      <td>Southwest</td>\n",
       "    </tr>\n",
       "  </tbody>\n",
       "</table>\n",
       "<p>5 rows × 34 columns</p>\n",
       "</div>"
      ],
      "text/plain": [
       "          event_id investigation_type accident_number  event_date  \\\n",
       "6   20001218X45446           Accident      CHI81LA106  1981-08-01   \n",
       "7   20020909X01562           Accident      SEA82DA022  1982-01-01   \n",
       "8   20020909X01561           Accident      NYC82DA015  1982-01-01   \n",
       "9   20020909X01560           Accident      MIA82DA029  1982-01-01   \n",
       "10  20020909X01559           Accident      FTW82DA034  1982-01-01   \n",
       "\n",
       "            location        country latitude longitude airport_code  \\\n",
       "6         COTTON, MN  United States      NaN       NaN          NaN   \n",
       "7        PULLMAN, WA  United States      NaN       NaN          NaN   \n",
       "8   EAST HANOVER, NJ  United States      NaN       NaN          N58   \n",
       "9   JACKSONVILLE, FL  United States      NaN       NaN          JAX   \n",
       "10         HOBBS, NM  United States      NaN       NaN          NaN   \n",
       "\n",
       "          airport_name  ... total_serious_injuries total_minor_injuries  \\\n",
       "6                  NaN  ...                    0.0                  0.0   \n",
       "7   BLACKBURN AG STRIP  ...                    0.0                  0.0   \n",
       "8              HANOVER  ...                    0.0                  0.0   \n",
       "9    JACKSONVILLE INTL  ...                    0.0                  3.0   \n",
       "10                 NaN  ...                    0.0                  0.0   \n",
       "\n",
       "   total_uninjured weather_condition broad_phase_of_flight   report_status  \\\n",
       "6              0.0               IMC               Unknown  Probable Cause   \n",
       "7              2.0               VMC               Takeoff  Probable Cause   \n",
       "8              2.0               IMC               Landing  Probable Cause   \n",
       "9              0.0               IMC                Cruise  Probable Cause   \n",
       "10             1.0               VMC              Approach  Probable Cause   \n",
       "\n",
       "   publication_date  year state     region  \n",
       "6        06-11-2001  1981    MN    Midwest  \n",
       "7        01-01-1982  1982    WA       West  \n",
       "8        01-01-1982  1982    NJ  Northeast  \n",
       "9        01-01-1982  1982    FL  Southeast  \n",
       "10       01-01-1982  1982    NM  Southwest  \n",
       "\n",
       "[5 rows x 34 columns]"
      ]
     },
     "execution_count": 35,
     "metadata": {},
     "output_type": "execute_result"
    }
   ],
   "source": [
    "accident_df.head()"
   ]
  },
  {
   "cell_type": "code",
   "execution_count": 36,
   "metadata": {},
   "outputs": [
    {
     "data": {
      "text/plain": [
       "42"
      ]
     },
     "execution_count": 36,
     "metadata": {},
     "output_type": "execute_result"
    }
   ],
   "source": [
    "#Determine that our data is spanning 47 years\n",
    "len(accident_df['year'].value_counts())"
   ]
  },
  {
   "cell_type": "code",
   "execution_count": 37,
   "metadata": {},
   "outputs": [
    {
     "data": {
      "text/plain": [
       "West                            27763\n",
       "Southeast                       25301\n",
       "Midwest                         16345\n",
       "Northeast                        8379\n",
       "Southwest                        4147\n",
       "Pacific Ocean                     291\n",
       "Caribbean Sea/Gulf of Mexico      149\n",
       "Atlantic Ocean                     26\n",
       "Name: region, dtype: int64"
      ]
     },
     "execution_count": 37,
     "metadata": {},
     "output_type": "execute_result"
    }
   ],
   "source": [
    "accident_df['region'].value_counts()"
   ]
  },
  {
   "cell_type": "code",
   "execution_count": 38,
   "metadata": {},
   "outputs": [
    {
     "name": "stdout",
     "output_type": "stream",
     "text": [
      "avg_fatal_west= sum    266.52381\n",
      "Name: total_fatal_injuries, dtype: float64\n",
      "avg_fatal_southeast= sum    251.880952\n",
      "Name: total_fatal_injuries, dtype: float64\n"
     ]
    }
   ],
   "source": [
    "#Region Analysis\n",
    "#Average fatal injuries per year per region\n",
    "avg_fatal_west = accident_df['total_fatal_injuries'].loc[accident_df['region']=='West'].agg(['sum'])/len(accident_df['year'].value_counts())\n",
    "print('avg_fatal_west=', avg_fatal_west)\n",
    "\n",
    "avg_fatal_southeast = accident_df['total_fatal_injuries'].loc[accident_df['region']=='Southeast'].agg(['sum'])/len(accident_df['year'].value_counts())\n",
    "print('avg_fatal_southeast=', avg_fatal_southeast)"
   ]
  },
  {
   "cell_type": "code",
   "execution_count": 39,
   "metadata": {},
   "outputs": [
    {
     "data": {
      "text/plain": [
       "(82401, 34)"
      ]
     },
     "execution_count": 39,
     "metadata": {},
     "output_type": "execute_result"
    }
   ],
   "source": [
    "accident_df.shape"
   ]
  },
  {
   "cell_type": "code",
   "execution_count": 40,
   "metadata": {},
   "outputs": [],
   "source": [
    "#Export accident_df to csv\n",
    "accident_df.to_csv('Data/cleaned_aviation.csv')"
   ]
  },
  {
   "cell_type": "code",
   "execution_count": 41,
   "metadata": {},
   "outputs": [
    {
     "data": {
      "text/plain": [
       "Cessna            26528\n",
       "Piper             14500\n",
       "Beech              5222\n",
       "Bell               2493\n",
       "Boeing             2060\n",
       "                  ...  \n",
       "Siler ronald e        1\n",
       "Morse                 1\n",
       "Gough-herrman         1\n",
       "Astar                 1\n",
       "Laux pitts            1\n",
       "Name: make, Length: 7506, dtype: int64"
      ]
     },
     "execution_count": 41,
     "metadata": {},
     "output_type": "execute_result"
    }
   ],
   "source": [
    "aviation_df['make'].value_counts()"
   ]
  },
  {
   "cell_type": "code",
   "execution_count": 42,
   "metadata": {},
   "outputs": [
    {
     "data": {
      "text/plain": [
       "Cessna                 26214\n",
       "Piper                  14329\n",
       "Beech                   5043\n",
       "Bell                    2441\n",
       "Robinson helicopter     1501\n",
       "                       ...  \n",
       "Morse                      1\n",
       "Gough-herrman              1\n",
       "Astar                      1\n",
       "Hoffman david j            1\n",
       "Laux pitts                 1\n",
       "Name: make, Length: 7458, dtype: int64"
      ]
     },
     "execution_count": 42,
     "metadata": {},
     "output_type": "execute_result"
    }
   ],
   "source": [
    "accident_df['make'].value_counts()"
   ]
  },
  {
   "cell_type": "code",
   "execution_count": null,
   "metadata": {},
   "outputs": [],
   "source": []
  },
  {
   "cell_type": "code",
   "execution_count": null,
   "metadata": {},
   "outputs": [],
   "source": []
  },
  {
   "cell_type": "code",
   "execution_count": null,
   "metadata": {},
   "outputs": [],
   "source": []
  }
 ],
 "metadata": {
  "kernelspec": {
   "display_name": "Python (learn-env)",
   "language": "python",
   "name": "learn-env"
  },
  "language_info": {
   "codemirror_mode": {
    "name": "ipython",
    "version": 3
   },
   "file_extension": ".py",
   "mimetype": "text/x-python",
   "name": "python",
   "nbconvert_exporter": "python",
   "pygments_lexer": "ipython3",
   "version": "3.8.5"
  }
 },
 "nbformat": 4,
 "nbformat_minor": 4
}
