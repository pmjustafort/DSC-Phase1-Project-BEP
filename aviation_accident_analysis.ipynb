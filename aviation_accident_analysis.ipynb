{
 "cells": [
  {
   "cell_type": "markdown",
   "metadata": {},
   "source": [
    "# **Aviation Recommendations**\n",
    "\n",
    "## **Authors**:\n",
    "Bobby Daly, DS; Em Jager, DS; and Paul Justafort, DS.\n",
    "\n",
    "![image](https://github.com/pmjustafort/DSC-Phase1-Project-BEP/assets/137816262/b10f9a2d-5783-4c77-a521-64094b1e16ce)\n",
    "\n",
    "## **Overview**\n",
    "Our project involves analyzing aviation data from the National Transportation Safety Board (NTSB) aviation accident database, which contains information spanning from 1962 to 2022. By leveraging this rich dataset, our objective is to gain insights and knowledge that will inform decision-making processes in the aviation industry. We aim to assess trends, patterns, and key factors related to aviation accidents over the past six decades. Through this analysis, we will identify recurring themes, risk factors, and areas of improvement to enhance aviation safety and operational practices. \n",
    "\n",
    "\n",
    "## **Business Problem**\n",
    "Our newly established company, BEP Aviation, is entering the aviation industry, specifically in the purchase and operation of airplanes. In embarking on this exciting venture, we understand the paramount importance of prioritizing safety and establishing a reliable and secure operation right from the outset. Recent aviation incidents, such as the Boeing 737 MAX crisis triggered by the crashes of Lion Air Flight 610 and Ethiopian Airlines Flight 302, have underscored the critical significance of safety in aviation operations. To ensure long-term success and sustainability, we are committed to implementing robust safety practices and procedures that prioritize the well-being of passengers, crew members, and all stakeholders involved. By thoroughly exploring and analyzing decades of aviation data, we aim to make informed decisions that further enhance our commitment to safety and operational excellence.\n",
    "\n",
    "## **Data**\n",
    "![image](https://github.com/pmjustafort/DSC-Phase1-Project-BEP/assets/137816262/c91e6b81-8c9d-4672-8a37-ebf45d3cace7)\n",
    "\n",
    "The data utilized in this project is sourced from the National Transportation Safety Board (NTSB) aviation accident database. We narrowed this data down to approximately 85,000 aviation accidents recorded between 1980 and 2022 in the United States. This comprehensive dataset provides a rich resource for analyzing and exploring various aspects of aviation safety and accident patterns over a significant timeframe. Our main goal is to minimize the risk of your company experiencing a worst-case scenario, a fatality in an aviation accident. To do this, we focused on the relationship between fatalities and airplane make, engine type, and region of flight.\n",
    "\n",
    "## Methods\n",
    "We utilize the summation method to calculate the total sum of relevant values. Additionally, we harness the robust technique of time series analysis to explore and analyze the temporal patterns, trends, and relationships within aviation data over a specific period. This comprehensive approach allows us to gain valuable insights into the evolution and dynamics of the aviation industry.\n",
    "\n",
    "## **Data Understanding**\n",
    "Mitigating accidents is important, but when they do happen, fatalities represent the worst-case scenario. To ensure comprehensive insights and facilitate proactive risk mitigation, we have diligently filtered and thoroughly analyzed the available dataset. Our analysis focuses on examining the intricate relationship between fatalities and critical variables, including airplane make, engine type, and region of flight. By meticulously exploring these factors, we aim to uncover valuable patterns and trends that can empower your business to make informed decisions, enhance safety protocols, and effectively minimize potential risks and incidents."
   ]
  },
  {
   "cell_type": "code",
   "execution_count": 1,
   "metadata": {},
   "outputs": [],
   "source": [
    "#Import libraries\n",
    "import pandas as pd\n",
    "import numpy as np\n",
    "import matplotlib.pyplot as plt\n",
    "import seaborn as sns"
   ]
  },
  {
   "cell_type": "code",
   "execution_count": 2,
   "metadata": {},
   "outputs": [
    {
     "name": "stderr",
     "output_type": "stream",
     "text": [
      "/Users/robertdaly/anaconda3/envs/learn-env/lib/python3.8/site-packages/IPython/core/interactiveshell.py:3145: DtypeWarning: Columns (6,7,28) have mixed types.Specify dtype option on import or set low_memory=False.\n",
      "  has_raised = await self.run_ast_nodes(code_ast.body, cell_name,\n"
     ]
    }
   ],
   "source": [
    "#Import data and save to df\n",
    "aviation_df = pd.read_csv('Data/Aviation_Data.csv')\n",
    "state_codes_df = pd.read_csv('Data/USState_Codes.csv')"
   ]
  },
  {
   "cell_type": "code",
   "execution_count": 3,
   "metadata": {},
   "outputs": [
    {
     "name": "stdout",
     "output_type": "stream",
     "text": [
      "<class 'pandas.core.frame.DataFrame'>\n",
      "RangeIndex: 90348 entries, 0 to 90347\n",
      "Data columns (total 31 columns):\n",
      " #   Column                  Non-Null Count  Dtype  \n",
      "---  ------                  --------------  -----  \n",
      " 0   Event.Id                88889 non-null  object \n",
      " 1   Investigation.Type      90348 non-null  object \n",
      " 2   Accident.Number         88889 non-null  object \n",
      " 3   Event.Date              88889 non-null  object \n",
      " 4   Location                88837 non-null  object \n",
      " 5   Country                 88663 non-null  object \n",
      " 6   Latitude                34382 non-null  object \n",
      " 7   Longitude               34373 non-null  object \n",
      " 8   Airport.Code            50249 non-null  object \n",
      " 9   Airport.Name            52790 non-null  object \n",
      " 10  Injury.Severity         87889 non-null  object \n",
      " 11  Aircraft.damage         85695 non-null  object \n",
      " 12  Aircraft.Category       32287 non-null  object \n",
      " 13  Registration.Number     87572 non-null  object \n",
      " 14  Make                    88826 non-null  object \n",
      " 15  Model                   88797 non-null  object \n",
      " 16  Amateur.Built           88787 non-null  object \n",
      " 17  Number.of.Engines       82805 non-null  float64\n",
      " 18  Engine.Type             81812 non-null  object \n",
      " 19  FAR.Description         32023 non-null  object \n",
      " 20  Schedule                12582 non-null  object \n",
      " 21  Purpose.of.flight       82697 non-null  object \n",
      " 22  Air.carrier             16648 non-null  object \n",
      " 23  Total.Fatal.Injuries    77488 non-null  float64\n",
      " 24  Total.Serious.Injuries  76379 non-null  float64\n",
      " 25  Total.Minor.Injuries    76956 non-null  float64\n",
      " 26  Total.Uninjured         82977 non-null  float64\n",
      " 27  Weather.Condition       84397 non-null  object \n",
      " 28  Broad.phase.of.flight   61724 non-null  object \n",
      " 29  Report.Status           82508 non-null  object \n",
      " 30  Publication.Date        73659 non-null  object \n",
      "dtypes: float64(5), object(26)\n",
      "memory usage: 21.4+ MB\n"
     ]
    }
   ],
   "source": [
    "aviation_df.info()"
   ]
  },
  {
   "cell_type": "code",
   "execution_count": 4,
   "metadata": {},
   "outputs": [
    {
     "data": {
      "text/html": [
       "<div>\n",
       "<style scoped>\n",
       "    .dataframe tbody tr th:only-of-type {\n",
       "        vertical-align: middle;\n",
       "    }\n",
       "\n",
       "    .dataframe tbody tr th {\n",
       "        vertical-align: top;\n",
       "    }\n",
       "\n",
       "    .dataframe thead th {\n",
       "        text-align: right;\n",
       "    }\n",
       "</style>\n",
       "<table border=\"1\" class=\"dataframe\">\n",
       "  <thead>\n",
       "    <tr style=\"text-align: right;\">\n",
       "      <th></th>\n",
       "      <th>Event.Id</th>\n",
       "      <th>Investigation.Type</th>\n",
       "      <th>Accident.Number</th>\n",
       "      <th>Event.Date</th>\n",
       "      <th>Location</th>\n",
       "      <th>Country</th>\n",
       "      <th>Latitude</th>\n",
       "      <th>Longitude</th>\n",
       "      <th>Airport.Code</th>\n",
       "      <th>Airport.Name</th>\n",
       "      <th>...</th>\n",
       "      <th>Purpose.of.flight</th>\n",
       "      <th>Air.carrier</th>\n",
       "      <th>Total.Fatal.Injuries</th>\n",
       "      <th>Total.Serious.Injuries</th>\n",
       "      <th>Total.Minor.Injuries</th>\n",
       "      <th>Total.Uninjured</th>\n",
       "      <th>Weather.Condition</th>\n",
       "      <th>Broad.phase.of.flight</th>\n",
       "      <th>Report.Status</th>\n",
       "      <th>Publication.Date</th>\n",
       "    </tr>\n",
       "  </thead>\n",
       "  <tbody>\n",
       "    <tr>\n",
       "      <th>0</th>\n",
       "      <td>20001218X45444</td>\n",
       "      <td>Accident</td>\n",
       "      <td>SEA87LA080</td>\n",
       "      <td>1948-10-24</td>\n",
       "      <td>MOOSE CREEK, ID</td>\n",
       "      <td>United States</td>\n",
       "      <td>NaN</td>\n",
       "      <td>NaN</td>\n",
       "      <td>NaN</td>\n",
       "      <td>NaN</td>\n",
       "      <td>...</td>\n",
       "      <td>Personal</td>\n",
       "      <td>NaN</td>\n",
       "      <td>2.0</td>\n",
       "      <td>0.0</td>\n",
       "      <td>0.0</td>\n",
       "      <td>0.0</td>\n",
       "      <td>UNK</td>\n",
       "      <td>Cruise</td>\n",
       "      <td>Probable Cause</td>\n",
       "      <td>NaN</td>\n",
       "    </tr>\n",
       "    <tr>\n",
       "      <th>1</th>\n",
       "      <td>20001218X45447</td>\n",
       "      <td>Accident</td>\n",
       "      <td>LAX94LA336</td>\n",
       "      <td>1962-07-19</td>\n",
       "      <td>BRIDGEPORT, CA</td>\n",
       "      <td>United States</td>\n",
       "      <td>NaN</td>\n",
       "      <td>NaN</td>\n",
       "      <td>NaN</td>\n",
       "      <td>NaN</td>\n",
       "      <td>...</td>\n",
       "      <td>Personal</td>\n",
       "      <td>NaN</td>\n",
       "      <td>4.0</td>\n",
       "      <td>0.0</td>\n",
       "      <td>0.0</td>\n",
       "      <td>0.0</td>\n",
       "      <td>UNK</td>\n",
       "      <td>Unknown</td>\n",
       "      <td>Probable Cause</td>\n",
       "      <td>19-09-1996</td>\n",
       "    </tr>\n",
       "    <tr>\n",
       "      <th>2</th>\n",
       "      <td>20061025X01555</td>\n",
       "      <td>Accident</td>\n",
       "      <td>NYC07LA005</td>\n",
       "      <td>1974-08-30</td>\n",
       "      <td>Saltville, VA</td>\n",
       "      <td>United States</td>\n",
       "      <td>36.9222</td>\n",
       "      <td>-81.8781</td>\n",
       "      <td>NaN</td>\n",
       "      <td>NaN</td>\n",
       "      <td>...</td>\n",
       "      <td>Personal</td>\n",
       "      <td>NaN</td>\n",
       "      <td>3.0</td>\n",
       "      <td>NaN</td>\n",
       "      <td>NaN</td>\n",
       "      <td>NaN</td>\n",
       "      <td>IMC</td>\n",
       "      <td>Cruise</td>\n",
       "      <td>Probable Cause</td>\n",
       "      <td>26-02-2007</td>\n",
       "    </tr>\n",
       "    <tr>\n",
       "      <th>3</th>\n",
       "      <td>20001218X45448</td>\n",
       "      <td>Accident</td>\n",
       "      <td>LAX96LA321</td>\n",
       "      <td>1977-06-19</td>\n",
       "      <td>EUREKA, CA</td>\n",
       "      <td>United States</td>\n",
       "      <td>NaN</td>\n",
       "      <td>NaN</td>\n",
       "      <td>NaN</td>\n",
       "      <td>NaN</td>\n",
       "      <td>...</td>\n",
       "      <td>Personal</td>\n",
       "      <td>NaN</td>\n",
       "      <td>2.0</td>\n",
       "      <td>0.0</td>\n",
       "      <td>0.0</td>\n",
       "      <td>0.0</td>\n",
       "      <td>IMC</td>\n",
       "      <td>Cruise</td>\n",
       "      <td>Probable Cause</td>\n",
       "      <td>12-09-2000</td>\n",
       "    </tr>\n",
       "    <tr>\n",
       "      <th>4</th>\n",
       "      <td>20041105X01764</td>\n",
       "      <td>Accident</td>\n",
       "      <td>CHI79FA064</td>\n",
       "      <td>1979-08-02</td>\n",
       "      <td>Canton, OH</td>\n",
       "      <td>United States</td>\n",
       "      <td>NaN</td>\n",
       "      <td>NaN</td>\n",
       "      <td>NaN</td>\n",
       "      <td>NaN</td>\n",
       "      <td>...</td>\n",
       "      <td>Personal</td>\n",
       "      <td>NaN</td>\n",
       "      <td>1.0</td>\n",
       "      <td>2.0</td>\n",
       "      <td>NaN</td>\n",
       "      <td>0.0</td>\n",
       "      <td>VMC</td>\n",
       "      <td>Approach</td>\n",
       "      <td>Probable Cause</td>\n",
       "      <td>16-04-1980</td>\n",
       "    </tr>\n",
       "  </tbody>\n",
       "</table>\n",
       "<p>5 rows × 31 columns</p>\n",
       "</div>"
      ],
      "text/plain": [
       "         Event.Id Investigation.Type Accident.Number  Event.Date  \\\n",
       "0  20001218X45444           Accident      SEA87LA080  1948-10-24   \n",
       "1  20001218X45447           Accident      LAX94LA336  1962-07-19   \n",
       "2  20061025X01555           Accident      NYC07LA005  1974-08-30   \n",
       "3  20001218X45448           Accident      LAX96LA321  1977-06-19   \n",
       "4  20041105X01764           Accident      CHI79FA064  1979-08-02   \n",
       "\n",
       "          Location        Country Latitude Longitude Airport.Code  \\\n",
       "0  MOOSE CREEK, ID  United States      NaN       NaN          NaN   \n",
       "1   BRIDGEPORT, CA  United States      NaN       NaN          NaN   \n",
       "2    Saltville, VA  United States  36.9222  -81.8781          NaN   \n",
       "3       EUREKA, CA  United States      NaN       NaN          NaN   \n",
       "4       Canton, OH  United States      NaN       NaN          NaN   \n",
       "\n",
       "  Airport.Name  ... Purpose.of.flight Air.carrier Total.Fatal.Injuries  \\\n",
       "0          NaN  ...          Personal         NaN                  2.0   \n",
       "1          NaN  ...          Personal         NaN                  4.0   \n",
       "2          NaN  ...          Personal         NaN                  3.0   \n",
       "3          NaN  ...          Personal         NaN                  2.0   \n",
       "4          NaN  ...          Personal         NaN                  1.0   \n",
       "\n",
       "  Total.Serious.Injuries Total.Minor.Injuries Total.Uninjured  \\\n",
       "0                    0.0                  0.0             0.0   \n",
       "1                    0.0                  0.0             0.0   \n",
       "2                    NaN                  NaN             NaN   \n",
       "3                    0.0                  0.0             0.0   \n",
       "4                    2.0                  NaN             0.0   \n",
       "\n",
       "  Weather.Condition  Broad.phase.of.flight   Report.Status Publication.Date  \n",
       "0               UNK                 Cruise  Probable Cause              NaN  \n",
       "1               UNK                Unknown  Probable Cause       19-09-1996  \n",
       "2               IMC                 Cruise  Probable Cause       26-02-2007  \n",
       "3               IMC                 Cruise  Probable Cause       12-09-2000  \n",
       "4               VMC               Approach  Probable Cause       16-04-1980  \n",
       "\n",
       "[5 rows x 31 columns]"
      ]
     },
     "execution_count": 4,
     "metadata": {},
     "output_type": "execute_result"
    }
   ],
   "source": [
    "aviation_df.head()"
   ]
  },
  {
   "cell_type": "code",
   "execution_count": 5,
   "metadata": {},
   "outputs": [
    {
     "data": {
      "text/html": [
       "<div>\n",
       "<style scoped>\n",
       "    .dataframe tbody tr th:only-of-type {\n",
       "        vertical-align: middle;\n",
       "    }\n",
       "\n",
       "    .dataframe tbody tr th {\n",
       "        vertical-align: top;\n",
       "    }\n",
       "\n",
       "    .dataframe thead th {\n",
       "        text-align: right;\n",
       "    }\n",
       "</style>\n",
       "<table border=\"1\" class=\"dataframe\">\n",
       "  <thead>\n",
       "    <tr style=\"text-align: right;\">\n",
       "      <th></th>\n",
       "      <th>event_id</th>\n",
       "      <th>investigation_type</th>\n",
       "      <th>accident_number</th>\n",
       "      <th>event_date</th>\n",
       "      <th>location</th>\n",
       "      <th>country</th>\n",
       "      <th>latitude</th>\n",
       "      <th>longitude</th>\n",
       "      <th>airport_code</th>\n",
       "      <th>airport_name</th>\n",
       "      <th>...</th>\n",
       "      <th>purpose_of_flight</th>\n",
       "      <th>air_carrier</th>\n",
       "      <th>total_fatal_injuries</th>\n",
       "      <th>total_serious_injuries</th>\n",
       "      <th>total_minor_injuries</th>\n",
       "      <th>total_uninjured</th>\n",
       "      <th>weather_condition</th>\n",
       "      <th>broad_phase_of_flight</th>\n",
       "      <th>report_status</th>\n",
       "      <th>publication_date</th>\n",
       "    </tr>\n",
       "  </thead>\n",
       "  <tbody>\n",
       "    <tr>\n",
       "      <th>0</th>\n",
       "      <td>20001218X45444</td>\n",
       "      <td>Accident</td>\n",
       "      <td>SEA87LA080</td>\n",
       "      <td>1948-10-24</td>\n",
       "      <td>MOOSE CREEK, ID</td>\n",
       "      <td>United States</td>\n",
       "      <td>NaN</td>\n",
       "      <td>NaN</td>\n",
       "      <td>NaN</td>\n",
       "      <td>NaN</td>\n",
       "      <td>...</td>\n",
       "      <td>Personal</td>\n",
       "      <td>NaN</td>\n",
       "      <td>2.0</td>\n",
       "      <td>0.0</td>\n",
       "      <td>0.0</td>\n",
       "      <td>0.0</td>\n",
       "      <td>UNK</td>\n",
       "      <td>Cruise</td>\n",
       "      <td>Probable Cause</td>\n",
       "      <td>NaN</td>\n",
       "    </tr>\n",
       "    <tr>\n",
       "      <th>1</th>\n",
       "      <td>20001218X45447</td>\n",
       "      <td>Accident</td>\n",
       "      <td>LAX94LA336</td>\n",
       "      <td>1962-07-19</td>\n",
       "      <td>BRIDGEPORT, CA</td>\n",
       "      <td>United States</td>\n",
       "      <td>NaN</td>\n",
       "      <td>NaN</td>\n",
       "      <td>NaN</td>\n",
       "      <td>NaN</td>\n",
       "      <td>...</td>\n",
       "      <td>Personal</td>\n",
       "      <td>NaN</td>\n",
       "      <td>4.0</td>\n",
       "      <td>0.0</td>\n",
       "      <td>0.0</td>\n",
       "      <td>0.0</td>\n",
       "      <td>UNK</td>\n",
       "      <td>Unknown</td>\n",
       "      <td>Probable Cause</td>\n",
       "      <td>19-09-1996</td>\n",
       "    </tr>\n",
       "    <tr>\n",
       "      <th>2</th>\n",
       "      <td>20061025X01555</td>\n",
       "      <td>Accident</td>\n",
       "      <td>NYC07LA005</td>\n",
       "      <td>1974-08-30</td>\n",
       "      <td>Saltville, VA</td>\n",
       "      <td>United States</td>\n",
       "      <td>36.9222</td>\n",
       "      <td>-81.8781</td>\n",
       "      <td>NaN</td>\n",
       "      <td>NaN</td>\n",
       "      <td>...</td>\n",
       "      <td>Personal</td>\n",
       "      <td>NaN</td>\n",
       "      <td>3.0</td>\n",
       "      <td>NaN</td>\n",
       "      <td>NaN</td>\n",
       "      <td>NaN</td>\n",
       "      <td>IMC</td>\n",
       "      <td>Cruise</td>\n",
       "      <td>Probable Cause</td>\n",
       "      <td>26-02-2007</td>\n",
       "    </tr>\n",
       "    <tr>\n",
       "      <th>3</th>\n",
       "      <td>20001218X45448</td>\n",
       "      <td>Accident</td>\n",
       "      <td>LAX96LA321</td>\n",
       "      <td>1977-06-19</td>\n",
       "      <td>EUREKA, CA</td>\n",
       "      <td>United States</td>\n",
       "      <td>NaN</td>\n",
       "      <td>NaN</td>\n",
       "      <td>NaN</td>\n",
       "      <td>NaN</td>\n",
       "      <td>...</td>\n",
       "      <td>Personal</td>\n",
       "      <td>NaN</td>\n",
       "      <td>2.0</td>\n",
       "      <td>0.0</td>\n",
       "      <td>0.0</td>\n",
       "      <td>0.0</td>\n",
       "      <td>IMC</td>\n",
       "      <td>Cruise</td>\n",
       "      <td>Probable Cause</td>\n",
       "      <td>12-09-2000</td>\n",
       "    </tr>\n",
       "    <tr>\n",
       "      <th>4</th>\n",
       "      <td>20041105X01764</td>\n",
       "      <td>Accident</td>\n",
       "      <td>CHI79FA064</td>\n",
       "      <td>1979-08-02</td>\n",
       "      <td>Canton, OH</td>\n",
       "      <td>United States</td>\n",
       "      <td>NaN</td>\n",
       "      <td>NaN</td>\n",
       "      <td>NaN</td>\n",
       "      <td>NaN</td>\n",
       "      <td>...</td>\n",
       "      <td>Personal</td>\n",
       "      <td>NaN</td>\n",
       "      <td>1.0</td>\n",
       "      <td>2.0</td>\n",
       "      <td>NaN</td>\n",
       "      <td>0.0</td>\n",
       "      <td>VMC</td>\n",
       "      <td>Approach</td>\n",
       "      <td>Probable Cause</td>\n",
       "      <td>16-04-1980</td>\n",
       "    </tr>\n",
       "  </tbody>\n",
       "</table>\n",
       "<p>5 rows × 31 columns</p>\n",
       "</div>"
      ],
      "text/plain": [
       "         event_id investigation_type accident_number  event_date  \\\n",
       "0  20001218X45444           Accident      SEA87LA080  1948-10-24   \n",
       "1  20001218X45447           Accident      LAX94LA336  1962-07-19   \n",
       "2  20061025X01555           Accident      NYC07LA005  1974-08-30   \n",
       "3  20001218X45448           Accident      LAX96LA321  1977-06-19   \n",
       "4  20041105X01764           Accident      CHI79FA064  1979-08-02   \n",
       "\n",
       "          location        country latitude longitude airport_code  \\\n",
       "0  MOOSE CREEK, ID  United States      NaN       NaN          NaN   \n",
       "1   BRIDGEPORT, CA  United States      NaN       NaN          NaN   \n",
       "2    Saltville, VA  United States  36.9222  -81.8781          NaN   \n",
       "3       EUREKA, CA  United States      NaN       NaN          NaN   \n",
       "4       Canton, OH  United States      NaN       NaN          NaN   \n",
       "\n",
       "  airport_name  ... purpose_of_flight air_carrier total_fatal_injuries  \\\n",
       "0          NaN  ...          Personal         NaN                  2.0   \n",
       "1          NaN  ...          Personal         NaN                  4.0   \n",
       "2          NaN  ...          Personal         NaN                  3.0   \n",
       "3          NaN  ...          Personal         NaN                  2.0   \n",
       "4          NaN  ...          Personal         NaN                  1.0   \n",
       "\n",
       "  total_serious_injuries total_minor_injuries total_uninjured  \\\n",
       "0                    0.0                  0.0             0.0   \n",
       "1                    0.0                  0.0             0.0   \n",
       "2                    NaN                  NaN             NaN   \n",
       "3                    0.0                  0.0             0.0   \n",
       "4                    2.0                  NaN             0.0   \n",
       "\n",
       "  weather_condition  broad_phase_of_flight   report_status publication_date  \n",
       "0               UNK                 Cruise  Probable Cause              NaN  \n",
       "1               UNK                Unknown  Probable Cause       19-09-1996  \n",
       "2               IMC                 Cruise  Probable Cause       26-02-2007  \n",
       "3               IMC                 Cruise  Probable Cause       12-09-2000  \n",
       "4               VMC               Approach  Probable Cause       16-04-1980  \n",
       "\n",
       "[5 rows x 31 columns]"
      ]
     },
     "execution_count": 5,
     "metadata": {},
     "output_type": "execute_result"
    }
   ],
   "source": [
    "#Standardize column names\n",
    "aviation_df = aviation_df.rename(columns = lambda x: x.replace(\".\", \"_\").lower())\n",
    "aviation_df.head()"
   ]
  },
  {
   "cell_type": "code",
   "execution_count": 6,
   "metadata": {},
   "outputs": [
    {
     "data": {
      "text/plain": [
       "event_id                   1459\n",
       "investigation_type            0\n",
       "accident_number            1459\n",
       "event_date                 1459\n",
       "location                   1511\n",
       "country                    1685\n",
       "latitude                  55966\n",
       "longitude                 55975\n",
       "airport_code              40099\n",
       "airport_name              37558\n",
       "injury_severity            2459\n",
       "aircraft_damage            4653\n",
       "aircraft_category         58061\n",
       "registration_number        2776\n",
       "make                       1522\n",
       "model                      1551\n",
       "amateur_built              1561\n",
       "number_of_engines          7543\n",
       "engine_type                8536\n",
       "far_description           58325\n",
       "schedule                  77766\n",
       "purpose_of_flight          7651\n",
       "air_carrier               73700\n",
       "total_fatal_injuries      12860\n",
       "total_serious_injuries    13969\n",
       "total_minor_injuries      13392\n",
       "total_uninjured            7371\n",
       "weather_condition          5951\n",
       "broad_phase_of_flight     28624\n",
       "report_status              7840\n",
       "publication_date          16689\n",
       "dtype: int64"
      ]
     },
     "execution_count": 6,
     "metadata": {},
     "output_type": "execute_result"
    }
   ],
   "source": [
    "aviation_df.isna().sum()"
   ]
  },
  {
   "cell_type": "code",
   "execution_count": 7,
   "metadata": {},
   "outputs": [
    {
     "data": {
      "text/plain": [
       "VMC    77303\n",
       "IMC     5976\n",
       "UNK      856\n",
       "Unk      262\n",
       "Name: weather_condition, dtype: int64"
      ]
     },
     "execution_count": 7,
     "metadata": {},
     "output_type": "execute_result"
    }
   ],
   "source": [
    "#Analyze weather_conditions\n",
    "aviation_df['weather_condition'].value_counts()"
   ]
  },
  {
   "cell_type": "code",
   "execution_count": 8,
   "metadata": {},
   "outputs": [
    {
     "name": "stderr",
     "output_type": "stream",
     "text": [
      "/Users/robertdaly/anaconda3/envs/learn-env/lib/python3.8/site-packages/pandas/core/indexing.py:670: SettingWithCopyWarning: \n",
      "A value is trying to be set on a copy of a slice from a DataFrame\n",
      "\n",
      "See the caveats in the documentation: https://pandas.pydata.org/pandas-docs/stable/user_guide/indexing.html#returning-a-view-versus-a-copy\n",
      "  iloc._setitem_with_indexer(indexer, value)\n"
     ]
    }
   ],
   "source": [
    "#Standardize Unkown weather condition code to UNK\n",
    "aviation_df['weather_condition'].loc[aviation_df['weather_condition']=='Unk']='UNK'"
   ]
  },
  {
   "cell_type": "code",
   "execution_count": 9,
   "metadata": {},
   "outputs": [
    {
     "data": {
      "text/plain": [
       "Cessna              22227\n",
       "Piper               12029\n",
       "CESSNA               4922\n",
       "Beech                4330\n",
       "PIPER                2841\n",
       "                    ...  \n",
       "Selby Dean              1\n",
       "PIONTKOWSKI             1\n",
       "Keeley/Tidd             1\n",
       "DOUBLEDAY DONALD        1\n",
       "JOHNSON JERRY           1\n",
       "Name: make, Length: 8237, dtype: int64"
      ]
     },
     "execution_count": 9,
     "metadata": {},
     "output_type": "execute_result"
    }
   ],
   "source": [
    "#Analyze Make column\n",
    "aviation_df['make'].value_counts()"
   ]
  },
  {
   "cell_type": "code",
   "execution_count": 10,
   "metadata": {},
   "outputs": [],
   "source": [
    "#standardizing the names of the airplane makes by making them all lower case with first letter capitalized\n",
    "aviation_df.loc[:, 'make'] = aviation_df['make'].str.lower().str.capitalize()"
   ]
  },
  {
   "cell_type": "code",
   "execution_count": 11,
   "metadata": {},
   "outputs": [
    {
     "data": {
      "text/plain": [
       "Cessna           27149\n",
       "Piper            14870\n",
       "Beech             5372\n",
       "Boeing            2745\n",
       "Bell              2722\n",
       "                 ...  \n",
       "Smith allen          1\n",
       "Corley               1\n",
       "Carlesimo            1\n",
       "Catchot angus        1\n",
       "Chilian              1\n",
       "Name: make, Length: 7587, dtype: int64"
      ]
     },
     "execution_count": 11,
     "metadata": {},
     "output_type": "execute_result"
    }
   ],
   "source": [
    "#Confirm that change worked\n",
    "aviation_df['make'].value_counts()"
   ]
  },
  {
   "cell_type": "code",
   "execution_count": 12,
   "metadata": {},
   "outputs": [
    {
     "data": {
      "text/plain": [
       "Cessna                            27149\n",
       "Piper                             14870\n",
       "Beech                              5372\n",
       "Boeing                             2745\n",
       "Bell                               2722\n",
       "Mooney                             1334\n",
       "Robinson                           1230\n",
       "Grumman                            1172\n",
       "Bellanca                           1045\n",
       "Hughes                              932\n",
       "Schweizer                           773\n",
       "Air tractor                         691\n",
       "Aeronca                             636\n",
       "Mcdonnell douglas                   608\n",
       "Maule                               589\n",
       "Champion                            519\n",
       "Stinson                             439\n",
       "Aero commander                      429\n",
       "De havilland                        422\n",
       "Luscombe                            414\n",
       "Aerospatiale                        388\n",
       "North american                      383\n",
       "Taylorcraft                         383\n",
       "Rockwell                            355\n",
       "Hiller                              348\n",
       "Enstrom                             296\n",
       "Airbus                              291\n",
       "Douglas                             281\n",
       "Embraer                             238\n",
       "Ayres                               238\n",
       "Sikorsky                            233\n",
       "Robinson helicopter                 230\n",
       "Grumman american                    226\n",
       "Cirrus design corp                  223\n",
       "Eurocopter                          220\n",
       "Air tractor inc                     219\n",
       "Robinson helicopter company         194\n",
       "Swearingen                          180\n",
       "Airbus industrie                    164\n",
       "Fairchild                           161\n",
       "Ercoupe (eng & research corp.)      160\n",
       "Pitts                               154\n",
       "Cirrus                              150\n",
       "Lake                                150\n",
       "Balloon works                       147\n",
       "Schleicher                          146\n",
       "Mitsubishi                          145\n",
       "Waco                                143\n",
       "Aviat                               140\n",
       "Learjet                             136\n",
       "Name: make, dtype: int64"
      ]
     },
     "execution_count": 12,
     "metadata": {},
     "output_type": "execute_result"
    }
   ],
   "source": [
    "#Check top 50 makes with most accidents\n",
    "aviation_df['make'].value_counts()[:50]"
   ]
  },
  {
   "cell_type": "code",
   "execution_count": 13,
   "metadata": {},
   "outputs": [],
   "source": [
    "#Replacing Robinson names that were inconsistent in airplane make\n",
    "aircraft_dict = {\n",
    "    'Robinson helicopter company' : 'Robinson helicopter',\n",
    "    'Robinson' : 'Robinson helicopter',\n",
    "    'Robinson Helicopter' : 'Robinson helicopter'}\n",
    "aviation_df.loc[:, 'make'] = aviation_df['make'].replace(aircraft_dict)"
   ]
  },
  {
   "cell_type": "code",
   "execution_count": 14,
   "metadata": {},
   "outputs": [
    {
     "data": {
      "text/plain": [
       "Cessna                            27149\n",
       "Piper                             14870\n",
       "Beech                              5372\n",
       "Boeing                             2745\n",
       "Bell                               2722\n",
       "Robinson helicopter                1654\n",
       "Mooney                             1334\n",
       "Grumman                            1172\n",
       "Bellanca                           1045\n",
       "Hughes                              932\n",
       "Schweizer                           773\n",
       "Air tractor                         691\n",
       "Aeronca                             636\n",
       "Mcdonnell douglas                   608\n",
       "Maule                               589\n",
       "Champion                            519\n",
       "Stinson                             439\n",
       "Aero commander                      429\n",
       "De havilland                        422\n",
       "Luscombe                            414\n",
       "Aerospatiale                        388\n",
       "North american                      383\n",
       "Taylorcraft                         383\n",
       "Rockwell                            355\n",
       "Hiller                              348\n",
       "Enstrom                             296\n",
       "Airbus                              291\n",
       "Douglas                             281\n",
       "Ayres                               238\n",
       "Embraer                             238\n",
       "Sikorsky                            233\n",
       "Grumman american                    226\n",
       "Cirrus design corp                  223\n",
       "Eurocopter                          220\n",
       "Air tractor inc                     219\n",
       "Swearingen                          180\n",
       "Airbus industrie                    164\n",
       "Fairchild                           161\n",
       "Ercoupe (eng & research corp.)      160\n",
       "Pitts                               154\n",
       "Cirrus                              150\n",
       "Lake                                150\n",
       "Balloon works                       147\n",
       "Schleicher                          146\n",
       "Mitsubishi                          145\n",
       "Waco                                143\n",
       "Aviat                               140\n",
       "Learjet                             136\n",
       "Let                                 136\n",
       "Vans                                129\n",
       "Name: make, dtype: int64"
      ]
     },
     "execution_count": 14,
     "metadata": {},
     "output_type": "execute_result"
    }
   ],
   "source": [
    "#Confirm that Robinson name change worked\n",
    "aviation_df['make'].value_counts()[:50]"
   ]
  },
  {
   "cell_type": "code",
   "execution_count": 15,
   "metadata": {},
   "outputs": [],
   "source": [
    "#create new column with state initials to easily filter by State\n",
    "aviation_df['state']=aviation_df['location'].str.upper().str[-2:]"
   ]
  },
  {
   "cell_type": "code",
   "execution_count": 16,
   "metadata": {},
   "outputs": [
    {
     "data": {
      "text/html": [
       "<div>\n",
       "<style scoped>\n",
       "    .dataframe tbody tr th:only-of-type {\n",
       "        vertical-align: middle;\n",
       "    }\n",
       "\n",
       "    .dataframe tbody tr th {\n",
       "        vertical-align: top;\n",
       "    }\n",
       "\n",
       "    .dataframe thead th {\n",
       "        text-align: right;\n",
       "    }\n",
       "</style>\n",
       "<table border=\"1\" class=\"dataframe\">\n",
       "  <thead>\n",
       "    <tr style=\"text-align: right;\">\n",
       "      <th></th>\n",
       "      <th>event_id</th>\n",
       "      <th>investigation_type</th>\n",
       "      <th>accident_number</th>\n",
       "      <th>event_date</th>\n",
       "      <th>location</th>\n",
       "      <th>country</th>\n",
       "      <th>latitude</th>\n",
       "      <th>longitude</th>\n",
       "      <th>airport_code</th>\n",
       "      <th>airport_name</th>\n",
       "      <th>...</th>\n",
       "      <th>air_carrier</th>\n",
       "      <th>total_fatal_injuries</th>\n",
       "      <th>total_serious_injuries</th>\n",
       "      <th>total_minor_injuries</th>\n",
       "      <th>total_uninjured</th>\n",
       "      <th>weather_condition</th>\n",
       "      <th>broad_phase_of_flight</th>\n",
       "      <th>report_status</th>\n",
       "      <th>publication_date</th>\n",
       "      <th>state</th>\n",
       "    </tr>\n",
       "  </thead>\n",
       "  <tbody>\n",
       "    <tr>\n",
       "      <th>0</th>\n",
       "      <td>20001218X45444</td>\n",
       "      <td>Accident</td>\n",
       "      <td>SEA87LA080</td>\n",
       "      <td>1948-10-24</td>\n",
       "      <td>MOOSE CREEK, ID</td>\n",
       "      <td>United States</td>\n",
       "      <td>NaN</td>\n",
       "      <td>NaN</td>\n",
       "      <td>NaN</td>\n",
       "      <td>NaN</td>\n",
       "      <td>...</td>\n",
       "      <td>NaN</td>\n",
       "      <td>2.0</td>\n",
       "      <td>0.0</td>\n",
       "      <td>0.0</td>\n",
       "      <td>0.0</td>\n",
       "      <td>UNK</td>\n",
       "      <td>Cruise</td>\n",
       "      <td>Probable Cause</td>\n",
       "      <td>NaN</td>\n",
       "      <td>ID</td>\n",
       "    </tr>\n",
       "    <tr>\n",
       "      <th>1</th>\n",
       "      <td>20001218X45447</td>\n",
       "      <td>Accident</td>\n",
       "      <td>LAX94LA336</td>\n",
       "      <td>1962-07-19</td>\n",
       "      <td>BRIDGEPORT, CA</td>\n",
       "      <td>United States</td>\n",
       "      <td>NaN</td>\n",
       "      <td>NaN</td>\n",
       "      <td>NaN</td>\n",
       "      <td>NaN</td>\n",
       "      <td>...</td>\n",
       "      <td>NaN</td>\n",
       "      <td>4.0</td>\n",
       "      <td>0.0</td>\n",
       "      <td>0.0</td>\n",
       "      <td>0.0</td>\n",
       "      <td>UNK</td>\n",
       "      <td>Unknown</td>\n",
       "      <td>Probable Cause</td>\n",
       "      <td>19-09-1996</td>\n",
       "      <td>CA</td>\n",
       "    </tr>\n",
       "    <tr>\n",
       "      <th>2</th>\n",
       "      <td>20061025X01555</td>\n",
       "      <td>Accident</td>\n",
       "      <td>NYC07LA005</td>\n",
       "      <td>1974-08-30</td>\n",
       "      <td>Saltville, VA</td>\n",
       "      <td>United States</td>\n",
       "      <td>36.9222</td>\n",
       "      <td>-81.8781</td>\n",
       "      <td>NaN</td>\n",
       "      <td>NaN</td>\n",
       "      <td>...</td>\n",
       "      <td>NaN</td>\n",
       "      <td>3.0</td>\n",
       "      <td>NaN</td>\n",
       "      <td>NaN</td>\n",
       "      <td>NaN</td>\n",
       "      <td>IMC</td>\n",
       "      <td>Cruise</td>\n",
       "      <td>Probable Cause</td>\n",
       "      <td>26-02-2007</td>\n",
       "      <td>VA</td>\n",
       "    </tr>\n",
       "    <tr>\n",
       "      <th>3</th>\n",
       "      <td>20001218X45448</td>\n",
       "      <td>Accident</td>\n",
       "      <td>LAX96LA321</td>\n",
       "      <td>1977-06-19</td>\n",
       "      <td>EUREKA, CA</td>\n",
       "      <td>United States</td>\n",
       "      <td>NaN</td>\n",
       "      <td>NaN</td>\n",
       "      <td>NaN</td>\n",
       "      <td>NaN</td>\n",
       "      <td>...</td>\n",
       "      <td>NaN</td>\n",
       "      <td>2.0</td>\n",
       "      <td>0.0</td>\n",
       "      <td>0.0</td>\n",
       "      <td>0.0</td>\n",
       "      <td>IMC</td>\n",
       "      <td>Cruise</td>\n",
       "      <td>Probable Cause</td>\n",
       "      <td>12-09-2000</td>\n",
       "      <td>CA</td>\n",
       "    </tr>\n",
       "    <tr>\n",
       "      <th>4</th>\n",
       "      <td>20041105X01764</td>\n",
       "      <td>Accident</td>\n",
       "      <td>CHI79FA064</td>\n",
       "      <td>1979-08-02</td>\n",
       "      <td>Canton, OH</td>\n",
       "      <td>United States</td>\n",
       "      <td>NaN</td>\n",
       "      <td>NaN</td>\n",
       "      <td>NaN</td>\n",
       "      <td>NaN</td>\n",
       "      <td>...</td>\n",
       "      <td>NaN</td>\n",
       "      <td>1.0</td>\n",
       "      <td>2.0</td>\n",
       "      <td>NaN</td>\n",
       "      <td>0.0</td>\n",
       "      <td>VMC</td>\n",
       "      <td>Approach</td>\n",
       "      <td>Probable Cause</td>\n",
       "      <td>16-04-1980</td>\n",
       "      <td>OH</td>\n",
       "    </tr>\n",
       "  </tbody>\n",
       "</table>\n",
       "<p>5 rows × 32 columns</p>\n",
       "</div>"
      ],
      "text/plain": [
       "         event_id investigation_type accident_number  event_date  \\\n",
       "0  20001218X45444           Accident      SEA87LA080  1948-10-24   \n",
       "1  20001218X45447           Accident      LAX94LA336  1962-07-19   \n",
       "2  20061025X01555           Accident      NYC07LA005  1974-08-30   \n",
       "3  20001218X45448           Accident      LAX96LA321  1977-06-19   \n",
       "4  20041105X01764           Accident      CHI79FA064  1979-08-02   \n",
       "\n",
       "          location        country latitude longitude airport_code  \\\n",
       "0  MOOSE CREEK, ID  United States      NaN       NaN          NaN   \n",
       "1   BRIDGEPORT, CA  United States      NaN       NaN          NaN   \n",
       "2    Saltville, VA  United States  36.9222  -81.8781          NaN   \n",
       "3       EUREKA, CA  United States      NaN       NaN          NaN   \n",
       "4       Canton, OH  United States      NaN       NaN          NaN   \n",
       "\n",
       "  airport_name  ... air_carrier total_fatal_injuries total_serious_injuries  \\\n",
       "0          NaN  ...         NaN                  2.0                    0.0   \n",
       "1          NaN  ...         NaN                  4.0                    0.0   \n",
       "2          NaN  ...         NaN                  3.0                    NaN   \n",
       "3          NaN  ...         NaN                  2.0                    0.0   \n",
       "4          NaN  ...         NaN                  1.0                    2.0   \n",
       "\n",
       "  total_minor_injuries total_uninjured weather_condition  \\\n",
       "0                  0.0             0.0               UNK   \n",
       "1                  0.0             0.0               UNK   \n",
       "2                  NaN             NaN               IMC   \n",
       "3                  0.0             0.0               IMC   \n",
       "4                  NaN             0.0               VMC   \n",
       "\n",
       "  broad_phase_of_flight   report_status publication_date state  \n",
       "0                Cruise  Probable Cause              NaN    ID  \n",
       "1               Unknown  Probable Cause       19-09-1996    CA  \n",
       "2                Cruise  Probable Cause       26-02-2007    VA  \n",
       "3                Cruise  Probable Cause       12-09-2000    CA  \n",
       "4              Approach  Probable Cause       16-04-1980    OH  \n",
       "\n",
       "[5 rows x 32 columns]"
      ]
     },
     "execution_count": 16,
     "metadata": {},
     "output_type": "execute_result"
    }
   ],
   "source": [
    "aviation_df.head()"
   ]
  },
  {
   "cell_type": "code",
   "execution_count": 17,
   "metadata": {},
   "outputs": [
    {
     "data": {
      "text/plain": [
       "CA    9033\n",
       "TX    5913\n",
       "FL    5825\n",
       "AK    5672\n",
       "CO    3104\n",
       "AZ    2834\n",
       "WA    2613\n",
       "IL    2384\n",
       "NY    2128\n",
       "MI    2030\n",
       "GA    2023\n",
       "IA    1831\n",
       "OH    1823\n",
       "OR    1811\n",
       "PA    1791\n",
       "NC    1661\n",
       "MO    1566\n",
       "WI    1563\n",
       "IN    1534\n",
       "AR    1526\n",
       "MN    1456\n",
       "ID    1436\n",
       "LA    1402\n",
       "NM    1358\n",
       "UT    1336\n",
       "VA    1275\n",
       "OK    1240\n",
       "NV    1236\n",
       "AL    1216\n",
       "NJ    1170\n",
       "TN    1108\n",
       "KS    1105\n",
       "MT    1050\n",
       "MA    1015\n",
       "SC     974\n",
       "ND     838\n",
       "MD     815\n",
       "MS     813\n",
       "NE     742\n",
       "WY     739\n",
       "KY     650\n",
       "ME     515\n",
       "CT     502\n",
       "HI     499\n",
       "SD     446\n",
       "WV     394\n",
       "AN     389\n",
       "NH     368\n",
       "DA     347\n",
       "OM     307\n",
       "Name: state, dtype: int64"
      ]
     },
     "execution_count": 17,
     "metadata": {},
     "output_type": "execute_result"
    }
   ],
   "source": [
    "aviation_df['state'].value_counts()[:50]"
   ]
  },
  {
   "cell_type": "code",
   "execution_count": 18,
   "metadata": {},
   "outputs": [],
   "source": [
    "#narrow down to states within State Codes b/c that's where majority of data is\n",
    "aviation_df = aviation_df.loc[aviation_df['state'].isin(state_codes_df['Abbreviation'])]"
   ]
  },
  {
   "cell_type": "code",
   "execution_count": 19,
   "metadata": {},
   "outputs": [
    {
     "data": {
      "text/plain": [
       "CA    9033\n",
       "TX    5913\n",
       "FL    5825\n",
       "AK    5672\n",
       "CO    3104\n",
       "AZ    2834\n",
       "WA    2613\n",
       "IL    2384\n",
       "NY    2128\n",
       "MI    2030\n",
       "GA    2023\n",
       "IA    1831\n",
       "OH    1823\n",
       "OR    1811\n",
       "PA    1791\n",
       "NC    1661\n",
       "MO    1566\n",
       "WI    1563\n",
       "IN    1534\n",
       "AR    1526\n",
       "MN    1456\n",
       "ID    1436\n",
       "LA    1402\n",
       "NM    1358\n",
       "UT    1336\n",
       "VA    1275\n",
       "OK    1240\n",
       "NV    1236\n",
       "AL    1216\n",
       "NJ    1170\n",
       "TN    1108\n",
       "KS    1105\n",
       "MT    1050\n",
       "MA    1015\n",
       "SC     974\n",
       "ND     838\n",
       "MD     815\n",
       "MS     813\n",
       "NE     742\n",
       "WY     739\n",
       "KY     650\n",
       "ME     515\n",
       "CT     502\n",
       "HI     499\n",
       "SD     446\n",
       "WV     394\n",
       "NH     368\n",
       "AS     295\n",
       "VT     241\n",
       "RI     158\n",
       "DE     119\n",
       "PR     114\n",
       "GM      44\n",
       "DC      42\n",
       "AO      33\n",
       "PO      17\n",
       "GU       8\n",
       "VI       6\n",
       "Name: state, dtype: int64"
      ]
     },
     "execution_count": 19,
     "metadata": {},
     "output_type": "execute_result"
    }
   ],
   "source": [
    "aviation_df['state'].value_counts()"
   ]
  },
  {
   "cell_type": "code",
   "execution_count": 20,
   "metadata": {},
   "outputs": [
    {
     "data": {
      "text/plain": [
       "58"
      ]
     },
     "execution_count": 20,
     "metadata": {},
     "output_type": "execute_result"
    }
   ],
   "source": [
    "len(aviation_df['state'].value_counts())"
   ]
  },
  {
   "cell_type": "code",
   "execution_count": 21,
   "metadata": {},
   "outputs": [
    {
     "name": "stdout",
     "output_type": "stream",
     "text": [
      "58\n"
     ]
    }
   ],
   "source": [
    "#Group into regions of country to better analyze regions\n",
    "#Regions from National Geographic: https://education.nationalgeographic.org/resource/united-states-regions/\n",
    "regions_dict = {\n",
    "    \"CT\": \"Northeast\",\n",
    "    \"ME\": \"Northeast\",\n",
    "    \"MA\": \"Northeast\",\n",
    "    \"NH\": \"Northeast\",\n",
    "    \"NJ\": \"Northeast\",\n",
    "    \"NY\": \"Northeast\",\n",
    "    \"PA\": \"Northeast\",\n",
    "    \"RI\": \"Northeast\",\n",
    "    \"VT\": \"Northeast\",\n",
    "    \"MD\": \"Northeast\",\n",
    "    \"DC\": \"Northeast\",\n",
    "    \"AL\": \"Southeast\",\n",
    "    \"AR\": \"Southeast\",\n",
    "    \"FL\": \"Southeast\",\n",
    "    \"GA\": \"Southeast\",\n",
    "    \"KY\": \"Southeast\",\n",
    "    \"LA\": \"Southeast\",\n",
    "    \"MS\": \"Southeast\",\n",
    "    \"NC\": \"Southeast\",\n",
    "    \"SC\": \"Southeast\",\n",
    "    \"TN\": \"Southeast\",\n",
    "    \"TX\": \"Southeast\",\n",
    "    \"VA\": \"Southeast\",\n",
    "    \"WV\": \"Southeast\",\n",
    "    \"OK\": \"Southeast\",\n",
    "    \"DE\": \"Southeast\",\n",
    "    \"IL\": \"Midwest\",\n",
    "    \"IN\": \"Midwest\",\n",
    "    \"IA\": \"Midwest\",\n",
    "    \"KS\": \"Midwest\",\n",
    "    \"MI\": \"Midwest\",\n",
    "    \"MN\": \"Midwest\",\n",
    "    \"MO\": \"Midwest\",\n",
    "    \"NE\": \"Midwest\",\n",
    "    \"ND\": \"Midwest\",\n",
    "    \"OH\": \"Midwest\",\n",
    "    \"SD\": \"Midwest\",\n",
    "    \"WI\": \"Midwest\",\n",
    "    \"AZ\": \"Southwest\",\n",
    "    \"NM\": \"Southwest\",\n",
    "    \"AK\": \"West\",\n",
    "    \"CA\": \"West\",\n",
    "    \"CO\": \"West\",\n",
    "    \"HI\": \"West\",\n",
    "    \"ID\": \"West\",\n",
    "    \"MT\": \"West\",\n",
    "    \"NV\": \"West\",\n",
    "    \"OR\": \"West\",\n",
    "    \"UT\": \"West\",\n",
    "    \"WA\": \"West\",\n",
    "    \"WY\": \"West\",\n",
    "    \"AO\": \"Atlantic Ocean\",\n",
    "    \"AS\": \"Pacific Ocean\",\n",
    "    \"PR\": \"Caribbean Sea/Gulf of Mexico\", #combined b/c not as many data points as other regions\n",
    "    \"GU\": \"Pacific Ocean\",\n",
    "    \"PO\": \"Pacific Ocean\",\n",
    "    \"GM\": \"Caribbean Sea/Gulf of Mexico\",\n",
    "    \"VI\": \"Caribbean Sea/Gulf of Mexico\"\n",
    "}\n",
    "\n",
    "#Make sure dictionary includes Region for every state\n",
    "print(len(regions_dict))\n",
    "aviation_df['region'] = aviation_df['state'].map(lambda x: regions_dict[x])"
   ]
  },
  {
   "cell_type": "markdown",
   "metadata": {},
   "source": [
    "\n",
    "\n",
    "\n",
    "\n",
    "In order to recommend safety, we want to mitigate bad outcomes. The injury_severity column and all columns including 'injuries' jumped out as most relevant for initial scanning. "
   ]
  },
  {
   "cell_type": "code",
   "execution_count": 22,
   "metadata": {},
   "outputs": [
    {
     "data": {
      "text/plain": [
       "Non-Fatal     65945\n",
       "Fatal(1)       5998\n",
       "Fatal          4502\n",
       "Fatal(2)       3589\n",
       "Incident       2011\n",
       "              ...  \n",
       "Fatal(88)         1\n",
       "Fatal(70)         1\n",
       "Fatal(153)        1\n",
       "Fatal(26)         1\n",
       "Fatal(33)         1\n",
       "Name: injury_severity, Length: 84, dtype: int64"
      ]
     },
     "execution_count": 22,
     "metadata": {},
     "output_type": "execute_result"
    }
   ],
   "source": [
    "#Analyze injury_severity column\n",
    "aviation_df['injury_severity'].value_counts()"
   ]
  },
  {
   "cell_type": "markdown",
   "metadata": {},
   "source": [
    "Many values have \"Fatal\" and then the number of Fatalities. This is duplicate entry as that data should be in the total_fatal_injuries column. "
   ]
  },
  {
   "cell_type": "code",
   "execution_count": 23,
   "metadata": {},
   "outputs": [
    {
     "data": {
      "text/html": [
       "<div>\n",
       "<style scoped>\n",
       "    .dataframe tbody tr th:only-of-type {\n",
       "        vertical-align: middle;\n",
       "    }\n",
       "\n",
       "    .dataframe tbody tr th {\n",
       "        vertical-align: top;\n",
       "    }\n",
       "\n",
       "    .dataframe thead th {\n",
       "        text-align: right;\n",
       "    }\n",
       "</style>\n",
       "<table border=\"1\" class=\"dataframe\">\n",
       "  <thead>\n",
       "    <tr style=\"text-align: right;\">\n",
       "      <th></th>\n",
       "      <th>injury_severity</th>\n",
       "      <th>total_fatal_injuries</th>\n",
       "    </tr>\n",
       "  </thead>\n",
       "  <tbody>\n",
       "    <tr>\n",
       "      <th>0</th>\n",
       "      <td>Fatal(2)</td>\n",
       "      <td>2.0</td>\n",
       "    </tr>\n",
       "    <tr>\n",
       "      <th>1</th>\n",
       "      <td>Fatal(4)</td>\n",
       "      <td>4.0</td>\n",
       "    </tr>\n",
       "    <tr>\n",
       "      <th>2</th>\n",
       "      <td>Fatal(3)</td>\n",
       "      <td>3.0</td>\n",
       "    </tr>\n",
       "    <tr>\n",
       "      <th>3</th>\n",
       "      <td>Fatal(2)</td>\n",
       "      <td>2.0</td>\n",
       "    </tr>\n",
       "    <tr>\n",
       "      <th>4</th>\n",
       "      <td>Fatal(1)</td>\n",
       "      <td>1.0</td>\n",
       "    </tr>\n",
       "    <tr>\n",
       "      <th>5</th>\n",
       "      <td>Non-Fatal</td>\n",
       "      <td>NaN</td>\n",
       "    </tr>\n",
       "    <tr>\n",
       "      <th>6</th>\n",
       "      <td>Fatal(4)</td>\n",
       "      <td>4.0</td>\n",
       "    </tr>\n",
       "    <tr>\n",
       "      <th>7</th>\n",
       "      <td>Non-Fatal</td>\n",
       "      <td>0.0</td>\n",
       "    </tr>\n",
       "    <tr>\n",
       "      <th>8</th>\n",
       "      <td>Non-Fatal</td>\n",
       "      <td>0.0</td>\n",
       "    </tr>\n",
       "    <tr>\n",
       "      <th>9</th>\n",
       "      <td>Non-Fatal</td>\n",
       "      <td>0.0</td>\n",
       "    </tr>\n",
       "    <tr>\n",
       "      <th>10</th>\n",
       "      <td>Non-Fatal</td>\n",
       "      <td>0.0</td>\n",
       "    </tr>\n",
       "    <tr>\n",
       "      <th>11</th>\n",
       "      <td>Non-Fatal</td>\n",
       "      <td>0.0</td>\n",
       "    </tr>\n",
       "    <tr>\n",
       "      <th>12</th>\n",
       "      <td>Non-Fatal</td>\n",
       "      <td>0.0</td>\n",
       "    </tr>\n",
       "    <tr>\n",
       "      <th>13</th>\n",
       "      <td>Fatal(1)</td>\n",
       "      <td>1.0</td>\n",
       "    </tr>\n",
       "    <tr>\n",
       "      <th>14</th>\n",
       "      <td>Fatal(1)</td>\n",
       "      <td>1.0</td>\n",
       "    </tr>\n",
       "    <tr>\n",
       "      <th>15</th>\n",
       "      <td>Fatal(2)</td>\n",
       "      <td>2.0</td>\n",
       "    </tr>\n",
       "    <tr>\n",
       "      <th>16</th>\n",
       "      <td>Non-Fatal</td>\n",
       "      <td>0.0</td>\n",
       "    </tr>\n",
       "    <tr>\n",
       "      <th>17</th>\n",
       "      <td>Fatal(3)</td>\n",
       "      <td>3.0</td>\n",
       "    </tr>\n",
       "    <tr>\n",
       "      <th>18</th>\n",
       "      <td>Non-Fatal</td>\n",
       "      <td>0.0</td>\n",
       "    </tr>\n",
       "    <tr>\n",
       "      <th>19</th>\n",
       "      <td>Non-Fatal</td>\n",
       "      <td>0.0</td>\n",
       "    </tr>\n",
       "  </tbody>\n",
       "</table>\n",
       "</div>"
      ],
      "text/plain": [
       "   injury_severity  total_fatal_injuries\n",
       "0         Fatal(2)                   2.0\n",
       "1         Fatal(4)                   4.0\n",
       "2         Fatal(3)                   3.0\n",
       "3         Fatal(2)                   2.0\n",
       "4         Fatal(1)                   1.0\n",
       "5        Non-Fatal                   NaN\n",
       "6         Fatal(4)                   4.0\n",
       "7        Non-Fatal                   0.0\n",
       "8        Non-Fatal                   0.0\n",
       "9        Non-Fatal                   0.0\n",
       "10       Non-Fatal                   0.0\n",
       "11       Non-Fatal                   0.0\n",
       "12       Non-Fatal                   0.0\n",
       "13        Fatal(1)                   1.0\n",
       "14        Fatal(1)                   1.0\n",
       "15        Fatal(2)                   2.0\n",
       "16       Non-Fatal                   0.0\n",
       "17        Fatal(3)                   3.0\n",
       "18       Non-Fatal                   0.0\n",
       "19       Non-Fatal                   0.0"
      ]
     },
     "execution_count": 23,
     "metadata": {},
     "output_type": "execute_result"
    }
   ],
   "source": [
    "#Check to confirm numbers in injury_severity line up with numbers in total_fatal_injuries\n",
    "aviation_df[['injury_severity','total_fatal_injuries']].head(20)"
   ]
  },
  {
   "cell_type": "code",
   "execution_count": 24,
   "metadata": {},
   "outputs": [
    {
     "data": {
      "text/plain": [
       "0.6027621722846442"
      ]
     },
     "execution_count": 24,
     "metadata": {},
     "output_type": "execute_result"
    }
   ],
   "source": [
    "#Find how many NAs in this column\n",
    "percent_na_inj = aviation_df['injury_severity'].isna().sum()/len(aviation_df['injury_severity'])*100\n",
    "percent_na_inj"
   ]
  },
  {
   "cell_type": "markdown",
   "metadata": {},
   "source": [
    "2.7% is a lot of data to wipe out, so instead we decided to change any NaN value to \"Not Applicable\""
   ]
  },
  {
   "cell_type": "code",
   "execution_count": 25,
   "metadata": {},
   "outputs": [
    {
     "name": "stderr",
     "output_type": "stream",
     "text": [
      "/Users/robertdaly/anaconda3/envs/learn-env/lib/python3.8/site-packages/pandas/core/indexing.py:670: SettingWithCopyWarning: \n",
      "A value is trying to be set on a copy of a slice from a DataFrame\n",
      "\n",
      "See the caveats in the documentation: https://pandas.pydata.org/pandas-docs/stable/user_guide/indexing.html#returning-a-view-versus-a-copy\n",
      "  iloc._setitem_with_indexer(indexer, value)\n"
     ]
    },
    {
     "data": {
      "text/plain": [
       "0"
      ]
     },
     "execution_count": 25,
     "metadata": {},
     "output_type": "execute_result"
    }
   ],
   "source": [
    "#Change NAs in this column to Not Applicable\n",
    "aviation_df['injury_severity'].loc[aviation_df['injury_severity'].isna()] = 'Not Applicable'\n",
    "\n",
    "#Check to confirm the replacement worked\n",
    "aviation_df['injury_severity'].isna().sum()"
   ]
  },
  {
   "cell_type": "code",
   "execution_count": 26,
   "metadata": {},
   "outputs": [
    {
     "name": "stdout",
     "output_type": "stream",
     "text": [
      "0\n",
      "0\n",
      "0\n",
      "0\n"
     ]
    }
   ],
   "source": [
    "#Remove Nulls in injury columns and replace with 0's as this most likely means there were 0 injuries for the accident.\n",
    "aviation_df['total_fatal_injuries'].fillna(value=0,inplace=True)\n",
    "aviation_df['total_minor_injuries'].fillna(value=0,inplace=True) \n",
    "aviation_df['total_serious_injuries'].fillna(value=0,inplace=True) \n",
    "aviation_df['total_uninjured'].fillna(value=0,inplace=True) \n",
    "\n",
    "#Check to confirm fill worked\n",
    "print(aviation_df['total_fatal_injuries'].isna().sum())\n",
    "print(aviation_df['total_minor_injuries'].isna().sum())\n",
    "print(aviation_df['total_serious_injuries'].isna().sum())\n",
    "print(aviation_df['total_uninjured'].isna().sum())"
   ]
  },
  {
   "cell_type": "code",
   "execution_count": 27,
   "metadata": {},
   "outputs": [],
   "source": [
    "#Change all values with Fatal(#) to just Fatal b/c # Fatal are taken care of in total_fatalaties column\n",
    "aviation_df['injury_severity'].loc[aviation_df['injury_severity'].str.contains(\"Fatal\\(.*\\)\")] = 'Fatal'"
   ]
  },
  {
   "cell_type": "code",
   "execution_count": 28,
   "metadata": {},
   "outputs": [
    {
     "data": {
      "text/html": [
       "<div>\n",
       "<style scoped>\n",
       "    .dataframe tbody tr th:only-of-type {\n",
       "        vertical-align: middle;\n",
       "    }\n",
       "\n",
       "    .dataframe tbody tr th {\n",
       "        vertical-align: top;\n",
       "    }\n",
       "\n",
       "    .dataframe thead th {\n",
       "        text-align: right;\n",
       "    }\n",
       "</style>\n",
       "<table border=\"1\" class=\"dataframe\">\n",
       "  <thead>\n",
       "    <tr style=\"text-align: right;\">\n",
       "      <th></th>\n",
       "      <th>injury_severity</th>\n",
       "      <th>total_fatal_injuries</th>\n",
       "    </tr>\n",
       "  </thead>\n",
       "  <tbody>\n",
       "    <tr>\n",
       "      <th>0</th>\n",
       "      <td>Fatal</td>\n",
       "      <td>2.0</td>\n",
       "    </tr>\n",
       "    <tr>\n",
       "      <th>1</th>\n",
       "      <td>Fatal</td>\n",
       "      <td>4.0</td>\n",
       "    </tr>\n",
       "    <tr>\n",
       "      <th>2</th>\n",
       "      <td>Fatal</td>\n",
       "      <td>3.0</td>\n",
       "    </tr>\n",
       "    <tr>\n",
       "      <th>3</th>\n",
       "      <td>Fatal</td>\n",
       "      <td>2.0</td>\n",
       "    </tr>\n",
       "    <tr>\n",
       "      <th>4</th>\n",
       "      <td>Fatal</td>\n",
       "      <td>1.0</td>\n",
       "    </tr>\n",
       "    <tr>\n",
       "      <th>5</th>\n",
       "      <td>Non-Fatal</td>\n",
       "      <td>0.0</td>\n",
       "    </tr>\n",
       "    <tr>\n",
       "      <th>6</th>\n",
       "      <td>Fatal</td>\n",
       "      <td>4.0</td>\n",
       "    </tr>\n",
       "    <tr>\n",
       "      <th>7</th>\n",
       "      <td>Non-Fatal</td>\n",
       "      <td>0.0</td>\n",
       "    </tr>\n",
       "    <tr>\n",
       "      <th>8</th>\n",
       "      <td>Non-Fatal</td>\n",
       "      <td>0.0</td>\n",
       "    </tr>\n",
       "    <tr>\n",
       "      <th>9</th>\n",
       "      <td>Non-Fatal</td>\n",
       "      <td>0.0</td>\n",
       "    </tr>\n",
       "    <tr>\n",
       "      <th>10</th>\n",
       "      <td>Non-Fatal</td>\n",
       "      <td>0.0</td>\n",
       "    </tr>\n",
       "    <tr>\n",
       "      <th>11</th>\n",
       "      <td>Non-Fatal</td>\n",
       "      <td>0.0</td>\n",
       "    </tr>\n",
       "    <tr>\n",
       "      <th>12</th>\n",
       "      <td>Non-Fatal</td>\n",
       "      <td>0.0</td>\n",
       "    </tr>\n",
       "    <tr>\n",
       "      <th>13</th>\n",
       "      <td>Fatal</td>\n",
       "      <td>1.0</td>\n",
       "    </tr>\n",
       "    <tr>\n",
       "      <th>14</th>\n",
       "      <td>Fatal</td>\n",
       "      <td>1.0</td>\n",
       "    </tr>\n",
       "    <tr>\n",
       "      <th>15</th>\n",
       "      <td>Fatal</td>\n",
       "      <td>2.0</td>\n",
       "    </tr>\n",
       "    <tr>\n",
       "      <th>16</th>\n",
       "      <td>Non-Fatal</td>\n",
       "      <td>0.0</td>\n",
       "    </tr>\n",
       "    <tr>\n",
       "      <th>17</th>\n",
       "      <td>Fatal</td>\n",
       "      <td>3.0</td>\n",
       "    </tr>\n",
       "    <tr>\n",
       "      <th>18</th>\n",
       "      <td>Non-Fatal</td>\n",
       "      <td>0.0</td>\n",
       "    </tr>\n",
       "    <tr>\n",
       "      <th>19</th>\n",
       "      <td>Non-Fatal</td>\n",
       "      <td>0.0</td>\n",
       "    </tr>\n",
       "  </tbody>\n",
       "</table>\n",
       "</div>"
      ],
      "text/plain": [
       "   injury_severity  total_fatal_injuries\n",
       "0            Fatal                   2.0\n",
       "1            Fatal                   4.0\n",
       "2            Fatal                   3.0\n",
       "3            Fatal                   2.0\n",
       "4            Fatal                   1.0\n",
       "5        Non-Fatal                   0.0\n",
       "6            Fatal                   4.0\n",
       "7        Non-Fatal                   0.0\n",
       "8        Non-Fatal                   0.0\n",
       "9        Non-Fatal                   0.0\n",
       "10       Non-Fatal                   0.0\n",
       "11       Non-Fatal                   0.0\n",
       "12       Non-Fatal                   0.0\n",
       "13           Fatal                   1.0\n",
       "14           Fatal                   1.0\n",
       "15           Fatal                   2.0\n",
       "16       Non-Fatal                   0.0\n",
       "17           Fatal                   3.0\n",
       "18       Non-Fatal                   0.0\n",
       "19       Non-Fatal                   0.0"
      ]
     },
     "execution_count": 28,
     "metadata": {},
     "output_type": "execute_result"
    }
   ],
   "source": [
    "#Check to confirm the Fatal change worked\n",
    "aviation_df[['injury_severity','total_fatal_injuries']].head(20)"
   ]
  },
  {
   "cell_type": "code",
   "execution_count": 29,
   "metadata": {},
   "outputs": [
    {
     "data": {
      "text/plain": [
       "Accident    82407\n",
       "Incident     3033\n",
       "Name: investigation_type, dtype: int64"
      ]
     },
     "execution_count": 29,
     "metadata": {},
     "output_type": "execute_result"
    }
   ],
   "source": [
    "aviation_df['investigation_type'].value_counts()"
   ]
  },
  {
   "cell_type": "markdown",
   "metadata": {},
   "source": [
    "## Focus on Accidents"
   ]
  },
  {
   "cell_type": "markdown",
   "metadata": {},
   "source": [
    "The investigation_type showed us that 69 entries were entered just with dates as the investigation type. \n",
    "Accident has many more entries than Incident. \n",
    "To narrow our focus and remove a variable, we decided to analyze only flights that were recorded as Accidents."
   ]
  },
  {
   "cell_type": "code",
   "execution_count": 30,
   "metadata": {},
   "outputs": [],
   "source": [
    "#Create subset of accidents\n",
    "accident_df = aviation_df.loc[aviation_df['investigation_type']=='Accident']"
   ]
  },
  {
   "cell_type": "code",
   "execution_count": 31,
   "metadata": {},
   "outputs": [
    {
     "name": "stdout",
     "output_type": "stream",
     "text": [
      "<class 'pandas.core.frame.DataFrame'>\n",
      "Int64Index: 82407 entries, 0 to 90347\n",
      "Data columns (total 33 columns):\n",
      " #   Column                  Non-Null Count  Dtype  \n",
      "---  ------                  --------------  -----  \n",
      " 0   event_id                82407 non-null  object \n",
      " 1   investigation_type      82407 non-null  object \n",
      " 2   accident_number         82407 non-null  object \n",
      " 3   event_date              82407 non-null  object \n",
      " 4   location                82407 non-null  object \n",
      " 5   country                 82360 non-null  object \n",
      " 6   latitude                32562 non-null  object \n",
      " 7   longitude               32553 non-null  object \n",
      " 8   airport_code            47882 non-null  object \n",
      " 9   airport_name            50341 non-null  object \n",
      " 10  injury_severity         82407 non-null  object \n",
      " 11  aircraft_damage         81194 non-null  object \n",
      " 12  aircraft_category       29032 non-null  object \n",
      " 13  registration_number     81786 non-null  object \n",
      " 14  make                    82378 non-null  object \n",
      " 15  model                   82359 non-null  object \n",
      " 16  amateur_built           82372 non-null  object \n",
      " 17  number_of_engines       79018 non-null  float64\n",
      " 18  engine_type             78030 non-null  object \n",
      " 19  far_description         28953 non-null  object \n",
      " 20  schedule                9363 non-null   object \n",
      " 21  purpose_of_flight       79367 non-null  object \n",
      " 22  air_carrier             13967 non-null  object \n",
      " 23  total_fatal_injuries    82407 non-null  float64\n",
      " 24  total_serious_injuries  82407 non-null  float64\n",
      " 25  total_minor_injuries    82407 non-null  float64\n",
      " 26  total_uninjured         82407 non-null  float64\n",
      " 27  weather_condition       80607 non-null  object \n",
      " 28  broad_phase_of_flight   59400 non-null  object \n",
      " 29  report_status           78504 non-null  object \n",
      " 30  publication_date        68386 non-null  object \n",
      " 31  state                   82407 non-null  object \n",
      " 32  region                  82407 non-null  object \n",
      "dtypes: float64(5), object(28)\n",
      "memory usage: 21.4+ MB\n"
     ]
    }
   ],
   "source": [
    "#Confirm that new df has 85015 entries\n",
    "accident_df.info()"
   ]
  },
  {
   "cell_type": "markdown",
   "metadata": {},
   "source": [
    "### Visual Analysis"
   ]
  },
  {
   "cell_type": "markdown",
   "metadata": {},
   "source": [
    "We decided to get quick and easy visuals of the categories we thought have the best chance of being correlated with accidents."
   ]
  },
  {
   "cell_type": "code",
   "execution_count": 32,
   "metadata": {},
   "outputs": [
    {
     "data": {
      "image/png": "[encoded data removed]",
      "text/plain": [
       "<Figure size 720x288 with 1 Axes>"
      ]
     },
     "metadata": {
      "needs_background": "light"
     },
     "output_type": "display_data"
    }
   ],
   "source": [
    "#Graph accidents vs 10 most common make of plane\n",
    "fig, ax = plt.subplots(figsize=(10,4))\n",
    "\n",
    "x = accident_df['make'].value_counts().nlargest(10).index\n",
    "y = accident_df['make'].value_counts().nlargest(10).values\n",
    "\n",
    "ax.set(xlabel=\"Make\", ylabel=\"Number of Accidents\",title='Number of Accidents per Make')\n",
    "\n",
    "\n",
    "ax.bar(x,y);"
   ]
  },
  {
   "cell_type": "code",
   "execution_count": 33,
   "metadata": {},
   "outputs": [
    {
     "data": {
      "image/png": "[encoded data removed]",
      "text/plain": [
       "<Figure size 720x288 with 1 Axes>"
      ]
     },
     "metadata": {
      "needs_background": "light"
     },
     "output_type": "display_data"
    }
   ],
   "source": [
    "#Graph accidents vs 10 most common models of plane\n",
    "fig, ax = plt.subplots(figsize=(10,4))\n",
    "\n",
    "x = accident_df['model'].value_counts().nlargest(10).index\n",
    "y = accident_df['model'].value_counts().nlargest(10).values\n",
    "\n",
    "ax.set(xlabel=\"Model\", ylabel=\"Number of Accidents\",title='Number of Accidents per Model')\n",
    "\n",
    "ax.bar(x,y);"
   ]
  },
  {
   "cell_type": "code",
   "execution_count": 34,
   "metadata": {},
   "outputs": [
    {
     "data": {
      "image/png": "[encoded data removed]",
      "text/plain": [
       "<Figure size 1080x288 with 1 Axes>"
      ]
     },
     "metadata": {
      "needs_background": "light"
     },
     "output_type": "display_data"
    }
   ],
   "source": [
    "#Graph accidents vs engine type of plane\n",
    "fig, ax = plt.subplots(figsize=(15,4))\n",
    "\n",
    "x = accident_df['engine_type'].value_counts().index\n",
    "y = accident_df['engine_type'].value_counts().values\n",
    "\n",
    "ax.set(xlabel=\"Engine Type\", ylabel=\"Number of Accidents\",title='Number of Accidents per Engine Type')\n",
    "\n",
    "ax.bar(x,y);"
   ]
  },
  {
   "cell_type": "code",
   "execution_count": 35,
   "metadata": {},
   "outputs": [
    {
     "data": {
      "image/png": "[encoded data removed]",
      "text/plain": [
       "<Figure size 1080x288 with 1 Axes>"
      ]
     },
     "metadata": {
      "needs_background": "light"
     },
     "output_type": "display_data"
    }
   ],
   "source": [
    "#Graph accidents vs most common number of engines\n",
    "fig, ax = plt.subplots(figsize=(15,4))\n",
    "\n",
    "x = accident_df['number_of_engines'].value_counts().nlargest().index\n",
    "y = accident_df['number_of_engines'].value_counts().nlargest().values\n",
    "\n",
    "ax.set(xlabel=\"Number of Engines\", ylabel=\"Number of Accidents\",title='Number of Accidents per Number of Engines')\n",
    "\n",
    "ax.bar(x,y);"
   ]
  },
  {
   "cell_type": "code",
   "execution_count": 36,
   "metadata": {},
   "outputs": [
    {
     "data": {
      "image/png": "[encoded data removed]",
      "text/plain": [
       "<Figure size 1080x288 with 1 Axes>"
      ]
     },
     "metadata": {
      "needs_background": "light"
     },
     "output_type": "display_data"
    }
   ],
   "source": [
    "#Graph accidents vs weather conditions\n",
    "#VMC stands for visual meteorological conditions and IMC stands for instrument meteorological conditions\n",
    "fig, ax = plt.subplots(figsize=(15,4))\n",
    "\n",
    "x = accident_df['weather_condition'].value_counts().nlargest().index\n",
    "y = accident_df['weather_condition'].value_counts().nlargest().values\n",
    "\n",
    "ax.set(xlabel=\"Weather Condition\", ylabel=\"Number of Accidents\",title='Number of Accidents per Weather Condition')\n",
    "\n",
    "ax.bar(x,y);"
   ]
  },
  {
   "cell_type": "code",
   "execution_count": 37,
   "metadata": {},
   "outputs": [
    {
     "data": {
      "image/png": "[encoded data removed]",
      "text/plain": [
       "<Figure size 1080x288 with 1 Axes>"
      ]
     },
     "metadata": {
      "needs_background": "light"
     },
     "output_type": "display_data"
    }
   ],
   "source": [
    "#Graph accidents vs 10 most common purpose of flight\n",
    "fig, ax = plt.subplots(figsize=(15,4))\n",
    "\n",
    "x = accident_df['purpose_of_flight'].value_counts().nlargest(10).index\n",
    "y = accident_df['purpose_of_flight'].value_counts().nlargest(10).values\n",
    "\n",
    "ax.set(xlabel=\"Purpose of Flight\", ylabel=\"Number of Accidents\",title='Number of Accidents per Purpose of Flight')\n",
    "\n",
    "ax.bar(x,y);"
   ]
  },
  {
   "cell_type": "code",
   "execution_count": 38,
   "metadata": {},
   "outputs": [
    {
     "data": {
      "text/plain": [
       "<BarContainer object of 10 artists>"
      ]
     },
     "execution_count": 38,
     "metadata": {},
     "output_type": "execute_result"
    },
    {
     "data": {
      "image/png": "[encoded data removed]",
      "text/plain": [
       "<Figure size 1080x288 with 1 Axes>"
      ]
     },
     "metadata": {
      "needs_background": "light"
     },
     "output_type": "display_data"
    }
   ],
   "source": [
    "#Graph accidents vs phase of flight\n",
    "\n",
    "fig, ax = plt.subplots(figsize=(15,4))\n",
    "\n",
    "x = accident_df['broad_phase_of_flight'].value_counts().nlargest(10).index\n",
    "y = accident_df['broad_phase_of_flight'].value_counts().nlargest(10).values\n",
    "\n",
    "ax.set(xlabel=\"Phase of Flight\", ylabel=\"Number of Accidents\",title='Number of Accidents per Phase of Flight')\n",
    "\n",
    "ax.bar(x,y)"
   ]
  },
  {
   "cell_type": "code",
   "execution_count": 39,
   "metadata": {},
   "outputs": [
    {
     "data": {
      "image/png": "[encoded data removed]",
      "text/plain": [
       "<Figure size 1080x288 with 1 Axes>"
      ]
     },
     "metadata": {
      "needs_background": "light"
     },
     "output_type": "display_data"
    }
   ],
   "source": [
    "#Plot accidents vs Top 10 countries \n",
    "fig, ax = plt.subplots(figsize=(15,4))\n",
    "\n",
    "x = accident_df['country'].value_counts().nlargest(10).index\n",
    "y = accident_df['country'].value_counts().nlargest(10).values\n",
    "\n",
    "ax.set(xlabel=\"Country\", ylabel=\"Number of Accidents\",title='Number of Accidents per Country')\n",
    "\n",
    "ax.bar(x,y);"
   ]
  },
  {
   "cell_type": "code",
   "execution_count": 40,
   "metadata": {},
   "outputs": [
    {
     "data": {
      "text/plain": [
       "United States       79826\n",
       "Brazil                285\n",
       "Mexico                283\n",
       "Australia             194\n",
       "Bahamas               193\n",
       "                    ...  \n",
       "Corsica                 1\n",
       "Papua New Guinea        1\n",
       "Liberia                 1\n",
       "Zambia                  1\n",
       "Qatar                   1\n",
       "Name: country, Length: 85, dtype: int64"
      ]
     },
     "execution_count": 40,
     "metadata": {},
     "output_type": "execute_result"
    }
   ],
   "source": [
    "accident_df['country'].value_counts()"
   ]
  },
  {
   "cell_type": "code",
   "execution_count": 41,
   "metadata": {},
   "outputs": [],
   "source": [
    "#Narrow dataset down to only accidents in US as this is where majority of data lies\n",
    "accident_df = accident_df.loc[accident_df['country']=='United States']"
   ]
  },
  {
   "cell_type": "code",
   "execution_count": 42,
   "metadata": {},
   "outputs": [
    {
     "data": {
      "text/plain": [
       "(79826, 33)"
      ]
     },
     "execution_count": 42,
     "metadata": {},
     "output_type": "execute_result"
    }
   ],
   "source": [
    "#Confirm subsetting worked\n",
    "accident_df.shape"
   ]
  },
  {
   "cell_type": "code",
   "execution_count": 43,
   "metadata": {},
   "outputs": [
    {
     "data": {
      "image/png": "[encoded data removed]",
      "text/plain": [
       "<Figure size 1080x288 with 1 Axes>"
      ]
     },
     "metadata": {
      "needs_background": "light"
     },
     "output_type": "display_data"
    }
   ],
   "source": [
    "#Plot accidents vs Regions\n",
    "fig, ax = plt.subplots(figsize=(15,4))\n",
    "\n",
    "x = accident_df['region'].value_counts().index\n",
    "y = accident_df['region'].value_counts().values\n",
    "\n",
    "ax.set(xlabel=\"Region\", ylabel=\"Number of Accidents\",title='Number of Accidents per Region')\n",
    "\n",
    "ax.bar(x,y);"
   ]
  },
  {
   "cell_type": "markdown",
   "metadata": {},
   "source": [
    "From the quick overviews given in the above bar graphs, we decided to focus on the Make, the Engine Type, and the Region. We decided on these three categories because they have ample data and each could have a unique correlation with accidents."
   ]
  },
  {
   "cell_type": "markdown",
   "metadata": {},
   "source": [
    "## Focus on Fatalities"
   ]
  },
  {
   "cell_type": "code",
   "execution_count": 44,
   "metadata": {},
   "outputs": [
    {
     "data": {
      "text/html": [
       "<div>\n",
       "<style scoped>\n",
       "    .dataframe tbody tr th:only-of-type {\n",
       "        vertical-align: middle;\n",
       "    }\n",
       "\n",
       "    .dataframe tbody tr th {\n",
       "        vertical-align: top;\n",
       "    }\n",
       "\n",
       "    .dataframe thead th {\n",
       "        text-align: right;\n",
       "    }\n",
       "</style>\n",
       "<table border=\"1\" class=\"dataframe\">\n",
       "  <thead>\n",
       "    <tr style=\"text-align: right;\">\n",
       "      <th></th>\n",
       "      <th>event_id</th>\n",
       "      <th>investigation_type</th>\n",
       "      <th>accident_number</th>\n",
       "      <th>event_date</th>\n",
       "      <th>location</th>\n",
       "      <th>country</th>\n",
       "      <th>latitude</th>\n",
       "      <th>longitude</th>\n",
       "      <th>airport_code</th>\n",
       "      <th>airport_name</th>\n",
       "      <th>...</th>\n",
       "      <th>total_fatal_injuries</th>\n",
       "      <th>total_serious_injuries</th>\n",
       "      <th>total_minor_injuries</th>\n",
       "      <th>total_uninjured</th>\n",
       "      <th>weather_condition</th>\n",
       "      <th>broad_phase_of_flight</th>\n",
       "      <th>report_status</th>\n",
       "      <th>publication_date</th>\n",
       "      <th>state</th>\n",
       "      <th>region</th>\n",
       "    </tr>\n",
       "  </thead>\n",
       "  <tbody>\n",
       "    <tr>\n",
       "      <th>0</th>\n",
       "      <td>20001218X45444</td>\n",
       "      <td>Accident</td>\n",
       "      <td>SEA87LA080</td>\n",
       "      <td>1948-10-24</td>\n",
       "      <td>MOOSE CREEK, ID</td>\n",
       "      <td>United States</td>\n",
       "      <td>NaN</td>\n",
       "      <td>NaN</td>\n",
       "      <td>NaN</td>\n",
       "      <td>NaN</td>\n",
       "      <td>...</td>\n",
       "      <td>2.0</td>\n",
       "      <td>0.0</td>\n",
       "      <td>0.0</td>\n",
       "      <td>0.0</td>\n",
       "      <td>UNK</td>\n",
       "      <td>Cruise</td>\n",
       "      <td>Probable Cause</td>\n",
       "      <td>NaN</td>\n",
       "      <td>ID</td>\n",
       "      <td>West</td>\n",
       "    </tr>\n",
       "    <tr>\n",
       "      <th>1</th>\n",
       "      <td>20001218X45447</td>\n",
       "      <td>Accident</td>\n",
       "      <td>LAX94LA336</td>\n",
       "      <td>1962-07-19</td>\n",
       "      <td>BRIDGEPORT, CA</td>\n",
       "      <td>United States</td>\n",
       "      <td>NaN</td>\n",
       "      <td>NaN</td>\n",
       "      <td>NaN</td>\n",
       "      <td>NaN</td>\n",
       "      <td>...</td>\n",
       "      <td>4.0</td>\n",
       "      <td>0.0</td>\n",
       "      <td>0.0</td>\n",
       "      <td>0.0</td>\n",
       "      <td>UNK</td>\n",
       "      <td>Unknown</td>\n",
       "      <td>Probable Cause</td>\n",
       "      <td>19-09-1996</td>\n",
       "      <td>CA</td>\n",
       "      <td>West</td>\n",
       "    </tr>\n",
       "    <tr>\n",
       "      <th>2</th>\n",
       "      <td>20061025X01555</td>\n",
       "      <td>Accident</td>\n",
       "      <td>NYC07LA005</td>\n",
       "      <td>1974-08-30</td>\n",
       "      <td>Saltville, VA</td>\n",
       "      <td>United States</td>\n",
       "      <td>36.9222</td>\n",
       "      <td>-81.8781</td>\n",
       "      <td>NaN</td>\n",
       "      <td>NaN</td>\n",
       "      <td>...</td>\n",
       "      <td>3.0</td>\n",
       "      <td>0.0</td>\n",
       "      <td>0.0</td>\n",
       "      <td>0.0</td>\n",
       "      <td>IMC</td>\n",
       "      <td>Cruise</td>\n",
       "      <td>Probable Cause</td>\n",
       "      <td>26-02-2007</td>\n",
       "      <td>VA</td>\n",
       "      <td>Southeast</td>\n",
       "    </tr>\n",
       "    <tr>\n",
       "      <th>4</th>\n",
       "      <td>20041105X01764</td>\n",
       "      <td>Accident</td>\n",
       "      <td>CHI79FA064</td>\n",
       "      <td>1979-08-02</td>\n",
       "      <td>Canton, OH</td>\n",
       "      <td>United States</td>\n",
       "      <td>NaN</td>\n",
       "      <td>NaN</td>\n",
       "      <td>NaN</td>\n",
       "      <td>NaN</td>\n",
       "      <td>...</td>\n",
       "      <td>1.0</td>\n",
       "      <td>2.0</td>\n",
       "      <td>0.0</td>\n",
       "      <td>0.0</td>\n",
       "      <td>VMC</td>\n",
       "      <td>Approach</td>\n",
       "      <td>Probable Cause</td>\n",
       "      <td>16-04-1980</td>\n",
       "      <td>OH</td>\n",
       "      <td>Midwest</td>\n",
       "    </tr>\n",
       "    <tr>\n",
       "      <th>6</th>\n",
       "      <td>20001218X45446</td>\n",
       "      <td>Accident</td>\n",
       "      <td>CHI81LA106</td>\n",
       "      <td>1981-08-01</td>\n",
       "      <td>COTTON, MN</td>\n",
       "      <td>United States</td>\n",
       "      <td>NaN</td>\n",
       "      <td>NaN</td>\n",
       "      <td>NaN</td>\n",
       "      <td>NaN</td>\n",
       "      <td>...</td>\n",
       "      <td>4.0</td>\n",
       "      <td>0.0</td>\n",
       "      <td>0.0</td>\n",
       "      <td>0.0</td>\n",
       "      <td>IMC</td>\n",
       "      <td>Unknown</td>\n",
       "      <td>Probable Cause</td>\n",
       "      <td>06-11-2001</td>\n",
       "      <td>MN</td>\n",
       "      <td>Midwest</td>\n",
       "    </tr>\n",
       "  </tbody>\n",
       "</table>\n",
       "<p>5 rows × 33 columns</p>\n",
       "</div>"
      ],
      "text/plain": [
       "         event_id investigation_type accident_number  event_date  \\\n",
       "0  20001218X45444           Accident      SEA87LA080  1948-10-24   \n",
       "1  20001218X45447           Accident      LAX94LA336  1962-07-19   \n",
       "2  20061025X01555           Accident      NYC07LA005  1974-08-30   \n",
       "4  20041105X01764           Accident      CHI79FA064  1979-08-02   \n",
       "6  20001218X45446           Accident      CHI81LA106  1981-08-01   \n",
       "\n",
       "          location        country latitude longitude airport_code  \\\n",
       "0  MOOSE CREEK, ID  United States      NaN       NaN          NaN   \n",
       "1   BRIDGEPORT, CA  United States      NaN       NaN          NaN   \n",
       "2    Saltville, VA  United States  36.9222  -81.8781          NaN   \n",
       "4       Canton, OH  United States      NaN       NaN          NaN   \n",
       "6       COTTON, MN  United States      NaN       NaN          NaN   \n",
       "\n",
       "  airport_name  ... total_fatal_injuries total_serious_injuries  \\\n",
       "0          NaN  ...                  2.0                    0.0   \n",
       "1          NaN  ...                  4.0                    0.0   \n",
       "2          NaN  ...                  3.0                    0.0   \n",
       "4          NaN  ...                  1.0                    2.0   \n",
       "6          NaN  ...                  4.0                    0.0   \n",
       "\n",
       "  total_minor_injuries total_uninjured weather_condition  \\\n",
       "0                  0.0             0.0               UNK   \n",
       "1                  0.0             0.0               UNK   \n",
       "2                  0.0             0.0               IMC   \n",
       "4                  0.0             0.0               VMC   \n",
       "6                  0.0             0.0               IMC   \n",
       "\n",
       "  broad_phase_of_flight   report_status  publication_date state     region  \n",
       "0                Cruise  Probable Cause               NaN    ID       West  \n",
       "1               Unknown  Probable Cause        19-09-1996    CA       West  \n",
       "2                Cruise  Probable Cause        26-02-2007    VA  Southeast  \n",
       "4              Approach  Probable Cause        16-04-1980    OH    Midwest  \n",
       "6               Unknown  Probable Cause        06-11-2001    MN    Midwest  \n",
       "\n",
       "[5 rows x 33 columns]"
      ]
     },
     "execution_count": 44,
     "metadata": {},
     "output_type": "execute_result"
    }
   ],
   "source": [
    "#Getting top 20 airplane makes for below make bar chart\n",
    "make_count = accident_df['make'].value_counts()\n",
    "top_20_make = make_count.head(20)\n",
    "make_subset = accident_df[accident_df['make'].isin(top_20_make.index)]\n",
    "make_subset.head()"
   ]
  },
  {
   "cell_type": "code",
   "execution_count": 45,
   "metadata": {},
   "outputs": [
    {
     "data": {
      "image/png": "[encoded data removed]",
      "text/plain": [
       "<Figure size 720x432 with 1 Axes>"
      ]
     },
     "metadata": {
      "needs_background": "light"
     },
     "output_type": "display_data"
    }
   ],
   "source": [
    "#graph of fatalities by make\n",
    "airplane_make = make_subset.groupby('make')['total_fatal_injuries'].sum()\n",
    "\n",
    "fig, ax = plt.subplots(figsize=(10, 6))\n",
    "\n",
    "ax.bar(airplane_make.index, airplane_make.values)\n",
    "\n",
    "ax.set_xlabel('Airplane Company')\n",
    "ax.set_ylabel('Total Fatal Injuries')\n",
    "ax.set_title('# of Fatal Injuries by Airplane Make')\n",
    "\n",
    "plt.xticks(rotation='vertical')  # Rotate x-axis labels vertically\n",
    "\n",
    "plt.tight_layout()\n",
    "plt.show()"
   ]
  },
  {
   "cell_type": "markdown",
   "metadata": {},
   "source": [
    "The bar graphs are helpful for an overview, but we also wanted to see how aspects changed over time. In order to do that, it's helpful to have a column just for year"
   ]
  },
  {
   "cell_type": "code",
   "execution_count": 46,
   "metadata": {},
   "outputs": [
    {
     "data": {
      "text/plain": [
       "Int64Index([1948, 1962, 1974, 1977, 1979, 1981, 1982, 1983, 1984, 1985, 1986,\n",
       "            1987, 1988, 1989, 1990, 1991, 1992, 1993, 1994, 1995, 1996, 1997,\n",
       "            1998, 1999, 2000, 2001, 2002, 2003, 2004, 2005, 2006, 2007, 2008,\n",
       "            2009, 2010, 2011, 2012, 2013, 2014, 2015, 2016, 2017, 2018, 2019,\n",
       "            2020, 2021, 2022],\n",
       "           dtype='int64')"
      ]
     },
     "execution_count": 46,
     "metadata": {},
     "output_type": "execute_result"
    }
   ],
   "source": [
    "#Create a year column that contains just the year as an integer\n",
    "accident_df['year'] = accident_df['event_date'].str[:4].astype(int)\n",
    "accident_df['year'].value_counts().index.sort_values()"
   ]
  },
  {
   "cell_type": "code",
   "execution_count": 47,
   "metadata": {},
   "outputs": [],
   "source": [
    "#Group sum of total fatalities, minor injuries, serious injuries, and uninjured by year\n",
    "sum_fatalities_per_year = accident_df.groupby('year')['total_fatal_injuries'].agg(['sum'])\n",
    "\n",
    "sum_minor_injuries_per_year = accident_df.groupby('year')['total_minor_injuries'].agg(['sum'])\n",
    "\n",
    "sum_serious_injuries_per_year = accident_df.groupby('year')['total_serious_injuries'].agg(['sum'])\n",
    "\n",
    "sum_uninjured_per_year = accident_df.groupby('year')['total_uninjured'].agg(['sum'])"
   ]
  },
  {
   "cell_type": "code",
   "execution_count": 48,
   "metadata": {},
   "outputs": [
    {
     "data": {
      "image/png": "[encoded data removed]",
      "text/plain": [
       "<Figure size 432x288 with 1 Axes>"
      ]
     },
     "metadata": {
      "needs_background": "light"
     },
     "output_type": "display_data"
    }
   ],
   "source": [
    "#Graph total fatalities per year\n",
    "ax = sns.lineplot(data=sum_fatalities_per_year)\n",
    "sns.set(rc={'figure.figsize':(15,4)})\n",
    "plt.show()"
   ]
  },
  {
   "cell_type": "markdown",
   "metadata": {},
   "source": [
    "From the graph, we noticed that there are many fatalities in the dataset. \n",
    "As that is the worst case scenario in an accident, we decided to hone in on that. \n",
    "We also noticed that there is not much data for that category before 1980."
   ]
  },
  {
   "cell_type": "code",
   "execution_count": 49,
   "metadata": {},
   "outputs": [],
   "source": [
    "#Subset the data from 1980 onwards b/c this is wher majority of data lies for fatalities\n",
    "accident_df = accident_df.loc[accident_df['year']>=1980]"
   ]
  },
  {
   "cell_type": "code",
   "execution_count": 50,
   "metadata": {},
   "outputs": [
    {
     "data": {
      "text/plain": [
       "Int64Index([1981, 1982, 1983, 1984, 1985, 1986, 1987, 1988, 1989, 1990, 1991,\n",
       "            1992, 1993, 1994, 1995, 1996, 1997, 1998, 1999, 2000, 2001, 2002,\n",
       "            2003, 2004, 2005, 2006, 2007, 2008, 2009, 2010, 2011, 2012, 2013,\n",
       "            2014, 2015, 2016, 2017, 2018, 2019, 2020, 2021, 2022],\n",
       "           dtype='int64')"
      ]
     },
     "execution_count": 50,
     "metadata": {},
     "output_type": "execute_result"
    }
   ],
   "source": [
    "#Confirm subset worked\n",
    "accident_df['year'].value_counts().index.sort_values()"
   ]
  },
  {
   "cell_type": "code",
   "execution_count": 51,
   "metadata": {},
   "outputs": [],
   "source": [
    "#Export accident_df to csv for further analysis in Tableau\n",
    "accident_df.to_csv('Data/cleaned_aviation.csv')"
   ]
  },
  {
   "cell_type": "markdown",
   "metadata": {},
   "source": [
    "## Results\n",
    "**Fatalities Associated with Each Specific Airplane Make.**\n",
    "\n",
    "In analyzing the airplane make, summation analysis simply showed that some Makes have large amounts of fatalities. \n",
    "\n",
    "![Fatalaties by Make (Summation)](https://github.com/pmjustafort/DSC-Phase1-Project-BEP/assets/137816262/aef42ed4-57c5-4e64-92ca-65a9f72acd16)\n",
    "\n",
    "\n",
    "However, once we plotted this over time, we observed that certain Makes, despite having a significant number of fatalities over the past 40 years have exhibited a consistent decrease in those numbers.\n",
    "\n",
    "![Fatalities by Make (Line)](https://github.com/pmjustafort/DSC-Phase1-Project-BEP/assets/137816262/4723356c-b053-44b2-b1c8-4e29f5d5b1b1)\n",
    "\n",
    "**Fatalities Associated with Engine Type.**\n",
    "\n",
    "In our analysis, we focused on the two most prevalent engine types in the dataset: the Reciprocating engine and the Turbofan engine. The Reciprocating engines exhibited a higher number of fatalities compared to Turbofan engines. However, they were also much more widespread across different airplane makes. Notably, we observed a downward trend among airplane makes utilizing reciprocating engines, indicating a decrease in fatalities over time. On the other hand, fatal accidents involving Turbofan engines were sporadic before 2005, but a consistent decrease in fatal accidents was observed thereafter. This trend may be attributed to the widespread popularity of Turbofan engines, potentially driving engineers to refine and perfect this engine type, resulting in improved safety measures and a reduction in fatal accidents.\n",
    "\n",
    "\n",
    "![Fatalities by Engine Type](https://github.com/pmjustafort/DSC-Phase1-Project-BEP/assets/137816262/e496b9fe-3c04-4ebe-861b-a45d1ef12353)\n",
    "\n",
    "\n",
    "**Fatalities By US Region.**\n",
    "\n",
    "Upon grouping the states by region, we observed distinct patterns regarding fatalities. The Southwest and Northeast regions stood out with the fewest recorded fatalities, while the Southeast and West regions exhibited the highest number of fatalities.\n",
    "\n",
    "![Fatalaties by Region (Summation)](https://github.com/pmjustafort/DSC-Phase1-Project-BEP/assets/137816262/838d1360-773e-4258-bbf2-48fdae0741c2)\n",
    "\n",
    " \n",
    "## **Conclusions**\n",
    "Based on the analysis conducted in this project, the following observations can be made:\n",
    "Airplane Make: By examining the decrease in fatalities over time as an indicator of improved airplane safety, Cessna and Piper stand out. Despite having higher numbers of fatalities from airplane crashes compared to other airplanes, both Cessna and Piper have shown a consistent decline in fatalities since 1980. This trend suggests advancements in the safety of their planes.\n",
    "\n",
    "Engine Type: Reciprocating and Turbo Fan engines have been associated with the highest number of fatalities from airplane crashes. However, it is important to note that these engine types are widely used, particularly Turbo Fan engines in commercial airplanes. Analyzing the data over time reveals a decline in fatalities, indicating potential technological advancements and improved safety. Notably, Turbo Fan engines have consistently demonstrated very low fatalities since 2005, highlighting their reliability and safety record.\n",
    "\n",
    "U.S. Region of Flight: Our analysis reveals that the Northeast region has exhibited relatively lower numbers of fatalities from plane crashes compared to other regions. With major international and domestic air travel hubs in cities like New York, Boston, and Washington, D.C., the Northeast region is a significant market for air travel and offers potential investment opportunities.\n",
    "\n",
    "These findings highlight the positive trends in airplane safety, particularly in the context of specific airplane makes, engine types, and U.S. regions of flight. They provide valuable insights for industry stakeholders, enabling them to make informed decisions regarding airplane selection, engine choices, and investment considerations.\n",
    "\n",
    "## **Next Steps**\n",
    "Based on the project findings, there are several potential next steps to further enhance the analysis of airplane safety and investment. These steps include:\n",
    "\n",
    "Gathering Additional Data: To make the recommendations more robust, it would be beneficial to obtain more data on the market share of each make of airplane. This would provide greater certainty in determining if a higher rate of fatalities is due to inherent safety issues or simply a result of a larger number of planes of that make in service.\n",
    "\n",
    "Comparing Fatalities to Successful Flights: By comparing the number of successful flights of each company to the crash data, we can identify types of airplanes that are underrepresented in the crash data, indicating exceptional safety records. This analysis would help highlight specific aircraft options that have a strong track record of safety.\n",
    "\n",
    "Exploring Weather Patterns: Incorporating data on weather patterns by region could provide insights into how different weather conditions may impact the number of plane crashes. This analysis would contribute to understanding whether certain regions have lower crash rates due to more favorable weather conditions.\n",
    "\n",
    "Considering Flight Types: Expanding the analysis to include more variation in the types of flights, such as commercial or private, and the size of airplanes, would help refine recommendations for entering the aviation industry. This would allow for tailored insights based on the specific flight contexts and aircraft types.\n",
    "\n",
    "By pursuing these next steps and further exploring the suggested variables, the analysis of airplane safety and investment could be strengthened, enabling more informed decision-making for companies in the aviation industry."
   ]
  },
  {
   "cell_type": "markdown",
   "metadata": {},
   "source": [
    "## Thank You! \n",
    "\n",
    "Thank you for taking the time to review our recommendations. <br>\n",
    "We hope this information helps and we look forward to working with you more on the next steps.\n",
    "\n",
    "Sincerely,<br>\n",
    "Bobby Daly, Em Jager, Paul Justafort <br>\n",
    "BEP Aviation"
   ]
  }
 ],
 "metadata": {
  "kernelspec": {
   "display_name": "Python (learn-env)",
   "language": "python",
   "name": "learn-env"
  },
  "language_info": {
   "codemirror_mode": {
    "name": "ipython",
    "version": 3
   },
   "file_extension": ".py",
   "mimetype": "text/x-python",
   "name": "python",
   "nbconvert_exporter": "python",
   "pygments_lexer": "ipython3",
   "version": "3.8.5"
  }
 },
 "nbformat": 4,
 "nbformat_minor": 4
}
